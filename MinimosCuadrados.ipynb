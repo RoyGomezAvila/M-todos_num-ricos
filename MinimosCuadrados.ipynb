{
  "cells": [
    {
      "cell_type": "markdown",
      "source": [
        "# **MÉTODO DE MÍNIMOS CUADRADOS**\n",
        "\n",
        "A lo largo de los cursos de matemáticas I, se han presentado fórmulas para conceptos tales como la relación de demanda de un producto particular, el costo de fabricar x cantidad de un artículo, el volumen de ventas como una función del gasto en publicidad, funciones de producción, etc. Al considerar ejercicios, se está en la afortunada posición de inventar nuestros propios ejemplos de estas funciones. Sin embargo, en situaciones reales, una empresa no puede inventar su propia función de costo, por ejemplo, si en vez de ello debe determinar esta función a partir de observaciones de sus operaciones."
      ],
      "metadata": {
        "id": "ihJvJRhxNLVg"
      }
    },
    {
      "cell_type": "markdown",
      "metadata": {
        "id": "6GYA9ufYurvd"
      },
      "source": [
        "# **Cuadrados mínimos**\n",
        "**Ejercicio:** Hallar la recta $y = a x + b$ que mejor aproxima los siguientes datos en el sentido de cuadrados mínimos.\n",
        "\n",
        "|x|1|2|4|6|\n",
        "| --- | --- | --- | --- | --- |\n",
        "|y|3|7|12|15|\n",
        "\n",
        "a) Utilizando la fórmula \n",
        "$$\n",
        "A^tA a = A^ty\n",
        "$$\n",
        "para la matriz $A$ apropiada.\n",
        "\n",
        "b\n",
        ") Utilizando polyfit"
      ]
    },
    {
      "cell_type": "code",
      "execution_count": null,
      "metadata": {
        "colab": {
          "base_uri": "https://localhost:8080/"
        },
        "id": "zKyj27hourvi",
        "outputId": "c7b3238a-84fe-4f6f-d980-b6f9d28bd803"
      },
      "outputs": [
        {
          "output_type": "execute_result",
          "data": {
            "text/plain": [
              "4"
            ]
          },
          "metadata": {},
          "execution_count": 1
        }
      ],
      "source": [
        "import numpy as np\n",
        "import matplotlib.pyplot as plt\n",
        "\n",
        "x = np.array([1,2,4,6])\n",
        "y = np.array([3,7,12,15])\n",
        "len(x)"
      ]
    },
    {
      "cell_type": "code",
      "execution_count": null,
      "metadata": {
        "colab": {
          "base_uri": "https://localhost:8080/",
          "height": 265
        },
        "id": "dj2smncnurvk",
        "outputId": "0ef27fcc-aadd-4db6-bfa5-4fa8f7cb0eaf"
      },
      "outputs": [
        {
          "output_type": "display_data",
          "data": {
            "text/plain": [
              "<Figure size 432x288 with 1 Axes>"
            ],
            "image/png": "[encoded data removed]"
          },
          "metadata": {
            "needs_background": "light"
          }
        }
      ],
      "source": [
        "plt.plot(x,y,'*')\n",
        "plt.show()"
      ]
    },
    {
      "cell_type": "code",
      "execution_count": null,
      "metadata": {
        "colab": {
          "base_uri": "https://localhost:8080/"
        },
        "id": "H1N3cVEMurvk",
        "outputId": "fcb4cb67-958b-46c1-cd63-32fd62edfac2"
      },
      "outputs": [
        {
          "output_type": "stream",
          "name": "stdout",
          "text": [
            "A traspuesta igual\n",
            " [[1. 1. 1. 1.]\n",
            " [1. 2. 4. 6.]]\n",
            "A=\n",
            " [[1. 1.]\n",
            " [1. 2.]\n",
            " [1. 4.]\n",
            " [1. 6.]]\n"
          ]
        }
      ],
      "source": [
        "unos = np.ones(4)\n",
        "#print(unos)\n",
        "At = np.array([unos, x])\n",
        "print('A traspuesta igual\\n',At)\n",
        "A = np.transpose(At)\n",
        "print('A=\\n',A)"
      ]
    },
    {
      "cell_type": "code",
      "execution_count": null,
      "metadata": {
        "colab": {
          "base_uri": "https://localhost:8080/"
        },
        "id": "sCT2Lt4Lurvl",
        "outputId": "706e9864-6969-430f-8d6e-9531015252b6"
      },
      "outputs": [
        {
          "output_type": "stream",
          "name": "stdout",
          "text": [
            "Matriz AtA\n",
            " [[ 4. 13.]\n",
            " [13. 57.]]\n",
            "Matriz Aty\n",
            " [ 37. 155.]\n"
          ]
        }
      ],
      "source": [
        "AtA = np.dot(At, A)\n",
        "print('Matriz AtA\\n',AtA)\n",
        "Aty = np.dot(At, y)\n",
        "print('Matriz Aty\\n',Aty)"
      ]
    },
    {
      "cell_type": "code",
      "execution_count": null,
      "metadata": {
        "colab": {
          "base_uri": "https://localhost:8080/"
        },
        "id": "Yr7dfiMHurvl",
        "outputId": "82947bd0-7939-4e96-e6ae-a7593333f994"
      },
      "outputs": [
        {
          "output_type": "stream",
          "name": "stdout",
          "text": [
            "[1.59322034 2.3559322 ]\n",
            " \n",
            "2.356 x + 1.593\n"
          ]
        }
      ],
      "source": [
        "a = np.linalg.solve(AtA, Aty)\n",
        "print(a)\n",
        "## p = 2.3559 * x + 1.59322\n",
        "p = np.poly1d([a[1], a[0]])\n",
        "print(p)"
      ]
    },
    {
      "cell_type": "code",
      "execution_count": null,
      "metadata": {
        "colab": {
          "base_uri": "https://localhost:8080/",
          "height": 265
        },
        "id": "tUkM5QQ1urvm",
        "outputId": "9ae7a3a5-19cf-45f9-f589-2e37b3d9d351"
      },
      "outputs": [
        {
          "output_type": "display_data",
          "data": {
            "text/plain": [
              "<Figure size 432x288 with 1 Axes>"
            ],
            "image/png": "[encoded data removed]"
          },
          "metadata": {
            "needs_background": "light"
          }
        }
      ],
      "source": [
        "xi = np.array([1,2,4,6])\n",
        "yi = np.array([3,7,12,15])\n",
        "plt.plot(xi,yi,'*')\n",
        "x = np.linspace(0, 7, 100)\n",
        "plt.plot(x, p(x))\n",
        "plt.show()"
      ]
    },
    {
      "cell_type": "code",
      "execution_count": null,
      "metadata": {
        "colab": {
          "base_uri": "https://localhost:8080/"
        },
        "id": "DLDS2zgAurvm",
        "outputId": "609be0f8-8202-4cdd-e33e-18f207628942"
      },
      "outputs": [
        {
          "output_type": "stream",
          "name": "stdout",
          "text": [
            "[2.3559322  1.59322034]\n",
            " \n",
            "2.356 x + 1.593\n"
          ]
        }
      ],
      "source": [
        "c = np.polyfit(xi,yi,1)\n",
        "print(c)\n",
        "p2 = np.poly1d(c)\n",
        "print(p2)"
      ]
    },
    {
      "cell_type": "markdown",
      "metadata": {
        "id": "H1sG4ap4urvn"
      },
      "source": [
        "c) Implementar una función **minimosCuadrados** que reciba un vector $x$ y un vector $y$ y devuelva la función lineal $f(x) = ax + b$ (como función de tipo poly1d) que aproxime los datos."
      ]
    },
    {
      "cell_type": "code",
      "execution_count": null,
      "metadata": {
        "colab": {
          "base_uri": "https://localhost:8080/"
        },
        "id": "qvsnLIq0urvn",
        "outputId": "b577b856-ea61-4fd7-9515-e711cffa1008"
      },
      "outputs": [
        {
          "output_type": "stream",
          "name": "stdout",
          "text": [
            " \n",
            "2.356 x + 1.593\n"
          ]
        }
      ],
      "source": [
        "def minimosCuadrados(x, y):\n",
        "  \n",
        "    n = len(x)\n",
        "    unos = np.ones(n)\n",
        "    At = np.array([unos, x])\n",
        "    A = np.transpose(At)\n",
        "    AtA = np.dot(At, A)\n",
        "    Aty = np.dot(At, y)\n",
        "    s = np.linalg.solve(AtA, Aty)\n",
        "    p = np.poly1d([s[1], s[0]])\n",
        "    return (p)\n",
        "\n",
        "p3 = minimosCuadrados(xi, yi)\n",
        "print(p3)    "
      ]
    },
    {
      "cell_type": "markdown",
      "source": [
        "## **EJERCICIO EN CLASE**\n",
        "\n",
        "Determine la ecuación de la recta por minimos cuadrados dados por $x_2$ e $y_2$ en la seccion de código que aparece a continuación."
      ],
      "metadata": {
        "id": "pCGmr3Jlu0kn"
      }
    },
    {
      "cell_type": "code",
      "execution_count": null,
      "metadata": {
        "id": "cl3YBxUbAWa5",
        "colab": {
          "base_uri": "https://localhost:8080/"
        },
        "outputId": "1c8d4199-68c3-46dc-a2eb-8c0b0368d13c"
      },
      "outputs": [
        {
          "output_type": "stream",
          "name": "stdout",
          "text": [
            " \n",
            "-1.05 x + 10.75\n"
          ]
        }
      ],
      "source": [
        "x2=np.array([1,3,7,9])\n",
        "y2=np.array([10,7,4,1])\n",
        "p4 = minimosCuadrados(x2, y2)\n",
        "print(p4)    "
      ]
    },
    {
      "cell_type": "markdown",
      "source": [
        "## **EJERCICIO EN CLASE**\n",
        "\n",
        "Determine la ecuación de la recta por minimos cuadrados dados por $u$ e $v$ en la seccion de código que aparece a continuación."
      ],
      "metadata": {
        "id": "JPoTTLkSvScX"
      }
    },
    {
      "cell_type": "code",
      "execution_count": null,
      "metadata": {
        "id": "L11i7ORL6P85",
        "colab": {
          "base_uri": "https://localhost:8080/"
        },
        "outputId": "f1aec893-f961-41c7-bdab-711a237fd741"
      },
      "outputs": [
        {
          "output_type": "stream",
          "name": "stdout",
          "text": [
            " \n",
            "1.6 x - 13\n"
          ]
        }
      ],
      "source": [
        "u=np.array([2,4,6,8])\n",
        "v=np.array([-10,-6,-4,0])\n",
        "p5 = minimosCuadrados(u, v)\n",
        "print(p5)  "
      ]
    },
    {
      "cell_type": "code",
      "execution_count": null,
      "metadata": {
        "id": "J0BFsKbblRqB",
        "colab": {
          "base_uri": "https://localhost:8080/"
        },
        "outputId": "bfa3f3b3-9a46-4755-82b6-8ffeaa5ed426"
      },
      "outputs": [
        {
          "output_type": "stream",
          "name": "stdout",
          "text": [
            " \n",
            "2 x + 3\n"
          ]
        }
      ],
      "source": [
        "#EJERCICIO EN CLASE\n",
        "u1=np.array([1,2,3,4])\n",
        "v1=np.array([5,7,9,11])\n",
        "p6 = minimosCuadrados(u1, v1)\n",
        "print(p6)  "
      ]
    },
    {
      "cell_type": "markdown",
      "metadata": {
        "id": "JLib9XjOl5rj"
      },
      "source": [
        "# **EJERCICIO EN CLASE**\n",
        "\n",
        "Emplee la funcion minimos cuadrados, para encontrar la mejor curva lineal que ajuste los siguientes datos:\n",
        "\n",
        "$x =[5, 10, 20, 30, 40, 50, 60, 70, 80, 90, 100])$\n",
        "\n",
        "$y =[0, 19, 57, 94, 134, 173, 216, 256, 297, 343, 390])$\n",
        "\n"
      ]
    },
    {
      "cell_type": "code",
      "execution_count": null,
      "metadata": {
        "id": "hyw_uzCdmOTt",
        "colab": {
          "base_uri": "https://localhost:8080/"
        },
        "outputId": "9159bb78-08e2-4029-d49d-d4e6216a41fd"
      },
      "outputs": [
        {
          "output_type": "stream",
          "name": "stdout",
          "text": [
            " \n",
            "4.069 x - 25.41\n"
          ]
        }
      ],
      "source": [
        "#Escribe código aquí.\n",
        "\n",
        "x = np.array([5, 10, 20, 30, 40, 50, 60, 70, 80, 90, 100])\n",
        "y = np.array([0, 19, 57, 94, 134, 173, 216, 256, 297, 343, 390])\n",
        "p7 = minimosCuadrados(x, y)\n",
        "print(p7)  "
      ]
    },
    {
      "cell_type": "code",
      "execution_count": null,
      "metadata": {
        "colab": {
          "base_uri": "https://localhost:8080/"
        },
        "id": "XYw6gBdonnAx",
        "outputId": "b9d3f483-7d9a-4bbb-9856-67d2ee20575f"
      },
      "outputs": [
        {
          "output_type": "execute_result",
          "data": {
            "text/plain": [
              "(array([  4.06933045, -25.40712743]),\n",
              " array([[ 2.00971741e-03, -1.01399379e-01],\n",
              "        [-1.01399379e-01,  7.03857852e+00]]))"
            ]
          },
          "metadata": {},
          "execution_count": 13
        }
      ],
      "source": [
        "#Otra manera de calcular regresiones empleando curve_fit\n",
        "\n",
        "from scipy import stats as st\n",
        "from scipy import optimize\n",
        "\n",
        "x = np.array([5, 10, 20, 30, 40, 50, 60, 70, 80, 90, 100])\n",
        "y = np.array([0, 19, 57, 94, 134, 173, 216, 256, 297, 343, 390])\n",
        "\n",
        "optimize.curve_fit(lambda  t,a,b:a*t+b, x, y)"
      ]
    },
    {
      "cell_type": "markdown",
      "metadata": {
        "id": "swiZapPJurvo"
      },
      "source": [
        "## **EJEMPLO PRÁCTICO I** \n",
        "\n",
        "Leer el archivo casos_coronavirus.csv\n",
        "\n",
        "a) Graficar la curva de casos por día. \n",
        "\n",
        "b) Graficar la curva de casos acumulados.\n",
        "\n",
        "c) Definir $y$ como el logaritmo de la cantidad de casos acumualdos y calcular la recta que mejor aproxima esos datos.\n",
        "\n",
        "d) Repetir el punto c) utilizando solo los datos a partir del dia 30."
      ]
    },
    {
      "cell_type": "code",
      "source": [
        "import pandas as pd\n",
        "import numpy as np\n",
        "import matplotlib.pyplot as plt\n",
        "from google.colab import files"
      ],
      "metadata": {
        "id": "8mX2zactCZk1"
      },
      "execution_count": null,
      "outputs": []
    },
    {
      "cell_type": "code",
      "source": [
        "uploaded = files.upload()"
      ],
      "metadata": {
        "colab": {
          "base_uri": "https://localhost:8080/",
          "height": 74
        },
        "id": "rSCl24AAEe6T",
        "outputId": "aebace65-9ef8-4399-b3a0-5d9a829492a5"
      },
      "execution_count": null,
      "outputs": [
        {
          "output_type": "display_data",
          "data": {
            "text/plain": [
              "<IPython.core.display.HTML object>"
            ],
            "text/html": [
              "\n",
              "     <input type=\"file\" id=\"files-d0ba4284-0912-440e-aa72-74092cb199cf\" name=\"files[]\" multiple disabled\n",
              "        style=\"border:none\" />\n",
              "     <output id=\"result-d0ba4284-0912-440e-aa72-74092cb199cf\">\n",
              "      Upload widget is only available when the cell has been executed in the\n",
              "      current browser session. Please rerun this cell to enable.\n",
              "      </output>\n",
              "      <script>// Copyright 2017 Google LLC\n",
              "//\n",
              "// Licensed under the Apache License, Version 2.0 (the \"License\");\n",
              "// you may not use this file except in compliance with the License.\n",
              "// You may obtain a copy of the License at\n",
              "//\n",
              "//      http://www.apache.org/licenses/LICENSE-2.0\n",
              "//\n",
              "// Unless required by applicable law or agreed to in writing, software\n",
              "// distributed under the License is distributed on an \"AS IS\" BASIS,\n",
              "// WITHOUT WARRANTIES OR CONDITIONS OF ANY KIND, either express or implied.\n",
              "// See the License for the specific language governing permissions and\n",
              "// limitations under the License.\n",
              "\n",
              "/**\n",
              " * @fileoverview Helpers for google.colab Python module.\n",
              " */\n",
              "(function(scope) {\n",
              "function span(text, styleAttributes = {}) {\n",
              "  const element = document.createElement('span');\n",
              "  element.textContent = text;\n",
              "  for (const key of Object.keys(styleAttributes)) {\n",
              "    element.style[key] = styleAttributes[key];\n",
              "  }\n",
              "  return element;\n",
              "}\n",
              "\n",
              "// Max number of bytes which will be uploaded at a time.\n",
              "const MAX_PAYLOAD_SIZE = 100 * 1024;\n",
              "\n",
              "function _uploadFiles(inputId, outputId) {\n",
              "  const steps = uploadFilesStep(inputId, outputId);\n",
              "  const outputElement = document.getElementById(outputId);\n",
              "  // Cache steps on the outputElement to make it available for the next call\n",
              "  // to uploadFilesContinue from Python.\n",
              "  outputElement.steps = steps;\n",
              "\n",
              "  return _uploadFilesContinue(outputId);\n",
              "}\n",
              "\n",
              "// This is roughly an async generator (not supported in the browser yet),\n",
              "// where there are multiple asynchronous steps and the Python side is going\n",
              "// to poll for completion of each step.\n",
              "// This uses a Promise to block the python side on completion of each step,\n",
              "// then passes the result of the previous step as the input to the next step.\n",
              "function _uploadFilesContinue(outputId) {\n",
              "  const outputElement = document.getElementById(outputId);\n",
              "  const steps = outputElement.steps;\n",
              "\n",
              "  const next = steps.next(outputElement.lastPromiseValue);\n",
              "  return Promise.resolve(next.value.promise).then((value) => {\n",
              "    // Cache the last promise value to make it available to the next\n",
              "    // step of the generator.\n",
              "    outputElement.lastPromiseValue = value;\n",
              "    return next.value.response;\n",
              "  });\n",
              "}\n",
              "\n",
              "/**\n",
              " * Generator function which is called between each async step of the upload\n",
              " * process.\n",
              " * @param {string} inputId Element ID of the input file picker element.\n",
              " * @param {string} outputId Element ID of the output display.\n",
              " * @return {!Iterable<!Object>} Iterable of next steps.\n",
              " */\n",
              "function* uploadFilesStep(inputId, outputId) {\n",
              "  const inputElement = document.getElementById(inputId);\n",
              "  inputElement.disabled = false;\n",
              "\n",
              "  const outputElement = document.getElementById(outputId);\n",
              "  outputElement.innerHTML = '';\n",
              "\n",
              "  const pickedPromise = new Promise((resolve) => {\n",
              "    inputElement.addEventListener('change', (e) => {\n",
              "      resolve(e.target.files);\n",
              "    });\n",
              "  });\n",
              "\n",
              "  const cancel = document.createElement('button');\n",
              "  inputElement.parentElement.appendChild(cancel);\n",
              "  cancel.textContent = 'Cancel upload';\n",
              "  const cancelPromise = new Promise((resolve) => {\n",
              "    cancel.onclick = () => {\n",
              "      resolve(null);\n",
              "    };\n",
              "  });\n",
              "\n",
              "  // Wait for the user to pick the files.\n",
              "  const files = yield {\n",
              "    promise: Promise.race([pickedPromise, cancelPromise]),\n",
              "    response: {\n",
              "      action: 'starting',\n",
              "    }\n",
              "  };\n",
              "\n",
              "  cancel.remove();\n",
              "\n",
              "  // Disable the input element since further picks are not allowed.\n",
              "  inputElement.disabled = true;\n",
              "\n",
              "  if (!files) {\n",
              "    return {\n",
              "      response: {\n",
              "        action: 'complete',\n",
              "      }\n",
              "    };\n",
              "  }\n",
              "\n",
              "  for (const file of files) {\n",
              "    const li = document.createElement('li');\n",
              "    li.append(span(file.name, {fontWeight: 'bold'}));\n",
              "    li.append(span(\n",
              "        `(${file.type || 'n/a'}) - ${file.size} bytes, ` +\n",
              "        `last modified: ${\n",
              "            file.lastModifiedDate ? file.lastModifiedDate.toLocaleDateString() :\n",
              "                                    'n/a'} - `));\n",
              "    const percent = span('0% done');\n",
              "    li.appendChild(percent);\n",
              "\n",
              "    outputElement.appendChild(li);\n",
              "\n",
              "    const fileDataPromise = new Promise((resolve) => {\n",
              "      const reader = new FileReader();\n",
              "      reader.onload = (e) => {\n",
              "        resolve(e.target.result);\n",
              "      };\n",
              "      reader.readAsArrayBuffer(file);\n",
              "    });\n",
              "    // Wait for the data to be ready.\n",
              "    let fileData = yield {\n",
              "      promise: fileDataPromise,\n",
              "      response: {\n",
              "        action: 'continue',\n",
              "      }\n",
              "    };\n",
              "\n",
              "    // Use a chunked sending to avoid message size limits. See b/62115660.\n",
              "    let position = 0;\n",
              "    do {\n",
              "      const length = Math.min(fileData.byteLength - position, MAX_PAYLOAD_SIZE);\n",
              "      const chunk = new Uint8Array(fileData, position, length);\n",
              "      position += length;\n",
              "\n",
              "      const base64 = btoa(String.fromCharCode.apply(null, chunk));\n",
              "      yield {\n",
              "        response: {\n",
              "          action: 'append',\n",
              "          file: file.name,\n",
              "          data: base64,\n",
              "        },\n",
              "      };\n",
              "\n",
              "      let percentDone = fileData.byteLength === 0 ?\n",
              "          100 :\n",
              "          Math.round((position / fileData.byteLength) * 100);\n",
              "      percent.textContent = `${percentDone}% done`;\n",
              "\n",
              "    } while (position < fileData.byteLength);\n",
              "  }\n",
              "\n",
              "  // All done.\n",
              "  yield {\n",
              "    response: {\n",
              "      action: 'complete',\n",
              "    }\n",
              "  };\n",
              "}\n",
              "\n",
              "scope.google = scope.google || {};\n",
              "scope.google.colab = scope.google.colab || {};\n",
              "scope.google.colab._files = {\n",
              "  _uploadFiles,\n",
              "  _uploadFilesContinue,\n",
              "};\n",
              "})(self);\n",
              "</script> "
            ]
          },
          "metadata": {}
        },
        {
          "output_type": "stream",
          "name": "stdout",
          "text": [
            "Saving _5_casos_coronavirus.csv to _5_casos_coronavirus.csv\n"
          ]
        }
      ]
    },
    {
      "cell_type": "code",
      "execution_count": null,
      "metadata": {
        "id": "2Koz4yKPurvo"
      },
      "outputs": [],
      "source": [
        "datos = pd.read_csv(\"_5_casos_coronavirus.csv\", sep=',')   #dataFrame"
      ]
    },
    {
      "cell_type": "code",
      "execution_count": null,
      "metadata": {
        "id": "1h2QMb3iurvo",
        "colab": {
          "base_uri": "https://localhost:8080/",
          "height": 423
        },
        "outputId": "1a6b5d66-62b5-42c9-ce35-44a10a77ff2d"
      },
      "outputs": [
        {
          "output_type": "execute_result",
          "data": {
            "text/plain": [
              "       fecha  confirmados_Nuevos  confirmados_Acumulado\n",
              "0   3-3-2020                 1.0                    1.0\n",
              "1   4-3-2020                 0.0                    1.0\n",
              "2   5-3-2020                 1.0                    2.0\n",
              "3   6-3-2020                 6.0                    8.0\n",
              "4   7-3-2020                 0.0                    8.0\n",
              "..       ...                 ...                    ...\n",
              "92  3-6-2020               949.0                19268.0\n",
              "93  4-6-2020               929.0                20197.0\n",
              "94  5-6-2020               840.0                21037.0\n",
              "95  6-6-2020               983.0                22020.0\n",
              "96       NaN                 NaN                    NaN\n",
              "\n",
              "[97 rows x 3 columns]"
            ],
            "text/html": [
              "\n",
              "  <div id=\"df-c415ef19-fb37-4da4-83ce-05aec5dd0528\">\n",
              "    <div class=\"colab-df-container\">\n",
              "      <div>\n",
              "<style scoped>\n",
              "    .dataframe tbody tr th:only-of-type {\n",
              "        vertical-align: middle;\n",
              "    }\n",
              "\n",
              "    .dataframe tbody tr th {\n",
              "        vertical-align: top;\n",
              "    }\n",
              "\n",
              "    .dataframe thead th {\n",
              "        text-align: right;\n",
              "    }\n",
              "</style>\n",
              "<table border=\"1\" class=\"dataframe\">\n",
              "  <thead>\n",
              "    <tr style=\"text-align: right;\">\n",
              "      <th></th>\n",
              "      <th>fecha</th>\n",
              "      <th>confirmados_Nuevos</th>\n",
              "      <th>confirmados_Acumulado</th>\n",
              "    </tr>\n",
              "  </thead>\n",
              "  <tbody>\n",
              "    <tr>\n",
              "      <th>0</th>\n",
              "      <td>3-3-2020</td>\n",
              "      <td>1.0</td>\n",
              "      <td>1.0</td>\n",
              "    </tr>\n",
              "    <tr>\n",
              "      <th>1</th>\n",
              "      <td>4-3-2020</td>\n",
              "      <td>0.0</td>\n",
              "      <td>1.0</td>\n",
              "    </tr>\n",
              "    <tr>\n",
              "      <th>2</th>\n",
              "      <td>5-3-2020</td>\n",
              "      <td>1.0</td>\n",
              "      <td>2.0</td>\n",
              "    </tr>\n",
              "    <tr>\n",
              "      <th>3</th>\n",
              "      <td>6-3-2020</td>\n",
              "      <td>6.0</td>\n",
              "      <td>8.0</td>\n",
              "    </tr>\n",
              "    <tr>\n",
              "      <th>4</th>\n",
              "      <td>7-3-2020</td>\n",
              "      <td>0.0</td>\n",
              "      <td>8.0</td>\n",
              "    </tr>\n",
              "    <tr>\n",
              "      <th>...</th>\n",
              "      <td>...</td>\n",
              "      <td>...</td>\n",
              "      <td>...</td>\n",
              "    </tr>\n",
              "    <tr>\n",
              "      <th>92</th>\n",
              "      <td>3-6-2020</td>\n",
              "      <td>949.0</td>\n",
              "      <td>19268.0</td>\n",
              "    </tr>\n",
              "    <tr>\n",
              "      <th>93</th>\n",
              "      <td>4-6-2020</td>\n",
              "      <td>929.0</td>\n",
              "      <td>20197.0</td>\n",
              "    </tr>\n",
              "    <tr>\n",
              "      <th>94</th>\n",
              "      <td>5-6-2020</td>\n",
              "      <td>840.0</td>\n",
              "      <td>21037.0</td>\n",
              "    </tr>\n",
              "    <tr>\n",
              "      <th>95</th>\n",
              "      <td>6-6-2020</td>\n",
              "      <td>983.0</td>\n",
              "      <td>22020.0</td>\n",
              "    </tr>\n",
              "    <tr>\n",
              "      <th>96</th>\n",
              "      <td>NaN</td>\n",
              "      <td>NaN</td>\n",
              "      <td>NaN</td>\n",
              "    </tr>\n",
              "  </tbody>\n",
              "</table>\n",
              "<p>97 rows × 3 columns</p>\n",
              "</div>\n",
              "      <button class=\"colab-df-convert\" onclick=\"convertToInteractive('df-c415ef19-fb37-4da4-83ce-05aec5dd0528')\"\n",
              "              title=\"Convert this dataframe to an interactive table.\"\n",
              "              style=\"display:none;\">\n",
              "        \n",
              "  <svg xmlns=\"http://www.w3.org/2000/svg\" height=\"24px\"viewBox=\"0 0 24 24\"\n",
              "       width=\"24px\">\n",
              "    <path d=\"M0 0h24v24H0V0z\" fill=\"none\"/>\n",
              "    <path d=\"M18.56 5.44l.94 2.06.94-2.06 2.06-.94-2.06-.94-.94-2.06-.94 2.06-2.06.94zm-11 1L8.5 8.5l.94-2.06 2.06-.94-2.06-.94L8.5 2.5l-.94 2.06-2.06.94zm10 10l.94 2.06.94-2.06 2.06-.94-2.06-.94-.94-2.06-.94 2.06-2.06.94z\"/><path d=\"M17.41 7.96l-1.37-1.37c-.4-.4-.92-.59-1.43-.59-.52 0-1.04.2-1.43.59L10.3 9.45l-7.72 7.72c-.78.78-.78 2.05 0 2.83L4 21.41c.39.39.9.59 1.41.59.51 0 1.02-.2 1.41-.59l7.78-7.78 2.81-2.81c.8-.78.8-2.07 0-2.86zM5.41 20L4 18.59l7.72-7.72 1.47 1.35L5.41 20z\"/>\n",
              "  </svg>\n",
              "      </button>\n",
              "      \n",
              "  <style>\n",
              "    .colab-df-container {\n",
              "      display:flex;\n",
              "      flex-wrap:wrap;\n",
              "      gap: 12px;\n",
              "    }\n",
              "\n",
              "    .colab-df-convert {\n",
              "      background-color: #E8F0FE;\n",
              "      border: none;\n",
              "      border-radius: 50%;\n",
              "      cursor: pointer;\n",
              "      display: none;\n",
              "      fill: #1967D2;\n",
              "      height: 32px;\n",
              "      padding: 0 0 0 0;\n",
              "      width: 32px;\n",
              "    }\n",
              "\n",
              "    .colab-df-convert:hover {\n",
              "      background-color: #E2EBFA;\n",
              "      box-shadow: 0px 1px 2px rgba(60, 64, 67, 0.3), 0px 1px 3px 1px rgba(60, 64, 67, 0.15);\n",
              "      fill: #174EA6;\n",
              "    }\n",
              "\n",
              "    [theme=dark] .colab-df-convert {\n",
              "      background-color: #3B4455;\n",
              "      fill: #D2E3FC;\n",
              "    }\n",
              "\n",
              "    [theme=dark] .colab-df-convert:hover {\n",
              "      background-color: #434B5C;\n",
              "      box-shadow: 0px 1px 3px 1px rgba(0, 0, 0, 0.15);\n",
              "      filter: drop-shadow(0px 1px 2px rgba(0, 0, 0, 0.3));\n",
              "      fill: #FFFFFF;\n",
              "    }\n",
              "  </style>\n",
              "\n",
              "      <script>\n",
              "        const buttonEl =\n",
              "          document.querySelector('#df-c415ef19-fb37-4da4-83ce-05aec5dd0528 button.colab-df-convert');\n",
              "        buttonEl.style.display =\n",
              "          google.colab.kernel.accessAllowed ? 'block' : 'none';\n",
              "\n",
              "        async function convertToInteractive(key) {\n",
              "          const element = document.querySelector('#df-c415ef19-fb37-4da4-83ce-05aec5dd0528');\n",
              "          const dataTable =\n",
              "            await google.colab.kernel.invokeFunction('convertToInteractive',\n",
              "                                                     [key], {});\n",
              "          if (!dataTable) return;\n",
              "\n",
              "          const docLinkHtml = 'Like what you see? Visit the ' +\n",
              "            '<a target=\"_blank\" href=https://colab.research.google.com/notebooks/data_table.ipynb>data table notebook</a>'\n",
              "            + ' to learn more about interactive tables.';\n",
              "          element.innerHTML = '';\n",
              "          dataTable['output_type'] = 'display_data';\n",
              "          await google.colab.output.renderOutput(dataTable, element);\n",
              "          const docLink = document.createElement('div');\n",
              "          docLink.innerHTML = docLinkHtml;\n",
              "          element.appendChild(docLink);\n",
              "        }\n",
              "      </script>\n",
              "    </div>\n",
              "  </div>\n",
              "  "
            ]
          },
          "metadata": {},
          "execution_count": 18
        }
      ],
      "source": [
        "datos"
      ]
    },
    {
      "cell_type": "code",
      "execution_count": null,
      "metadata": {
        "id": "M_KpBzbUurvp",
        "colab": {
          "base_uri": "https://localhost:8080/"
        },
        "outputId": "1431043f-b848-4604-c998-2ad81fc5f521"
      },
      "outputs": [
        {
          "output_type": "stream",
          "name": "stdout",
          "text": [
            "[['3-3-2020' 1.0 1.0]\n",
            " ['4-3-2020' 0.0 1.0]\n",
            " ['5-3-2020' 1.0 2.0]\n",
            " ['6-3-2020' 6.0 8.0]\n",
            " ['7-3-2020' 0.0 8.0]\n",
            " ['8-3-2020' 3.0 12.0]\n",
            " ['9-3-2020' 5.0 17.0]\n",
            " ['10-3-2020' 2.0 19.0]\n",
            " ['11-3-2020' 2.0 21.0]\n",
            " ['12-3-2020' 10.0 31.0]\n",
            " ['13-3-2020' 3.0 34.0]\n",
            " ['14-3-2020' 11.0 45.0]\n",
            " ['15-3-2020' 11.0 56.0]\n",
            " ['16-3-2020' 9.0 65.0]\n",
            " ['17-3-2020' 14.0 79.0]\n",
            " ['18-3-2020' 19.0 97.0]\n",
            " ['19-3-2020' 31.0 128.0]\n",
            " ['20-3-2020' 30.0 158.0]\n",
            " ['21-3-2020' 67.0 225.0]\n",
            " ['22-3-2020' 41.0 266.0]\n",
            " ['23-3-2020' 36.0 301.0]\n",
            " ['24-3-2020' 86.0 387.0]\n",
            " ['25-3-2020' 117.0 502.0]\n",
            " ['26-3-2020' 87.0 589.0]\n",
            " ['27-3-2020' 101.0 690.0]\n",
            " ['28-3-2020' 55.0 745.0]\n",
            " ['29-3-2020' 75.0 820.0]\n",
            " ['30-3-2020' 146.0 966.0]\n",
            " ['31-3-2020' 88.0 1054.0]\n",
            " ['1-4-2020' 79.0 1133.0]\n",
            " ['2-4-2020' 132.0 1265.0]\n",
            " ['3-4-2020' 88.0 1353.0]\n",
            " ['4-4-2020' 98.0 1451.0]\n",
            " ['5-4-2020' 103.0 1554.0]\n",
            " ['6-4-2020' 74.0 1628.0]\n",
            " ['7-4-2020' 87.0 1715.0]\n",
            " ['8-4-2020' 80.0 1795.0]\n",
            " ['9-4-2020' 99.0 1894.0]\n",
            " ['10-4-2020' 81.0 1975.0]\n",
            " ['11-4-2020' 167.0 2142.0]\n",
            " ['12-4-2020' 66.0 2208.0]\n",
            " ['13-4-2020' 69.0 2277.0]\n",
            " ['14-4-2020' 166.0 2443.0]\n",
            " ['15-4-2020' 128.0 2571.0]\n",
            " ['16-4-2020' 98.0 2669.0]\n",
            " ['17-4-2020' 88.0 2758.0]\n",
            " ['18-4-2020' 81.0 2839.0]\n",
            " ['19-4-2020' 102.0 2941.0]\n",
            " ['20-4-2020' 90.0 3031.0]\n",
            " ['21-4-2020' 112.0 3144.0]\n",
            " ['22-4-2020' 144.0 3288.0]\n",
            " ['23-4-2020' 147.0 3435.0]\n",
            " ['24-4-2020' 172.0 3607.0]\n",
            " ['25-4-2020' 173.0 3780.0]\n",
            " ['26-4-2020' 112.0 3892.0]\n",
            " ['27-4-2020' 111.0 4003.0]\n",
            " ['28-4-2020' 124.0 4127.0]\n",
            " ['29-4-2020' 158.0 4285.0]\n",
            " ['30-4-2020' 143.0 4428.0]\n",
            " ['1-5-2020' 105.0 4532.0]\n",
            " ['2-5-2020' 149.0 4681.0]\n",
            " ['3-5-2020' 103.0 4783.0]\n",
            " ['4-5-2020' 104.0 4887.0]\n",
            " ['5-5-2020' 133.0 5020.0]\n",
            " ['6-5-2020' 188.0 5208.0]\n",
            " ['7-5-2020' 163.0 5371.0]\n",
            " ['8-5-2020' 240.0 5611.0]\n",
            " ['9-5-2020' 165.0 5776.0]\n",
            " ['10-5-2020' 258.0 6034.0]\n",
            " ['11-5-2020' 244.0 6278.0]\n",
            " ['12-5-2020' 285.0 6563.0]\n",
            " ['13-5-2020' 316.0 6879.0]\n",
            " ['14-5-2020' 255.0 7134.0]\n",
            " ['15-5-2020' 345.0 7479.0]\n",
            " ['16-5-2020' 326.0 7805.0]\n",
            " ['17-5-2020' 263.0 8068.0]\n",
            " ['18-5-2020' 303.0 8371.0]\n",
            " ['19-5-2020' 438.0 8809.0]\n",
            " ['20-5-2020' 474.0 9283.0]\n",
            " ['21-5-2020' 648.0 9931.0]\n",
            " ['22-5-2020' 718.0 10649.0]\n",
            " ['23-5-2020' 704.0 11353.0]\n",
            " ['24-5-2020' 723.0 12076.0]\n",
            " ['25-5-2020' 552.0 12628.0]\n",
            " ['26-5-2020' 600.0 13228.0]\n",
            " ['27-5-2020' 706.0 13933.0]\n",
            " ['28-5-2020' 769.0 14702.0]\n",
            " ['29-5-2020' 717.0 15419.0]\n",
            " ['30-5-2020' 795.0 16214.0]\n",
            " ['31-5-2020' 637.0 16851.0]\n",
            " ['1-6-2020' 564.0 17415.0]\n",
            " ['2-6-2020' 904.0 18319.0]\n",
            " ['3-6-2020' 949.0 19268.0]\n",
            " ['4-6-2020' 929.0 20197.0]\n",
            " ['5-6-2020' 840.0 21037.0]\n",
            " ['6-6-2020' 983.0 22020.0]\n",
            " [nan nan nan]]\n"
          ]
        }
      ],
      "source": [
        "# Convertimos los datos a np.array\n",
        "datosNP = datos.to_numpy()\n",
        "print(datosNP)"
      ]
    },
    {
      "cell_type": "code",
      "execution_count": null,
      "metadata": {
        "id": "6_wh1kx-urvp",
        "colab": {
          "base_uri": "https://localhost:8080/",
          "height": 265
        },
        "outputId": "b70d0319-6911-434b-e78c-d06505e6bb5c"
      },
      "outputs": [
        {
          "output_type": "display_data",
          "data": {
            "text/plain": [
              "<Figure size 432x288 with 1 Axes>"
            ],
            "image/png": "[encoded data removed]"
          },
          "metadata": {
            "needs_background": "light"
          }
        }
      ],
      "source": [
        "x = np.arange(97)\n",
        "#print(x)\n",
        "plt.plot(x, datosNP[:,2])\n",
        "plt.show()"
      ]
    },
    {
      "cell_type": "code",
      "execution_count": null,
      "metadata": {
        "colab": {
          "base_uri": "https://localhost:8080/",
          "height": 265
        },
        "id": "5bBv3C8Vurvq",
        "outputId": "e76d2aa2-d17c-400d-83a7-c10020a31d4f"
      },
      "outputs": [
        {
          "output_type": "display_data",
          "data": {
            "text/plain": [
              "<Figure size 432x288 with 1 Axes>"
            ],
            "image/png": "[encoded data removed]"
          },
          "metadata": {
            "needs_background": "light"
          }
        }
      ],
      "source": [
        "y = np.log(np.float64(datosNP[:,2]))\n",
        "#print(y)\n",
        "plt.plot(x,y)\n",
        "plt.show()"
      ]
    },
    {
      "cell_type": "code",
      "execution_count": null,
      "metadata": {
        "colab": {
          "base_uri": "https://localhost:8080/",
          "height": 265
        },
        "id": "xXZN5Uqeurvr",
        "outputId": "5331e988-e97c-4abd-ede1-aca0ca60ea4d"
      },
      "outputs": [
        {
          "output_type": "display_data",
          "data": {
            "text/plain": [
              "<Figure size 432x288 with 1 Axes>"
            ],
            "image/png": "[encoded data removed]"
          },
          "metadata": {
            "needs_background": "light"
          }
        }
      ],
      "source": [
        "x30 = x[30:96]\n",
        "y30 = y[30:96]\n",
        "plt.plot(x30, y30,'o')\n",
        "plt.show()"
      ]
    },
    {
      "cell_type": "code",
      "execution_count": null,
      "metadata": {
        "colab": {
          "base_uri": "https://localhost:8080/",
          "height": 302
        },
        "id": "jZKu0C3Yurvr",
        "outputId": "65db38a7-07b6-4b79-a126-c09c24237aac"
      },
      "outputs": [
        {
          "output_type": "stream",
          "name": "stdout",
          "text": [
            " \n",
            "0.0412 x + 5.999\n"
          ]
        },
        {
          "output_type": "display_data",
          "data": {
            "text/plain": [
              "<Figure size 432x288 with 1 Axes>"
            ],
            "image/png": "[encoded data removed]"
          },
          "metadata": {
            "needs_background": "light"
          }
        }
      ],
      "source": [
        "p = minimosCuadrados(x30, y30)\n",
        "plt.plot(x, y,'o')\n",
        "plt.plot(x, p(x),'r--')\n",
        "print(p)"
      ]
    },
    {
      "cell_type": "markdown",
      "metadata": {
        "id": "xWoVvVN99bVb"
      },
      "source": [
        "### **Ejercicio en clase**\n",
        "\n",
        "Emplear la función minimos cuadrados para encontrar la mejor curva de ajuste a los datos dados la siguiente tabla\n",
        "\n",
        "$x=[17,19,20,22,23,25,28,31,32,33,36,37,38,39,41]$\n",
        "\n",
        "$y=[19,25,32,51,57,71,113,141,123,187,192,205,252,259,294]$\n",
        "\n",
        "Escribe la mejor represetacion $y=ax^b$ de estos datos empleando curve_fit."
      ]
    },
    {
      "cell_type": "code",
      "execution_count": null,
      "metadata": {
        "colab": {
          "base_uri": "https://localhost:8080/"
        },
        "id": "8jl-XQr3Gxyk",
        "outputId": "cf3b0eab-8624-444b-c8ec-9bf877740ae9"
      },
      "outputs": [
        {
          "output_type": "execute_result",
          "data": {
            "text/plain": [
              "(array([0.00749076, 2.85013312]), array([[ 1.85229232e-05, -6.86821988e-04],\n",
              "        [-6.86821988e-04,  2.55014793e-02]]))"
            ]
          },
          "metadata": {},
          "execution_count": 28
        }
      ],
      "source": [
        "x=[17,19,20,22,23,25,28,31,32,33,36,37,38,39,41]\n",
        "y=[19,25,32,51,57,71,113,141,123,187,192,205,252,259,294]\n",
        "optimize.curve_fit(lambda  x,c1,c2:c1*x**c2,x, y)"
      ]
    },
    {
      "cell_type": "code",
      "execution_count": null,
      "metadata": {
        "colab": {
          "base_uri": "https://localhost:8080/",
          "height": 390
        },
        "id": "YPxrFVUr-H0Z",
        "outputId": "0b8188cf-cf8e-4a34-ae6c-ed9e5945c1ee"
      },
      "outputs": [
        {
          "output_type": "display_data",
          "data": {
            "text/plain": [
              "<Figure size 864x432 with 1 Axes>"
            ],
            "image/png": "[encoded data removed]"
          },
          "metadata": {
            "needs_background": "light"
          }
        }
      ],
      "source": [
        "t=np.linspace(15,45,100)\n",
        "\n",
        "plt.figure(figsize=(12,6))\n",
        "plt.plot(x,y,'ro',label=\"Diametro-Volumen\")\n",
        "plt.plot(t,0.00749076*t**2.85013312,'b-')\n",
        "plt.title(\"Comparación de la Pinus ponderosa entre diametro y volumen del tronco\")\n",
        "plt.show()"
      ]
    },
    {
      "cell_type": "markdown",
      "metadata": {
        "id": "Orhl8VLYyI7h"
      },
      "source": [
        "# **Mínimos cuadrados para sumas de funciones**\n",
        "\n",
        "Para datos $(t_j, y_j)$, $1 \\le j \\le m$ queremos ajustar una función del tipo \n",
        "$$\n",
        "y = c_1 f_1(t) + \\dots + c_s f_s(t)\n",
        "$$\n",
        "\n",
        "Ejemplo: $y = a + b t + c t^2$.\n",
        "\n",
        "RECORDAR: reemplazando los valores de $t$ e $y$ por los datos en la tabla obtenemos un sistema **lineal** de ecuaciones, donde las incógnitas son los $c_i$:\n",
        "\n",
        "$$\n",
        "\\begin{align}\n",
        "y_1 &= c_1 f_1(t_1) + \\dots + c_s f_1(t_s) \\\\\n",
        "&\\vdots\\\\\n",
        "y_m &= c_1 f_m(t_1) + \\dots + c_s f_m(t_s)\n",
        "\\end{align}\n",
        "$$\n",
        "\n",
        "Cuando tenemos más datos (ecuaciones) que incógnitas, usamos mínimos cuadrados para obtener una solución aproximada.\n",
        "\n"
      ]
    },
    {
      "cell_type": "markdown",
      "metadata": {
        "id": "VOPUn9h6yPA0"
      },
      "source": [
        "## **EJERCICIO EN CLASE**\n",
        "a) Implementar una función que reciba un vector $t \\in R^m$, un vector $y \\in R^m$ y funciones $F = (f_1, \\dots, f_s)$ y devuelva el vector de coeficientes $(c_1, \\dots, c_s)$ que mejor ajusta la ecuación $y = a_1 f_1(t) + \\dots + a_s f_s(t)$ en el sentido de mínimos cuadrados.\n",
        "\n",
        "b) Utilizar la función implementada para ajustar una función del tipo\n",
        "$$\n",
        "y = c_1 t^2 + c_2 e^t + c_3 t\n",
        "$$\n",
        "a los datos\n",
        "\n",
        "|t|1|2|4|6|8|\n",
        "| --- | --- | --- | --- | --- | --- |\n",
        "|y|6|10|10|8|10|"
      ]
    },
    {
      "cell_type": "code",
      "execution_count": null,
      "metadata": {
        "id": "IxxjXPc3yLPW"
      },
      "outputs": [],
      "source": [
        "#a) Hacemos primero un programa para construir la matriz A\n",
        "import numpy as np\n",
        "import matplotlib.pyplot as plt\n",
        "\n",
        "# F = [f1, f2, ..., fs]\n",
        "def matrizAF(t, F):\n",
        "    s = len(F)\n",
        "    m = len(t)\n",
        "    A = np.zeros((m,s))\n",
        "    for i in range(s):\n",
        "        A[:,i] = F[i](t)\n",
        "    return(A)"
      ]
    },
    {
      "cell_type": "code",
      "execution_count": null,
      "metadata": {
        "colab": {
          "base_uri": "https://localhost:8080/"
        },
        "id": "xrtEkjPCySka",
        "outputId": "065183b3-32b0-40c7-8a25-7b1b9e99b537"
      },
      "outputs": [
        {
          "output_type": "stream",
          "name": "stdout",
          "text": [
            "[[1.00000000e+00 2.71828183e+00 1.00000000e+00]\n",
            " [4.00000000e+00 7.38905610e+00 2.00000000e+00]\n",
            " [1.60000000e+01 5.45981500e+01 4.00000000e+00]\n",
            " [3.60000000e+01 4.03428793e+02 6.00000000e+00]\n",
            " [6.40000000e+01 2.98095799e+03 8.00000000e+00]]\n"
          ]
        }
      ],
      "source": [
        "# Lo probamos con las funciones del ejercicio\n",
        "def f1(t):\n",
        "    return(t**2)\n",
        "\n",
        "def f2(t):\n",
        "    return(np.e**t)\n",
        "\n",
        "def f3(t):\n",
        "    return(t)\n",
        "\n",
        "F = [f1, f2, f3]\n",
        "ti = np.array([1, 2, 4, 6, 8])\n",
        "yi = np.array([6, 10, 10, 8, 10])\n",
        "\n",
        "A = matrizAF(ti, F)\n",
        "print(A)"
      ]
    },
    {
      "cell_type": "code",
      "execution_count": null,
      "metadata": {
        "colab": {
          "base_uri": "https://localhost:8080/"
        },
        "id": "CiMgRfUhyVAx",
        "outputId": "be392589-a81d-406c-977b-dcea67036454"
      },
      "outputs": [
        {
          "output_type": "stream",
          "name": "stdout",
          "text": [
            "[-9.37735395e-01  6.16733396e-03  6.46005171e+00]\n"
          ]
        }
      ],
      "source": [
        "# Usamos el programa anterior para resolver el problema de mínomos cuadrados\n",
        "# Resolvemos At * A * c = At * y\n",
        "def solveMinCuad(A, y):\n",
        "    At = np.transpose(A)\n",
        "    AtA = np.dot(At, A)\n",
        "    Aty = np.dot(At, y)\n",
        "    c = np.linalg.solve(AtA, Aty)\n",
        "    return(c)\n",
        "\n",
        "c = solveMinCuad(A, yi)\n",
        "print(c)"
      ]
    },
    {
      "cell_type": "code",
      "execution_count": null,
      "metadata": {
        "colab": {
          "base_uri": "https://localhost:8080/",
          "height": 265
        },
        "id": "z9KNxvWvyYfp",
        "outputId": "12910f64-be26-47c4-ad19-5fb952572221"
      },
      "outputs": [
        {
          "output_type": "display_data",
          "data": {
            "text/plain": [
              "<Figure size 432x288 with 1 Axes>"
            ],
            "image/png": "[encoded data removed]"
          },
          "metadata": {
            "needs_background": "light"
          }
        }
      ],
      "source": [
        "# Verificamos gráficamente\n",
        "t = np.linspace(0, 9, 100)\n",
        "y = c[0]*f1(t) + c[1]*f2(t) + c[2]*f3(t)\n",
        "plt.plot(t, y)\n",
        "plt.plot(ti, yi,'*')\n",
        "plt.show()"
      ]
    },
    {
      "cell_type": "code",
      "execution_count": null,
      "metadata": {
        "colab": {
          "base_uri": "https://localhost:8080/"
        },
        "id": "NSXM_nGzEya8",
        "outputId": "c6908e86-2910-4488-99d5-7f1e507f5080"
      },
      "outputs": [
        {
          "output_type": "execute_result",
          "data": {
            "text/plain": [
              "(array([-9.37735387e-01,  6.16733388e-03,  6.46005167e+00]),\n",
              " array([[ 1.73562694e-02, -1.64440985e-04, -7.88760941e-02],\n",
              "        [-1.64440985e-04,  1.93811537e-06,  6.64042785e-04],\n",
              "        [-7.88760941e-02,  6.64042785e-04,  3.86891911e-01]]))"
            ]
          },
          "metadata": {},
          "execution_count": 34
        }
      ],
      "source": [
        "optimize.curve_fit(lambda  x,c1,c2,c3:c1*x**2+c2*np.exp(x)+c3*x,ti, yi)"
      ]
    },
    {
      "cell_type": "markdown",
      "metadata": {
        "id": "Iog6hHxhyeb9"
      },
      "source": [
        "c) Repetir para una función de la forma\n",
        "$$\n",
        "y = c_1 + c_2 t^2 + c_3 \\sin(t)\n",
        "$$"
      ]
    },
    {
      "cell_type": "code",
      "execution_count": null,
      "metadata": {
        "colab": {
          "base_uri": "https://localhost:8080/"
        },
        "id": "aJD5KZc3yaxQ",
        "outputId": "1b82dd3f-fa07-445c-afda-7f0e7bfe04ea"
      },
      "outputs": [
        {
          "output_type": "stream",
          "name": "stdout",
          "text": [
            "[[ 1.          1.          0.84147098]\n",
            " [ 1.          4.          0.90929743]\n",
            " [ 1.         16.         -0.7568025 ]\n",
            " [ 1.         36.         -0.2794155 ]\n",
            " [ 1.         64.          0.98935825]]\n"
          ]
        }
      ],
      "source": [
        "# Lo probamos con las funciones del ejercicio\n",
        "def f1(t):\n",
        "    return(1)\n",
        "\n",
        "def f2(t):\n",
        "    return(t**2)\n",
        "\n",
        "def f3(t):\n",
        "    return(np.sin(t))\n",
        "\n",
        "F = [f1, f2, f3]\n",
        "ti = np.array([1, 2, 4, 6, 8])\n",
        "yi = np.array([6, 10, 10, 8, 10])\n",
        "\n",
        "A = matrizAF(ti, F)\n",
        "print(A)"
      ]
    },
    {
      "cell_type": "code",
      "execution_count": null,
      "metadata": {
        "colab": {
          "base_uri": "https://localhost:8080/"
        },
        "id": "aVVO3jZNyhet",
        "outputId": "1b68e90c-8d90-46bb-ae75-8f29b33502cf"
      },
      "outputs": [
        {
          "output_type": "stream",
          "name": "stdout",
          "text": [
            "[ 8.29044708  0.0258294  -0.33898073]\n"
          ]
        }
      ],
      "source": [
        "c = solveMinCuad(A, yi)\n",
        "print(c)"
      ]
    },
    {
      "cell_type": "code",
      "execution_count": null,
      "metadata": {
        "colab": {
          "base_uri": "https://localhost:8080/",
          "height": 265
        },
        "id": "2a5Z_w27ykb_",
        "outputId": "02158aac-ce9e-4878-aa62-d2e46f6b01d2"
      },
      "outputs": [
        {
          "output_type": "display_data",
          "data": {
            "text/plain": [
              "<Figure size 432x288 with 1 Axes>"
            ],
            "image/png": "[encoded data removed]"
          },
          "metadata": {
            "needs_background": "light"
          }
        }
      ],
      "source": [
        "# Verificamos gráficamente\n",
        "t = np.linspace(0, 9, 100)\n",
        "y = c[0]*f1(t) + c[1]*f2(t) + c[2]*f3(t)\n",
        "plt.plot(t, y)\n",
        "plt.plot(ti, yi, '.')\n",
        "plt.show()"
      ]
    },
    {
      "cell_type": "markdown",
      "metadata": {
        "id": "FUtS9ISKyyQv"
      },
      "source": [
        "## **EJEMPLO PRÁCTICO II**\n",
        "Estimar por mínimos cuadrados la amplitud $A$ y la fase $\\phi$ de la oscilación\n",
        "$$\n",
        "b(t) = A \\sin(2t + \\phi)\n",
        "$$\n",
        "a partir de los datos en el archivo oscilacion.csv.\n",
        "\n",
        "Sugerencia: linealizar la función $b(t)$ usando la identidad trigonométrica\n",
        "$$\n",
        "\\sin(A + B) = \\sin(A) \\cos(B) + \\cos(A) \\sin(B)\n",
        "$$\n",
        "y los reemplazos:\n",
        "$$\n",
        "\\alpha = A \\cos(\\phi), \\quad \\beta = A \\sin(\\phi)\n",
        "$$"
      ]
    },
    {
      "cell_type": "markdown",
      "metadata": {
        "id": "IMZ7nppSyzXx"
      },
      "source": [
        "**Resolución.** Linealizamos la función:\n",
        "$$\n",
        "b(t) = A (\\sin(2t)\\cos(\\phi) + \\cos(2t)\\sin(\\phi)) = A \\cos(\\phi) (\\sin(2t))  + A \\sin(\\phi) \\cos(2t)\n",
        "$$\n",
        "y llamando $\\alpha = A \\cos(\\phi)$ y $\\beta = A \\sin(\\phi)$ obtenemos el problema:\n",
        "$$\n",
        "b(t) = \\alpha \\sin(2t) + \\beta \\cos(2t)\n",
        "$$\n",
        "que está en la forma buscada tomando $f_1(t) = \\sin(2t)$ y $f_2(t) = \\cos(2t)$.\n"
      ]
    },
    {
      "cell_type": "code",
      "execution_count": null,
      "metadata": {
        "colab": {
          "base_uri": "https://localhost:8080/",
          "height": 74
        },
        "id": "bZ45OvHhymfn",
        "outputId": "ce0a8ea6-dbf1-4035-95cb-43d1131b5aba"
      },
      "outputs": [
        {
          "output_type": "display_data",
          "data": {
            "text/plain": [
              "<IPython.core.display.HTML object>"
            ],
            "text/html": [
              "\n",
              "     <input type=\"file\" id=\"files-bd2aa897-0898-478c-a65f-c5b60fbb65a5\" name=\"files[]\" multiple disabled\n",
              "        style=\"border:none\" />\n",
              "     <output id=\"result-bd2aa897-0898-478c-a65f-c5b60fbb65a5\">\n",
              "      Upload widget is only available when the cell has been executed in the\n",
              "      current browser session. Please rerun this cell to enable.\n",
              "      </output>\n",
              "      <script>// Copyright 2017 Google LLC\n",
              "//\n",
              "// Licensed under the Apache License, Version 2.0 (the \"License\");\n",
              "// you may not use this file except in compliance with the License.\n",
              "// You may obtain a copy of the License at\n",
              "//\n",
              "//      http://www.apache.org/licenses/LICENSE-2.0\n",
              "//\n",
              "// Unless required by applicable law or agreed to in writing, software\n",
              "// distributed under the License is distributed on an \"AS IS\" BASIS,\n",
              "// WITHOUT WARRANTIES OR CONDITIONS OF ANY KIND, either express or implied.\n",
              "// See the License for the specific language governing permissions and\n",
              "// limitations under the License.\n",
              "\n",
              "/**\n",
              " * @fileoverview Helpers for google.colab Python module.\n",
              " */\n",
              "(function(scope) {\n",
              "function span(text, styleAttributes = {}) {\n",
              "  const element = document.createElement('span');\n",
              "  element.textContent = text;\n",
              "  for (const key of Object.keys(styleAttributes)) {\n",
              "    element.style[key] = styleAttributes[key];\n",
              "  }\n",
              "  return element;\n",
              "}\n",
              "\n",
              "// Max number of bytes which will be uploaded at a time.\n",
              "const MAX_PAYLOAD_SIZE = 100 * 1024;\n",
              "\n",
              "function _uploadFiles(inputId, outputId) {\n",
              "  const steps = uploadFilesStep(inputId, outputId);\n",
              "  const outputElement = document.getElementById(outputId);\n",
              "  // Cache steps on the outputElement to make it available for the next call\n",
              "  // to uploadFilesContinue from Python.\n",
              "  outputElement.steps = steps;\n",
              "\n",
              "  return _uploadFilesContinue(outputId);\n",
              "}\n",
              "\n",
              "// This is roughly an async generator (not supported in the browser yet),\n",
              "// where there are multiple asynchronous steps and the Python side is going\n",
              "// to poll for completion of each step.\n",
              "// This uses a Promise to block the python side on completion of each step,\n",
              "// then passes the result of the previous step as the input to the next step.\n",
              "function _uploadFilesContinue(outputId) {\n",
              "  const outputElement = document.getElementById(outputId);\n",
              "  const steps = outputElement.steps;\n",
              "\n",
              "  const next = steps.next(outputElement.lastPromiseValue);\n",
              "  return Promise.resolve(next.value.promise).then((value) => {\n",
              "    // Cache the last promise value to make it available to the next\n",
              "    // step of the generator.\n",
              "    outputElement.lastPromiseValue = value;\n",
              "    return next.value.response;\n",
              "  });\n",
              "}\n",
              "\n",
              "/**\n",
              " * Generator function which is called between each async step of the upload\n",
              " * process.\n",
              " * @param {string} inputId Element ID of the input file picker element.\n",
              " * @param {string} outputId Element ID of the output display.\n",
              " * @return {!Iterable<!Object>} Iterable of next steps.\n",
              " */\n",
              "function* uploadFilesStep(inputId, outputId) {\n",
              "  const inputElement = document.getElementById(inputId);\n",
              "  inputElement.disabled = false;\n",
              "\n",
              "  const outputElement = document.getElementById(outputId);\n",
              "  outputElement.innerHTML = '';\n",
              "\n",
              "  const pickedPromise = new Promise((resolve) => {\n",
              "    inputElement.addEventListener('change', (e) => {\n",
              "      resolve(e.target.files);\n",
              "    });\n",
              "  });\n",
              "\n",
              "  const cancel = document.createElement('button');\n",
              "  inputElement.parentElement.appendChild(cancel);\n",
              "  cancel.textContent = 'Cancel upload';\n",
              "  const cancelPromise = new Promise((resolve) => {\n",
              "    cancel.onclick = () => {\n",
              "      resolve(null);\n",
              "    };\n",
              "  });\n",
              "\n",
              "  // Wait for the user to pick the files.\n",
              "  const files = yield {\n",
              "    promise: Promise.race([pickedPromise, cancelPromise]),\n",
              "    response: {\n",
              "      action: 'starting',\n",
              "    }\n",
              "  };\n",
              "\n",
              "  cancel.remove();\n",
              "\n",
              "  // Disable the input element since further picks are not allowed.\n",
              "  inputElement.disabled = true;\n",
              "\n",
              "  if (!files) {\n",
              "    return {\n",
              "      response: {\n",
              "        action: 'complete',\n",
              "      }\n",
              "    };\n",
              "  }\n",
              "\n",
              "  for (const file of files) {\n",
              "    const li = document.createElement('li');\n",
              "    li.append(span(file.name, {fontWeight: 'bold'}));\n",
              "    li.append(span(\n",
              "        `(${file.type || 'n/a'}) - ${file.size} bytes, ` +\n",
              "        `last modified: ${\n",
              "            file.lastModifiedDate ? file.lastModifiedDate.toLocaleDateString() :\n",
              "                                    'n/a'} - `));\n",
              "    const percent = span('0% done');\n",
              "    li.appendChild(percent);\n",
              "\n",
              "    outputElement.appendChild(li);\n",
              "\n",
              "    const fileDataPromise = new Promise((resolve) => {\n",
              "      const reader = new FileReader();\n",
              "      reader.onload = (e) => {\n",
              "        resolve(e.target.result);\n",
              "      };\n",
              "      reader.readAsArrayBuffer(file);\n",
              "    });\n",
              "    // Wait for the data to be ready.\n",
              "    let fileData = yield {\n",
              "      promise: fileDataPromise,\n",
              "      response: {\n",
              "        action: 'continue',\n",
              "      }\n",
              "    };\n",
              "\n",
              "    // Use a chunked sending to avoid message size limits. See b/62115660.\n",
              "    let position = 0;\n",
              "    do {\n",
              "      const length = Math.min(fileData.byteLength - position, MAX_PAYLOAD_SIZE);\n",
              "      const chunk = new Uint8Array(fileData, position, length);\n",
              "      position += length;\n",
              "\n",
              "      const base64 = btoa(String.fromCharCode.apply(null, chunk));\n",
              "      yield {\n",
              "        response: {\n",
              "          action: 'append',\n",
              "          file: file.name,\n",
              "          data: base64,\n",
              "        },\n",
              "      };\n",
              "\n",
              "      let percentDone = fileData.byteLength === 0 ?\n",
              "          100 :\n",
              "          Math.round((position / fileData.byteLength) * 100);\n",
              "      percent.textContent = `${percentDone}% done`;\n",
              "\n",
              "    } while (position < fileData.byteLength);\n",
              "  }\n",
              "\n",
              "  // All done.\n",
              "  yield {\n",
              "    response: {\n",
              "      action: 'complete',\n",
              "    }\n",
              "  };\n",
              "}\n",
              "\n",
              "scope.google = scope.google || {};\n",
              "scope.google.colab = scope.google.colab || {};\n",
              "scope.google.colab._files = {\n",
              "  _uploadFiles,\n",
              "  _uploadFilesContinue,\n",
              "};\n",
              "})(self);\n",
              "</script> "
            ]
          },
          "metadata": {}
        },
        {
          "output_type": "stream",
          "name": "stdout",
          "text": [
            "Saving _5_oscilaciones.csv to _5_oscilaciones.csv\n"
          ]
        }
      ],
      "source": [
        "uploaded = files.upload()"
      ]
    },
    {
      "cell_type": "code",
      "execution_count": null,
      "metadata": {
        "id": "rY94Z6Lmy45O"
      },
      "outputs": [],
      "source": [
        "import pandas as pd   \n",
        "datos = pd.read_csv(\"_5_oscilaciones.csv\",sep=',')"
      ]
    },
    {
      "cell_type": "code",
      "execution_count": null,
      "metadata": {
        "colab": {
          "base_uri": "https://localhost:8080/",
          "height": 363
        },
        "id": "MtYX1O1ey9uN",
        "outputId": "5a7dfe78-6d39-4ca5-88cd-07471cc3268d"
      },
      "outputs": [
        {
          "output_type": "execute_result",
          "data": {
            "text/plain": [
              "          t         y\n",
              "0  0.000000  3.611498\n",
              "1  0.698132  4.572438\n",
              "2  1.396263 -1.736084\n",
              "3  2.094395 -4.722803\n",
              "4  2.792527  0.437818\n",
              "5  3.490658  5.391944\n",
              "6  4.188790  1.622771\n",
              "7  4.886922 -4.263802\n",
              "8  5.585054 -2.720692\n",
              "9  6.283185  3.899391"
            ],
            "text/html": [
              "\n",
              "  <div id=\"df-521b7b57-6834-4710-89be-38729386016d\">\n",
              "    <div class=\"colab-df-container\">\n",
              "      <div>\n",
              "<style scoped>\n",
              "    .dataframe tbody tr th:only-of-type {\n",
              "        vertical-align: middle;\n",
              "    }\n",
              "\n",
              "    .dataframe tbody tr th {\n",
              "        vertical-align: top;\n",
              "    }\n",
              "\n",
              "    .dataframe thead th {\n",
              "        text-align: right;\n",
              "    }\n",
              "</style>\n",
              "<table border=\"1\" class=\"dataframe\">\n",
              "  <thead>\n",
              "    <tr style=\"text-align: right;\">\n",
              "      <th></th>\n",
              "      <th>t</th>\n",
              "      <th>y</th>\n",
              "    </tr>\n",
              "  </thead>\n",
              "  <tbody>\n",
              "    <tr>\n",
              "      <th>0</th>\n",
              "      <td>0.000000</td>\n",
              "      <td>3.611498</td>\n",
              "    </tr>\n",
              "    <tr>\n",
              "      <th>1</th>\n",
              "      <td>0.698132</td>\n",
              "      <td>4.572438</td>\n",
              "    </tr>\n",
              "    <tr>\n",
              "      <th>2</th>\n",
              "      <td>1.396263</td>\n",
              "      <td>-1.736084</td>\n",
              "    </tr>\n",
              "    <tr>\n",
              "      <th>3</th>\n",
              "      <td>2.094395</td>\n",
              "      <td>-4.722803</td>\n",
              "    </tr>\n",
              "    <tr>\n",
              "      <th>4</th>\n",
              "      <td>2.792527</td>\n",
              "      <td>0.437818</td>\n",
              "    </tr>\n",
              "    <tr>\n",
              "      <th>5</th>\n",
              "      <td>3.490658</td>\n",
              "      <td>5.391944</td>\n",
              "    </tr>\n",
              "    <tr>\n",
              "      <th>6</th>\n",
              "      <td>4.188790</td>\n",
              "      <td>1.622771</td>\n",
              "    </tr>\n",
              "    <tr>\n",
              "      <th>7</th>\n",
              "      <td>4.886922</td>\n",
              "      <td>-4.263802</td>\n",
              "    </tr>\n",
              "    <tr>\n",
              "      <th>8</th>\n",
              "      <td>5.585054</td>\n",
              "      <td>-2.720692</td>\n",
              "    </tr>\n",
              "    <tr>\n",
              "      <th>9</th>\n",
              "      <td>6.283185</td>\n",
              "      <td>3.899391</td>\n",
              "    </tr>\n",
              "  </tbody>\n",
              "</table>\n",
              "</div>\n",
              "      <button class=\"colab-df-convert\" onclick=\"convertToInteractive('df-521b7b57-6834-4710-89be-38729386016d')\"\n",
              "              title=\"Convert this dataframe to an interactive table.\"\n",
              "              style=\"display:none;\">\n",
              "        \n",
              "  <svg xmlns=\"http://www.w3.org/2000/svg\" height=\"24px\"viewBox=\"0 0 24 24\"\n",
              "       width=\"24px\">\n",
              "    <path d=\"M0 0h24v24H0V0z\" fill=\"none\"/>\n",
              "    <path d=\"M18.56 5.44l.94 2.06.94-2.06 2.06-.94-2.06-.94-.94-2.06-.94 2.06-2.06.94zm-11 1L8.5 8.5l.94-2.06 2.06-.94-2.06-.94L8.5 2.5l-.94 2.06-2.06.94zm10 10l.94 2.06.94-2.06 2.06-.94-2.06-.94-.94-2.06-.94 2.06-2.06.94z\"/><path d=\"M17.41 7.96l-1.37-1.37c-.4-.4-.92-.59-1.43-.59-.52 0-1.04.2-1.43.59L10.3 9.45l-7.72 7.72c-.78.78-.78 2.05 0 2.83L4 21.41c.39.39.9.59 1.41.59.51 0 1.02-.2 1.41-.59l7.78-7.78 2.81-2.81c.8-.78.8-2.07 0-2.86zM5.41 20L4 18.59l7.72-7.72 1.47 1.35L5.41 20z\"/>\n",
              "  </svg>\n",
              "      </button>\n",
              "      \n",
              "  <style>\n",
              "    .colab-df-container {\n",
              "      display:flex;\n",
              "      flex-wrap:wrap;\n",
              "      gap: 12px;\n",
              "    }\n",
              "\n",
              "    .colab-df-convert {\n",
              "      background-color: #E8F0FE;\n",
              "      border: none;\n",
              "      border-radius: 50%;\n",
              "      cursor: pointer;\n",
              "      display: none;\n",
              "      fill: #1967D2;\n",
              "      height: 32px;\n",
              "      padding: 0 0 0 0;\n",
              "      width: 32px;\n",
              "    }\n",
              "\n",
              "    .colab-df-convert:hover {\n",
              "      background-color: #E2EBFA;\n",
              "      box-shadow: 0px 1px 2px rgba(60, 64, 67, 0.3), 0px 1px 3px 1px rgba(60, 64, 67, 0.15);\n",
              "      fill: #174EA6;\n",
              "    }\n",
              "\n",
              "    [theme=dark] .colab-df-convert {\n",
              "      background-color: #3B4455;\n",
              "      fill: #D2E3FC;\n",
              "    }\n",
              "\n",
              "    [theme=dark] .colab-df-convert:hover {\n",
              "      background-color: #434B5C;\n",
              "      box-shadow: 0px 1px 3px 1px rgba(0, 0, 0, 0.15);\n",
              "      filter: drop-shadow(0px 1px 2px rgba(0, 0, 0, 0.3));\n",
              "      fill: #FFFFFF;\n",
              "    }\n",
              "  </style>\n",
              "\n",
              "      <script>\n",
              "        const buttonEl =\n",
              "          document.querySelector('#df-521b7b57-6834-4710-89be-38729386016d button.colab-df-convert');\n",
              "        buttonEl.style.display =\n",
              "          google.colab.kernel.accessAllowed ? 'block' : 'none';\n",
              "\n",
              "        async function convertToInteractive(key) {\n",
              "          const element = document.querySelector('#df-521b7b57-6834-4710-89be-38729386016d');\n",
              "          const dataTable =\n",
              "            await google.colab.kernel.invokeFunction('convertToInteractive',\n",
              "                                                     [key], {});\n",
              "          if (!dataTable) return;\n",
              "\n",
              "          const docLinkHtml = 'Like what you see? Visit the ' +\n",
              "            '<a target=\"_blank\" href=https://colab.research.google.com/notebooks/data_table.ipynb>data table notebook</a>'\n",
              "            + ' to learn more about interactive tables.';\n",
              "          element.innerHTML = '';\n",
              "          dataTable['output_type'] = 'display_data';\n",
              "          await google.colab.output.renderOutput(dataTable, element);\n",
              "          const docLink = document.createElement('div');\n",
              "          docLink.innerHTML = docLinkHtml;\n",
              "          element.appendChild(docLink);\n",
              "        }\n",
              "      </script>\n",
              "    </div>\n",
              "  </div>\n",
              "  "
            ]
          },
          "metadata": {},
          "execution_count": 41
        }
      ],
      "source": [
        "datos"
      ]
    },
    {
      "cell_type": "code",
      "execution_count": null,
      "metadata": {
        "colab": {
          "base_uri": "https://localhost:8080/",
          "height": 450
        },
        "id": "_s_GwlL0zCOh",
        "outputId": "bc2e5743-fa25-430f-a34e-960770dee486"
      },
      "outputs": [
        {
          "output_type": "stream",
          "name": "stdout",
          "text": [
            "[[ 0.          3.61149776]\n",
            " [ 0.6981317   4.57243811]\n",
            " [ 1.3962634  -1.73608397]\n",
            " [ 2.0943951  -4.7228027 ]\n",
            " [ 2.7925268   0.43781814]\n",
            " [ 3.4906585   5.39194443]\n",
            " [ 4.1887902   1.62277136]\n",
            " [ 4.88692191 -4.26380204]\n",
            " [ 5.58505361 -2.72069187]\n",
            " [ 6.28318531  3.89939086]]\n"
          ]
        },
        {
          "output_type": "display_data",
          "data": {
            "text/plain": [
              "<Figure size 432x288 with 1 Axes>"
            ],
            "image/png": "[encoded data removed]"
          },
          "metadata": {
            "needs_background": "light"
          }
        }
      ],
      "source": [
        "datosNP = datos.to_numpy()\n",
        "print(datosNP)\n",
        "\n",
        "ti = datosNP[:,0]\n",
        "yi = datosNP[:,1]\n",
        "plt.plot(ti, yi)\n",
        "plt.show()"
      ]
    },
    {
      "cell_type": "code",
      "execution_count": null,
      "metadata": {
        "colab": {
          "base_uri": "https://localhost:8080/"
        },
        "id": "r5jaagOfzFKG",
        "outputId": "3882d30a-4011-488e-ced6-c50fd8b36883"
      },
      "outputs": [
        {
          "output_type": "stream",
          "name": "stdout",
          "text": [
            "[[ 0.00000000e+00  1.00000000e+00]\n",
            " [ 9.84807753e-01  1.73648179e-01]\n",
            " [ 3.42020146e-01 -9.39692620e-01]\n",
            " [-8.66025401e-01 -5.00000004e-01]\n",
            " [-6.42787615e-01  7.66044439e-01]\n",
            " [ 6.42787604e-01  7.66044448e-01]\n",
            " [ 8.66025409e-01 -4.99999992e-01]\n",
            " [-3.42020152e-01 -9.39692618e-01]\n",
            " [-9.84807752e-01  1.73648185e-01]\n",
            " [ 5.64082776e-09  1.00000000e+00]]\n"
          ]
        }
      ],
      "source": [
        "# Definimos las funciones y construimos la matriz A\n",
        "\n",
        "def f1(t):\n",
        "    return(np.sin(2*t))\n",
        "\n",
        "def f2(t):\n",
        "    return(np.cos(2*t))\n",
        "\n",
        "F = [f1, f2]\n",
        "\n",
        "A = matrizAF(ti, F)\n",
        "print(A)"
      ]
    },
    {
      "cell_type": "code",
      "execution_count": null,
      "metadata": {
        "colab": {
          "base_uri": "https://localhost:8080/"
        },
        "id": "Nne7Zfa-y_JL",
        "outputId": "a701bf0c-d5ae-480f-a3cb-bb1b4f493def"
      },
      "outputs": [
        {
          "output_type": "stream",
          "name": "stdout",
          "text": [
            "[3.71705349 3.542975  ]\n"
          ]
        }
      ],
      "source": [
        "# Hallamos los coeficientes\n",
        "c = solveMinCuad(A, yi)\n",
        "print(c)"
      ]
    },
    {
      "cell_type": "code",
      "execution_count": null,
      "metadata": {
        "colab": {
          "base_uri": "https://localhost:8080/",
          "height": 265
        },
        "id": "AhcYx7JfzLb_",
        "outputId": "49a0a6c1-8c30-4a68-e25f-6f2bb2d00e82"
      },
      "outputs": [
        {
          "output_type": "display_data",
          "data": {
            "text/plain": [
              "<Figure size 432x288 with 1 Axes>"
            ],
            "image/png": "[encoded data removed]"
          },
          "metadata": {
            "needs_background": "light"
          }
        }
      ],
      "source": [
        "# Graficamos\n",
        "t = np.linspace(0, 7, 100)\n",
        "y = c[0]*f1(t) + c[1]*f2(t)\n",
        "plt.plot(t, y)\n",
        "plt.plot(ti, yi, '.')\n",
        "plt.show()"
      ]
    },
    {
      "cell_type": "markdown",
      "metadata": {
        "id": "docb_nxEzAMl"
      },
      "source": [
        "## **Ejercicio:**\n",
        "\n",
        "Calcular los valores de $A$ Y $\\phi$."
      ]
    },
    {
      "cell_type": "code",
      "execution_count": null,
      "metadata": {
        "id": "dI2BoqItzJFM"
      },
      "outputs": [],
      "source": [
        "#Escribe aqui.\n",
        "phi=np.arctan(c[1]/c[0])"
      ]
    },
    {
      "cell_type": "code",
      "execution_count": null,
      "metadata": {
        "colab": {
          "base_uri": "https://localhost:8080/"
        },
        "id": "08RrHoVLDday",
        "outputId": "2877ee1f-d0f1-460b-c0b1-9453cc18b69a"
      },
      "outputs": [
        {
          "output_type": "stream",
          "name": "stdout",
          "text": [
            "0.7614250970470376\n"
          ]
        }
      ],
      "source": [
        "print(phi)"
      ]
    },
    {
      "cell_type": "code",
      "execution_count": null,
      "metadata": {
        "id": "TQRu008RDfAO"
      },
      "outputs": [],
      "source": [
        "A=np.sqrt(c[0]**2+c[1]**2)"
      ]
    },
    {
      "cell_type": "code",
      "execution_count": null,
      "metadata": {
        "colab": {
          "base_uri": "https://localhost:8080/"
        },
        "id": "FfA12Q7hDmie",
        "outputId": "3dca2912-c787-438b-dbaa-189cff3d95f9"
      },
      "outputs": [
        {
          "output_type": "stream",
          "name": "stdout",
          "text": [
            "5.135090898805702\n"
          ]
        }
      ],
      "source": [
        "print(A)"
      ]
    },
    {
      "cell_type": "code",
      "execution_count": null,
      "metadata": {
        "id": "L7LwxpWDDn0v"
      },
      "outputs": [],
      "source": [
        "#Con curve fit\n",
        "from scipy import stats as st\n",
        "from scipy import optimize"
      ]
    },
    {
      "cell_type": "code",
      "execution_count": null,
      "metadata": {
        "colab": {
          "base_uri": "https://localhost:8080/"
        },
        "id": "ROg32bhUDz7A",
        "outputId": "de422dd8-9398-471a-ab08-17301c282e6b"
      },
      "outputs": [
        {
          "output_type": "execute_result",
          "data": {
            "text/plain": [
              "(array([5.1350909, 0.7614251]), array([[ 3.60085154e-32, -9.84366981e-35],\n",
              "        [-9.84366981e-35,  1.57029354e-33]]))"
            ]
          },
          "metadata": {},
          "execution_count": 51
        }
      ],
      "source": [
        "#Con curve fit\n",
        "optimize.curve_fit(lambda  x,a,b:a*np.sin(2*x+b) ,t, y)"
      ]
    },
    {
      "cell_type": "code",
      "execution_count": null,
      "metadata": {
        "colab": {
          "base_uri": "https://localhost:8080/",
          "height": 390
        },
        "id": "aDIp_H32EZCT",
        "outputId": "630b53e6-bd6a-4104-f37d-45aeaff75d98"
      },
      "outputs": [
        {
          "output_type": "display_data",
          "data": {
            "text/plain": [
              "<Figure size 864x432 with 1 Axes>"
            ],
            "image/png": "[encoded data removed]"
          },
          "metadata": {
            "needs_background": "light"
          }
        }
      ],
      "source": [
        "x=np.linspace(0,7,100)\n",
        "\n",
        "plt.figure(figsize=(12,6))\n",
        "plt.plot(ti,yi,'ro',label=\"tiempo-oscilación\")\n",
        "plt.plot(x,5.1350909*np.sin(2*x+0.7614251),'b-')\n",
        "plt.title(\"Movimiento oscilatorio\")\n",
        "plt.show()"
      ]
    },
    {
      "cell_type": "code",
      "source": [],
      "metadata": {
        "id": "xHpZauGEJsuX"
      },
      "execution_count": null,
      "outputs": []
    }
  ],
  "metadata": {
    "colab": {
      "provenance": []
    },
    "kernelspec": {
      "display_name": "Python 3",
      "language": "python",
      "name": "python3"
    },
    "language_info": {
      "codemirror_mode": {
        "name": "ipython",
        "version": 3
      },
      "file_extension": ".py",
      "mimetype": "text/x-python",
      "name": "python",
      "nbconvert_exporter": "python",
      "pygments_lexer": "ipython3",
      "version": "3.7.6"
    }
  },
  "nbformat": 4,
  "nbformat_minor": 0
}