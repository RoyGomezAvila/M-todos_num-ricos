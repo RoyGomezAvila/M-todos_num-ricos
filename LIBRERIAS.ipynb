{
  "nbformat": 4,
  "nbformat_minor": 0,
  "metadata": {
    "colab": {
      "provenance": []
    },
    "kernelspec": {
      "name": "python3",
      "display_name": "Python 3"
    }
  },
  "cells": [
    {
      "cell_type": "markdown",
      "metadata": {
        "id": "a80oUc5BX59W"
      },
      "source": [
        "## **ALGUNAS LIBRERIAS DE PYTHON**\n",
        "\n",
        "Este es un cuaderno introductorio al ambiente de **Colab** (Que no es más que un entorno en la nube de Jupyter). La idea de este cuaderno es explorar las funciones básicas disponibles, programación básica y las facilidades de uso en diferentes librerias.\n",
        "\n",
        "Comencemos con un ambiente de **Python 3**."
      ]
    },
    {
      "cell_type": "code",
      "metadata": {
        "colab": {
          "base_uri": "https://localhost:8080/"
        },
        "id": "Q1UbsuGinCaU",
        "outputId": "df4600db-4648-447c-e9b5-5ef63a013ac0"
      },
      "source": [
        "!python --version"
      ],
      "execution_count": null,
      "outputs": [
        {
          "output_type": "stream",
          "name": "stdout",
          "text": [
            "Python 3.7.13\n"
          ]
        }
      ]
    },
    {
      "cell_type": "markdown",
      "metadata": {
        "id": "Vm0j-NOrYAT4"
      },
      "source": [
        "# **[Introducción a la Librería Numpy](https://numpy.org/)**\n",
        "\n",
        "NumPy,\t abreviación\t de\t *Numerical\t Python*,\t es\t uno\t de\t las\t bibliotecas\t más\t importantes\t para\n",
        "procesamiento\t numérico\t en\t Python,\t ofreciendo\t la\t base\t para\t la\t mayoría\t de\t otras\t bibliotecas\t de\n",
        "aplicaciones\t científicas\t que\t utilizan\t datos\t numéricos\t en\t el\t lenguaje.\t Podemos\t destacar\t los\t siguientes\n",
        "recursos:\n",
        "\n",
        "* Un\tpoderoso\tobjeto\tarray\tmultidimensional;\n",
        "*Funciones\tmatemáticas\tsofisticadas\tpara\toperaciones\tcon\tarrays\tsin\tla\tnecesidad\tde\tutilización\tde\n",
        "bucles\tfor;\n",
        "*Recursos\tde\tálgebra\tlineal\ty\tgeneración\tde\tnúmeros\taleatorios.\n",
        "\n",
        "Fuera\t de\t los\t recursos\t numéricos\t y\t de\t procesamiento\t eficiente\t de\t arrays,\t la\t libreria\t NumPy también\tejerce\tun\tpapel\timportante\ten\tanálisis\tde\tdatos\tcomo\tun\teficiente\tcontenedor\tpara\ttransporte\tde\n",
        "datos\t multidimensionales\t entre\t algoritmos\t y\t diversas\t bibliotecas\t del\t lenguaje.\t \n",
        "\n",
        "\n",
        "Para una introducción más extensa, ir [aquí](http://damianavila.github.io/Python-Cientifico-HCC/3_NumPy.html)."
      ]
    },
    {
      "cell_type": "markdown",
      "metadata": {
        "id": "DVYyTHCpYcmE"
      },
      "source": [
        "Es importante diferenciar entre Python como lenguaje de programación (donde se pueden hacer cosas que no requieran matemáticas, como por ejemplo, listas) y sus librerías de matemáticas para hacer operaciones entre datos. La librería de uso más común en Pyhton es **numpy**. Así, exportamos dicha librería en nuestro entorno de trabajo y darle un \"**alias**\" para referirnos a ´él de manera corta:"
      ]
    },
    {
      "cell_type": "code",
      "metadata": {
        "id": "YpKMOSs0YF7J"
      },
      "source": [
        "# Importar Librería NumPy para cálculos científicos eficientes.\n",
        "import numpy as np"
      ],
      "execution_count": null,
      "outputs": []
    },
    {
      "cell_type": "code",
      "metadata": {
        "colab": {
          "base_uri": "https://localhost:8080/"
        },
        "id": "SSQAw18Hh68Z",
        "outputId": "e71d3164-c5a7-48a6-cf48-b234028d1e44"
      },
      "source": [
        "np.arange(10)"
      ],
      "execution_count": null,
      "outputs": [
        {
          "output_type": "execute_result",
          "data": {
            "text/plain": [
              "array([0, 1, 2, 3, 4, 5, 6, 7, 8, 9])"
            ]
          },
          "metadata": {},
          "execution_count": 6
        }
      ]
    },
    {
      "cell_type": "code",
      "metadata": {
        "colab": {
          "base_uri": "https://localhost:8080/"
        },
        "id": "nARB28_AiEAN",
        "outputId": "99cf7df7-3321-4003-88c2-c79336530324"
      },
      "source": [
        "#Forma alternativa de denominar algunas de las cosas que ofrece la biblioteca Numpy.\n",
        "from numpy import arange \n",
        "arange(10)"
      ],
      "execution_count": null,
      "outputs": [
        {
          "output_type": "execute_result",
          "data": {
            "text/plain": [
              "array([0, 1, 2, 3, 4, 5, 6, 7, 8, 9])"
            ]
          },
          "metadata": {},
          "execution_count": 4
        }
      ]
    },
    {
      "cell_type": "markdown",
      "metadata": {
        "id": "YB8OozRvYpr_"
      },
      "source": [
        "**Definiendo variables, vectores, matrices, cadenas, etc...**\n",
        "\n",
        "Como en todo lenguaje de progrmación, es importante definir **variables a valores específicos**, ya sean **escalares**, **vectores**, **matrices** y demás estructuras que comprenden **tipos de datos**. A continuación un ejemplo:"
      ]
    },
    {
      "cell_type": "code",
      "metadata": {
        "id": "LsRcw3tjYyev",
        "colab": {
          "base_uri": "https://localhost:8080/"
        },
        "outputId": "a6ad7314-cea0-4eda-a22e-b6627342882d"
      },
      "source": [
        "# Definir una variable x y darle el valor 1\n",
        "x=1;\n",
        "\n",
        "# Mostrar el valor de la variable usando la función print\n",
        "print(\"la variable x es igual a \",x);"
      ],
      "execution_count": null,
      "outputs": [
        {
          "output_type": "stream",
          "name": "stdout",
          "text": [
            "la variable x es igual a  1\n"
          ]
        }
      ]
    },
    {
      "cell_type": "code",
      "metadata": {
        "id": "YMswAueOY1ih",
        "colab": {
          "base_uri": "https://localhost:8080/"
        },
        "outputId": "27ceca0b-9f01-4cb3-c483-ecf2339d4797"
      },
      "source": [
        "# Definir una lista\n",
        "lis=[1,2,3,4,5];\n",
        "print(\"Lista =\", lis);\n",
        "\n",
        "# Averiguar qué tipo de dato es lista\n",
        "print(\"Lista es un tipo de dato\", type(lis));\n",
        "\n",
        "# Definir un vector\n",
        "\n",
        "v=np.array(lis);\n",
        "print(\"Vector =\", v);\n",
        "print(\"Vector es un tipo de dato\", type(v));"
      ],
      "execution_count": null,
      "outputs": [
        {
          "output_type": "stream",
          "name": "stdout",
          "text": [
            "Lista = [1, 2, 3, 4, 5]\n",
            "Lista es un tipo de dato <class 'list'>\n",
            "Vector = [1 2 3 4 5]\n",
            "Vector es un tipo de dato <class 'numpy.ndarray'>\n"
          ]
        }
      ]
    },
    {
      "cell_type": "markdown",
      "metadata": {
        "id": "MmEg4RZjY3NZ"
      },
      "source": [
        "**Propiedades de Variables Creadas**\n",
        "\n",
        "Cada variable creada tiene propiedades asociadas. Por ejemplo, su dimensión:"
      ]
    },
    {
      "cell_type": "code",
      "metadata": {
        "id": "02OjhqbZZGvM",
        "colab": {
          "base_uri": "https://localhost:8080/"
        },
        "outputId": "265870b0-c065-4432-bb77-d3a230964311"
      },
      "source": [
        "# variable.shape devuelve las dimensiones de un vector, matriz, tensor, etc...\n",
        "print(\"La forma de las dimensiones de v son\",v.shape); #5\n",
        "print(\"La dimensión del vector v es\",v.ndim);\n",
        "print(\"El número de elementos de v es\",len(v));"
      ],
      "execution_count": null,
      "outputs": [
        {
          "output_type": "stream",
          "name": "stdout",
          "text": [
            "La forma de las dimensiones de v son (5,)\n",
            "La dimensión del vector v es 1\n",
            "El número de elementos de v es 5\n"
          ]
        }
      ]
    },
    {
      "cell_type": "markdown",
      "metadata": {
        "id": "Ih3mk14EZImH"
      },
      "source": [
        "Para una mayor apropiación de estas funciones, definamos una matriz y ejecutemos los mismos comandos:"
      ]
    },
    {
      "cell_type": "code",
      "metadata": {
        "id": "lM-mBySFZHQz",
        "colab": {
          "base_uri": "https://localhost:8080/"
        },
        "outputId": "5bf84a86-a6e1-4683-bc9f-dc71841233af"
      },
      "source": [
        "# Creando una matriz 2x3 (2 filas, 3 columnas):\n",
        "M=np.array([[1,2,3],[7,8,6]]); \n",
        "#Print es un comando para mostrar una matriz:\n",
        "print(\"La matriz M es\\n\", M, \"\\n\");\n",
        "print(\"El tamaño de la matriz  M es\",M.shape); # 2x3\n",
        "print(\"La dimensión de M es\",M.ndim);\n",
        "print(\"El número de elementos de M es\",len(M),\"\\n\");\n",
        "M.size"
      ],
      "execution_count": null,
      "outputs": [
        {
          "output_type": "stream",
          "name": "stdout",
          "text": [
            "La matriz M es\n",
            " [[1 2 3]\n",
            " [7 8 6]] \n",
            "\n",
            "El tamaño de la matriz  M es (2, 3)\n",
            "La dimensión de M es 2\n",
            "El número de elementos de M es 2 \n",
            "\n"
          ]
        },
        {
          "output_type": "execute_result",
          "data": {
            "text/plain": [
              "6"
            ]
          },
          "metadata": {},
          "execution_count": 4
        }
      ]
    },
    {
      "cell_type": "markdown",
      "metadata": {
        "id": "fOMWeT77qjHK"
      },
      "source": [
        "**EJERCICIO EN CLASE**\n",
        "\n",
        "Denomine la variable $P$ una matriz de tamaño $3 \\times 3$, y describa el tamaño, la forma, la cantidad de filas y el total de datos que tiene."
      ]
    },
    {
      "cell_type": "code",
      "metadata": {
        "id": "piZ6SAWlx6b5"
      },
      "source": [
        "# Importar Librería NumPy para cálculos científicos eficientes.\n",
        "import numpy as np"
      ],
      "execution_count": null,
      "outputs": []
    },
    {
      "cell_type": "code",
      "metadata": {
        "id": "gvhCr0LHs1Rg",
        "colab": {
          "base_uri": "https://localhost:8080/"
        },
        "outputId": "d35168f7-1a30-4403-fdee-9449c0851dbf"
      },
      "source": [
        "# Escribe código aquí.\n",
        "P=np.array([[2,3,5],[1,5,6],[3,8,11]])\n",
        "print(P)"
      ],
      "execution_count": null,
      "outputs": [
        {
          "output_type": "stream",
          "name": "stdout",
          "text": [
            "[[ 2  3  5]\n",
            " [ 1  5  6]\n",
            " [ 3  8 11]]\n"
          ]
        }
      ]
    },
    {
      "cell_type": "markdown",
      "metadata": {
        "id": "CZexx8vGZR4_"
      },
      "source": [
        "Es fácil acceder a elementos de la matriz M:"
      ]
    },
    {
      "cell_type": "code",
      "metadata": {
        "id": "_qtL6izS_yjV",
        "outputId": "454c4c82-efa3-45e2-fe7c-f193995479fb",
        "colab": {
          "base_uri": "https://localhost:8080/"
        }
      },
      "source": [
        "print(\"Elemento en la primera fila y primera columna de M es \", P[0,0]) # Elemento en la primera fila y primera columna de M\n",
        "print(\"Elementos de la primer fila\", P[0]) # Elementos de la primer fila, no se especifica la segunda dimensión\n",
        "print(\"Elementos de la primer columna\", P[:,0]) # Elementos de la primera columna\n",
        "print(\"Submatriz: Filas 1 y 2, columnas 2 y 3 de M \\n\", P[1:2,1:3]) # Submatriz: Filas 1 y 2, columnas 1 y 2 de M"
      ],
      "execution_count": null,
      "outputs": [
        {
          "output_type": "stream",
          "name": "stdout",
          "text": [
            "Elemento en la primera fila y primera columna de M es  2\n",
            "Elementos de la primer fila [2 3 5]\n",
            "Elementos de la primer columna [2 1 3]\n",
            "Submatriz: Filas 1 y 2, columnas 2 y 3 de M \n",
            " [[5 6]]\n"
          ]
        }
      ]
    },
    {
      "cell_type": "markdown",
      "metadata": {
        "id": "YEM0QRoLZZbQ"
      },
      "source": [
        "**Resolver Sistemas Lineales**\n",
        "\n",
        "Con **NumPy**, se pueden hallar inversas de matrices y resolver sistemas lineales $A\\vec{x}=\\vec{b}$  de manera fácil:"
      ]
    },
    {
      "cell_type": "code",
      "metadata": {
        "id": "bm0-urc4ZWpn",
        "colab": {
          "base_uri": "https://localhost:8080/"
        },
        "outputId": "99e9e4d1-9141-4f37-85b1-b8ff8f14d547"
      },
      "source": [
        "# Definir una matriz de número enteros aleatoria 5x5\n",
        "A=np.random.randint(50,size=(5,5));\n",
        "print(\"A=\\n\",A,\"\\n\");\n",
        "\n",
        "# Definir el vector del sistema no homogéneo\n",
        "b=np.random.randint(20,size=(5)); \n",
        "print(\"b =\",b,\"\\n\");\n",
        "\n",
        "# Usar el método solve para solucionar el sistema\n",
        "x=np.linalg.solve(A,b);\n",
        "print(\"La solución del sistema Ax=b es\\n\\n x =\",x,\"\\n\");\n",
        "\n",
        "# Verificación de que Ax=b\n",
        "Verificar = A.dot(x);\n",
        "print(\"Verificación:\\n\\n Ax = \", Verificar,\"\\n\");\n",
        "print(\"  b =\",b,\"\\n\");"
      ],
      "execution_count": null,
      "outputs": [
        {
          "output_type": "stream",
          "name": "stdout",
          "text": [
            "A=\n",
            " [[12 45 33  0 45]\n",
            " [41 43  4 49 45]\n",
            " [31 23 48  7 40]\n",
            " [41  9 22 36 43]\n",
            " [29 11 43  1 13]] \n",
            "\n",
            "b = [ 9  9 19 18  3] \n",
            "\n",
            "La solución del sistema Ax=b es\n",
            "\n",
            " x = [-19.38228538  -0.05092137  14.20272156  19.87476242  -4.99579834] \n",
            "\n",
            "Verificación:\n",
            "\n",
            " Ax =  [ 9.  9. 19. 18.  3.] \n",
            "\n",
            "  b = [ 9  9 19 18  3] \n",
            "\n"
          ]
        }
      ]
    },
    {
      "cell_type": "code",
      "source": [
        "A1=np.array([[2,3],[1,1]])\n",
        "b1=np.array([5,2])\n",
        "x1=np.linalg.solve(A1,b1)\n",
        "print(x1)"
      ],
      "metadata": {
        "colab": {
          "base_uri": "https://localhost:8080/"
        },
        "id": "4XEExZ8gSsu3",
        "outputId": "54141c7c-fbe5-45bd-96a9-c8cb960cf45d"
      },
      "execution_count": null,
      "outputs": [
        {
          "output_type": "stream",
          "name": "stdout",
          "text": [
            "[1. 1.]\n"
          ]
        }
      ]
    },
    {
      "cell_type": "markdown",
      "metadata": {
        "id": "MZjvVilYVXPK"
      },
      "source": [
        "**EJERCICIO EN CLASE**\n",
        "\n",
        " Teniendo en cuenta que la derivada es una transformación lineal, considere el conjunto de polinomios de una sola variable y de grado n, para ese conjunto de polinomios construya una matriz que represente la derivada.\n",
        "\n",
        "Tenga en cuenta la siguiente convención: Una vez establecido el n, en este caso n=2, el arreglo [4,3,2] es la representación para el polinomio  de grado 2 <br /> \n",
        "<H3 align=\"center\">  p(x)=4x^2+3x+2 </H3> <br /> \n",
        "\n",
        "y su derivada es <br /> \n",
        "<H3 align=\"center\">   p'(x)=8x+3 </H3> <br /> \n",
        "\n",
        "que es representado por el arreglo `[0,8,3]`.\n",
        "\n",
        "En las siguientes lineas se muestra el caso partícular `n=2`."
      ]
    },
    {
      "cell_type": "code",
      "metadata": {
        "colab": {
          "base_uri": "https://localhost:8080/"
        },
        "id": "NlN3FRBSW98T",
        "outputId": "430a82cc-c1a8-4598-ebec-a036e7a6720d"
      },
      "source": [
        "matriz_derivada=np.matrix([[0,0,0],[2,0,0],[0,1,0]])\n",
        "pol=np.matrix([[4],[3],[2]])\n",
        "derivada=matriz_derivada*pol\n",
        "print(derivada)\n"
      ],
      "execution_count": null,
      "outputs": [
        {
          "output_type": "stream",
          "name": "stdout",
          "text": [
            "[[0]\n",
            " [8]\n",
            " [3]]\n"
          ]
        }
      ]
    },
    {
      "cell_type": "markdown",
      "metadata": {
        "id": "SPAurVAYXKjM"
      },
      "source": [
        "El `n` se debe poder ingresar y la matriz derivada se genera dependiendo el `n`. \n",
        "\n",
        "***Ayuda***: defina matrices como en el ejemplo, use el producto, defina una matriz diagonal, use `np.eye`,`np.diag`,`np.linspace`."
      ]
    },
    {
      "cell_type": "code",
      "source": [
        "n = int(input(\"ingrese valor de n : \")) \n",
        "\n",
        "pol = []\n",
        "for i in range(n+1):\n",
        "  pol.append([int(input(\"Ingrese el coeficiente : \"))])\n",
        "\n",
        "diagonal=np.matrix(np.diag(np.linspace(n,0,n+1)))\n",
        "print(\"diagonal =\\n\", diagonal)\n",
        "corrimiento=np.matrix(np.eye(n+1, k=-1))\n",
        "print(\"corrimiento =\\n\", corrimiento, \"\\n\")\n",
        "matriz_derivada=corrimiento*diagonal\n",
        "pol = np.matrix(pol)\n",
        "print(pol)\n",
        "print(\"matriz derivada =\\n\", matriz_derivada)\n",
        "print(\"la derivada del polinomio es \\n\", matriz_derivada*pol )"
      ],
      "metadata": {
        "colab": {
          "base_uri": "https://localhost:8080/"
        },
        "id": "HloeWrsilmc-",
        "outputId": "387fa959-b295-496e-87bf-95e10a033332"
      },
      "execution_count": null,
      "outputs": [
        {
          "output_type": "stream",
          "name": "stdout",
          "text": [
            "ingrese valor de n : 3\n",
            "Ingrese el coeficiente : 1\n",
            "Ingrese el coeficiente : 2\n",
            "Ingrese el coeficiente : 3\n",
            "Ingrese el coeficiente : 4\n",
            "diagonal =\n",
            " [[3. 0. 0. 0.]\n",
            " [0. 2. 0. 0.]\n",
            " [0. 0. 1. 0.]\n",
            " [0. 0. 0. 0.]]\n",
            "corrimiento =\n",
            " [[0. 0. 0. 0.]\n",
            " [1. 0. 0. 0.]\n",
            " [0. 1. 0. 0.]\n",
            " [0. 0. 1. 0.]] \n",
            "\n",
            "[[1]\n",
            " [2]\n",
            " [3]\n",
            " [4]]\n",
            "matriz derivada =\n",
            " [[0. 0. 0. 0.]\n",
            " [3. 0. 0. 0.]\n",
            " [0. 2. 0. 0.]\n",
            " [0. 0. 1. 0.]]\n",
            "la derivada del polinomio es \n",
            " [[0.]\n",
            " [3.]\n",
            " [4.]\n",
            " [3.]]\n"
          ]
        }
      ]
    },
    {
      "cell_type": "markdown",
      "metadata": {
        "id": "DexyFZCICUMe"
      },
      "source": [
        "## **CREACIÓN Y MANIPULACIÓN DE ARRAYS**\n",
        "\n",
        "1. Cree un arreglo numpy de tamaño $1\\times10$, llena de ceros.\n",
        "2. Cree un arreglo numpy con valores que van de $10$ a $49$.\n",
        "3. Cree un arreglo numpy de $2\\times2$ enteros, llenos de unos.\n",
        "4. Cree un arreglo numpy de $3\\times2$ números flotantes, llenos de unos.\n",
        "5. Dada la matriz de números $X$, cree una nueva matriz de números con la misma forma y tipo que $X$, llena de unos.\n",
        "6. Dada la matriz numérica $X$, cree una nueva matriz numérica con la misma forma y tipo que $X$, llena de ceros.\n",
        "7. Cree una matriz de números de $4\\times4$ enteros, llena de cinco.\n",
        "8. Cree una matriz identidad de $3\\times3$ con unos en la diagonal y ceros en el resto.\n",
        "9. Cree una matriz numpy, llena con 3 valores enteros aleatorios entre $1$ y $10$.\n",
        "10. Cree una matriz numpy con números del $1$ al $10$, en orden descendente.\n",
        "11. Dada la matriz $X$ numpy, muestra su primer elemento.\n",
        "12. Dada la matriz $X$ numpy, muestra su último elemento.\n",
        "13. Dada la matriz $X$ numpy, muestra sus primeros tres elementos.\n",
        "14. Dada la matriz numérica $X$, cambie el último elemento de la última fila con un $0$.\n",
        "15. Dada la matriz $X$ numpy, crea através de `mask` un arreglo cuyos elementos tenga elementos negativos.\n",
        "16. Dada la matriz $X$ numpy, obtenga números iguales a $2$ o $10$.\n",
        "17. Dada la matriz fila $X$ numpy, devuelve `True` con la instrucción `any` si alguno de sus elementos es cero.\n",
        "18. Dada la matriz fila $X$ numpy, muestra la suma de sus elementos.\n",
        "19. Dada la matriz numérica $X$, muestra el valor medio de sus filas.\n",
        "20. Dada la matriz $X$ numpy, muestra el valor máximo de sus elementos."
      ]
    },
    {
      "cell_type": "code",
      "metadata": {
        "colab": {
          "base_uri": "https://localhost:8080/"
        },
        "id": "f6Hllt7SmavS",
        "outputId": "f5bfbfe2-b16c-4725-80e8-3f0a85fcd981"
      },
      "source": [
        "#1 Cree un arreglo numpy de tamaño  1×10 , llena de ceros.\n",
        "np.zeros(10)"
      ],
      "execution_count": null,
      "outputs": [
        {
          "output_type": "execute_result",
          "data": {
            "text/plain": [
              "array([0., 0., 0., 0., 0., 0., 0., 0., 0., 0.])"
            ]
          },
          "metadata": {},
          "execution_count": 15
        }
      ]
    },
    {
      "cell_type": "code",
      "metadata": {
        "colab": {
          "base_uri": "https://localhost:8080/"
        },
        "id": "pLqia8VJmoko",
        "outputId": "621814ca-c86a-4f88-94ef-5dfea872346d"
      },
      "source": [
        "#2 Cree un arreglo numpy con valores que van de  10  a  49 .\n",
        "np.arange(10,50)"
      ],
      "execution_count": null,
      "outputs": [
        {
          "output_type": "execute_result",
          "data": {
            "text/plain": [
              "array([10, 11, 12, 13, 14, 15, 16, 17, 18, 19, 20, 21, 22, 23, 24, 25, 26,\n",
              "       27, 28, 29, 30, 31, 32, 33, 34, 35, 36, 37, 38, 39, 40, 41, 42, 43,\n",
              "       44, 45, 46, 47, 48, 49])"
            ]
          },
          "metadata": {},
          "execution_count": 16
        }
      ]
    },
    {
      "cell_type": "code",
      "metadata": {
        "colab": {
          "base_uri": "https://localhost:8080/"
        },
        "id": "-t3b4k-Qm9jr",
        "outputId": "9a8aedeb-153a-496d-887b-59a2ef01cd0b"
      },
      "source": [
        "#3 Cree un arreglo numpy de  2×2  enteros, llenos de unos.\n",
        "np.ones([2,2])"
      ],
      "execution_count": null,
      "outputs": [
        {
          "output_type": "execute_result",
          "data": {
            "text/plain": [
              "array([[1., 1.],\n",
              "       [1., 1.]])"
            ]
          },
          "metadata": {},
          "execution_count": 39
        }
      ]
    },
    {
      "cell_type": "code",
      "metadata": {
        "colab": {
          "base_uri": "https://localhost:8080/"
        },
        "id": "I6NOPhC3nFfW",
        "outputId": "0d92fa37-1925-445a-cb69-a2c2fb218b97"
      },
      "source": [
        "#3 Alternativa dos\n",
        "N=np.array([[1,1],[1,1]])\n",
        "print('La matriz de tamano 2x2 llena de unos es\\n', N)"
      ],
      "execution_count": null,
      "outputs": [
        {
          "output_type": "stream",
          "name": "stdout",
          "text": [
            "La matriz de tamano 2x2 llena de unos es\n",
            " [[1 1]\n",
            " [1 1]]\n"
          ]
        }
      ]
    },
    {
      "cell_type": "code",
      "metadata": {
        "colab": {
          "base_uri": "https://localhost:8080/"
        },
        "id": "oIa07tAip5Kr",
        "outputId": "a728fd77-4228-4977-f902-bb5830d20d55"
      },
      "source": [
        "# 4 Cree un arreglo numpy de  3×2  números flotantes, llenos de unos.\n",
        "\n",
        "np.ones([3,2])"
      ],
      "execution_count": null,
      "outputs": [
        {
          "output_type": "execute_result",
          "data": {
            "text/plain": [
              "array([[1., 1.],\n",
              "       [1., 1.],\n",
              "       [1., 1.]])"
            ]
          },
          "metadata": {},
          "execution_count": 42
        }
      ]
    },
    {
      "cell_type": "code",
      "metadata": {
        "colab": {
          "base_uri": "https://localhost:8080/"
        },
        "id": "0zP47mhQqUQh",
        "outputId": "b9a9baed-0f2d-4974-8f00-9f2ee771b831"
      },
      "source": [
        "# 5 Dada la matriz de números  X , cree una nueva matriz de números con la misma forma y tipo que  X , llena de unos.\n",
        "\n",
        "L=np.array([[1,2,5],[3,4,5]])\n",
        "X=np.ones_like(L)\n",
        "print(X)"
      ],
      "execution_count": null,
      "outputs": [
        {
          "output_type": "stream",
          "name": "stdout",
          "text": [
            "[[1 1 1]\n",
            " [1 1 1]]\n"
          ]
        }
      ]
    },
    {
      "cell_type": "code",
      "metadata": {
        "colab": {
          "base_uri": "https://localhost:8080/"
        },
        "id": "PmyCjIUUrvuH",
        "outputId": "c357cd6e-1fef-4301-d00d-341726c398b4"
      },
      "source": [
        "# 6 Dada la matriz de números  X , cree una nueva matriz de números con la misma forma y tipo que  X , llena de ceros.\n",
        "\n",
        "Q=np.array([[1,2,5],[3,4,5],[1,2,3]])\n",
        "X=np.zeros_like(Q)\n",
        "print(X)"
      ],
      "execution_count": null,
      "outputs": [
        {
          "output_type": "stream",
          "name": "stdout",
          "text": [
            "[[0 0 0]\n",
            " [0 0 0]\n",
            " [0 0 0]]\n"
          ]
        }
      ]
    },
    {
      "cell_type": "code",
      "metadata": {
        "colab": {
          "base_uri": "https://localhost:8080/"
        },
        "id": "LIZLSwPMsIWY",
        "outputId": "da4e09f2-babf-462e-87cf-a61971ba2517"
      },
      "source": [
        "# 7 Cree una matriz de números de  4×4  enteros, llena de cincos.\n",
        "\n",
        "R=np.ones([4,4], dtype=np.int)\n",
        "X=R*5\n",
        "print(X)"
      ],
      "execution_count": null,
      "outputs": [
        {
          "output_type": "stream",
          "name": "stdout",
          "text": [
            "[[5 5 5 5]\n",
            " [5 5 5 5]\n",
            " [5 5 5 5]\n",
            " [5 5 5 5]]\n"
          ]
        },
        {
          "output_type": "stream",
          "name": "stderr",
          "text": [
            "/usr/local/lib/python3.7/dist-packages/ipykernel_launcher.py:3: DeprecationWarning: `np.int` is a deprecated alias for the builtin `int`. To silence this warning, use `int` by itself. Doing this will not modify any behavior and is safe. When replacing `np.int`, you may wish to use e.g. `np.int64` or `np.int32` to specify the precision. If you wish to review your current use, check the release note link for additional information.\n",
            "Deprecated in NumPy 1.20; for more details and guidance: https://numpy.org/devdocs/release/1.20.0-notes.html#deprecations\n",
            "  This is separate from the ipykernel package so we can avoid doing imports until\n"
          ]
        }
      ]
    },
    {
      "cell_type": "code",
      "metadata": {
        "colab": {
          "base_uri": "https://localhost:8080/"
        },
        "id": "UzsWstAus6jq",
        "outputId": "03c334ad-2c8a-4e52-8778-4d6a0e84fb34"
      },
      "source": [
        "# 8 Cree una matriz identidad de  3×3  con unos en la diagonal y ceros en el resto.\n",
        "\n",
        "D=np.array([[1,0,0],[0,1,0],[0,0,1]])\n",
        "print(D)"
      ],
      "execution_count": null,
      "outputs": [
        {
          "output_type": "stream",
          "name": "stdout",
          "text": [
            "[[1 0 0]\n",
            " [0 1 0]\n",
            " [0 0 1]]\n"
          ]
        }
      ]
    },
    {
      "cell_type": "code",
      "metadata": {
        "colab": {
          "base_uri": "https://localhost:8080/"
        },
        "id": "7OHPQ-XWuJtH",
        "outputId": "78edb57b-c911-47bf-be7f-8286c452bbb4"
      },
      "source": [
        "np.identity(3)"
      ],
      "execution_count": null,
      "outputs": [
        {
          "output_type": "execute_result",
          "data": {
            "text/plain": [
              "array([[1., 0., 0.],\n",
              "       [0., 1., 0.],\n",
              "       [0., 0., 1.]])"
            ]
          },
          "metadata": {},
          "execution_count": 24
        }
      ]
    },
    {
      "cell_type": "code",
      "metadata": {
        "id": "vmS-nchWub_O",
        "colab": {
          "base_uri": "https://localhost:8080/"
        },
        "outputId": "56dcaafd-1a63-4ec2-d868-91e2fd760913"
      },
      "source": [
        "# 9 Cree una matriz numpy, llena con 3 valores enteros aleatorios entre 1 y 10. \n",
        "\n",
        "np.random.randint(10, size=3)"
      ],
      "execution_count": null,
      "outputs": [
        {
          "output_type": "execute_result",
          "data": {
            "text/plain": [
              "array([1, 7, 5])"
            ]
          },
          "metadata": {},
          "execution_count": 25
        }
      ]
    },
    {
      "cell_type": "code",
      "metadata": {
        "colab": {
          "base_uri": "https://localhost:8080/"
        },
        "id": "u83UwFUgvyZe",
        "outputId": "d8c732f2-e13a-430a-afaa-6a5a3ef11acb"
      },
      "source": [
        "# 10 Cree una matriz numpy con números del  1  al  10 , en orden descendente.\n",
        "\n",
        "np.linspace(10,0,11)"
      ],
      "execution_count": null,
      "outputs": [
        {
          "output_type": "execute_result",
          "data": {
            "text/plain": [
              "array([10.,  9.,  8.,  7.,  6.,  5.,  4.,  3.,  2.,  1.,  0.])"
            ]
          },
          "metadata": {},
          "execution_count": 40
        }
      ]
    },
    {
      "cell_type": "code",
      "metadata": {
        "colab": {
          "base_uri": "https://localhost:8080/"
        },
        "id": "mbBLxkILwfuH",
        "outputId": "caf34c96-8ee8-4bb8-973a-bdc80fede02e"
      },
      "source": [
        "np.arange(1,11)[::-1]"
      ],
      "execution_count": null,
      "outputs": [
        {
          "output_type": "execute_result",
          "data": {
            "text/plain": [
              "array([10,  9,  8,  7,  6,  5,  4,  3,  2,  1])"
            ]
          },
          "metadata": {},
          "execution_count": 27
        }
      ]
    },
    {
      "cell_type": "code",
      "metadata": {
        "colab": {
          "base_uri": "https://localhost:8080/",
          "height": 36
        },
        "id": "6gF0eEsqw2og",
        "outputId": "6c092a04-2338-4ea3-9141-472854305a7b"
      },
      "source": [
        "# 11 Dada la matriz  X  numpy, muestra su primer elemento.\n",
        "\n",
        "X=np.array(['a', 'b', 'c', 'd', 'e'])\n",
        "\n",
        "X[0]"
      ],
      "execution_count": null,
      "outputs": [
        {
          "output_type": "execute_result",
          "data": {
            "text/plain": [
              "'a'"
            ],
            "application/vnd.google.colaboratory.intrinsic+json": {
              "type": "string"
            }
          },
          "metadata": {},
          "execution_count": 28
        }
      ]
    },
    {
      "cell_type": "code",
      "metadata": {
        "id": "Gymx5V5zxdN_"
      },
      "source": [
        "# 12 Dada la matriz  X  numpy, muestra su último elemento."
      ],
      "execution_count": null,
      "outputs": []
    },
    {
      "cell_type": "code",
      "metadata": {
        "colab": {
          "base_uri": "https://localhost:8080/",
          "height": 36
        },
        "id": "OtiQFkkkxZj2",
        "outputId": "6f7eb3aa-cfcd-407b-a618-30034a38c950"
      },
      "source": [
        "X[-1]"
      ],
      "execution_count": null,
      "outputs": [
        {
          "output_type": "execute_result",
          "data": {
            "text/plain": [
              "'e'"
            ],
            "application/vnd.google.colaboratory.intrinsic+json": {
              "type": "string"
            }
          },
          "metadata": {},
          "execution_count": 30
        }
      ]
    },
    {
      "cell_type": "code",
      "metadata": {
        "colab": {
          "base_uri": "https://localhost:8080/"
        },
        "id": "ROm5fwhcyaLE",
        "outputId": "e91b24cc-8276-40f1-a404-685eeef434ab"
      },
      "source": [
        "# 13 Dada la matriz  X  numpy, muestra sus primeros tres elementos.\n",
        "\n",
        "X[0:3]"
      ],
      "execution_count": null,
      "outputs": [
        {
          "output_type": "execute_result",
          "data": {
            "text/plain": [
              "array(['a', 'b', 'c'], dtype='<U1')"
            ]
          },
          "metadata": {},
          "execution_count": 31
        }
      ]
    },
    {
      "cell_type": "code",
      "metadata": {
        "colab": {
          "base_uri": "https://localhost:8080/"
        },
        "id": "ZS_1B5HPy6PN",
        "outputId": "bebf901b-bf36-43f3-fdb4-a7da05be32a0"
      },
      "source": [
        "# 14 Dada la matriz numérica  X , cambie el último elemento de la última fila con un  0.\n",
        "\n",
        "X[0]=0\n",
        "\n",
        "print(X)"
      ],
      "execution_count": null,
      "outputs": [
        {
          "output_type": "stream",
          "name": "stdout",
          "text": [
            "['0' 'b' 'c' 'd' 'e']\n"
          ]
        }
      ]
    },
    {
      "cell_type": "markdown",
      "metadata": {
        "id": "gL9rOcw6iZAw"
      },
      "source": [
        "# **[Introducción a matplotlib](https://matplotlib.org/2.0.2/faq/usage_faq.html)**\n",
        "\n",
        "[Matplotlib](https://matplotlib.org/2.0.2/faq/usage_faq.html) es una biblioteca de para la realización de gráficos, para el lenguaje de programación de Python y su extensión matemática numérica NumPy y Scipy.\n",
        "\n",
        "\n",
        "\n"
      ]
    },
    {
      "cell_type": "code",
      "metadata": {
        "id": "iwv9N7bfgyxo"
      },
      "source": [
        "import numpy as np\n",
        "import matplotlib.pyplot as plt"
      ],
      "execution_count": null,
      "outputs": []
    },
    {
      "cell_type": "code",
      "metadata": {
        "id": "RbzKryryiq9t",
        "colab": {
          "base_uri": "https://localhost:8080/"
        },
        "outputId": "43fe212f-d753-42ff-f754-da0c08c2a0d2"
      },
      "source": [
        "tensor = np.array([\n",
        "    [[1,2,3],[4,5,6],[6,7,8]],\n",
        "    [[11,12,13],[250,250,250],[17,18,19]],\n",
        "    [[21,22,23],[24,25,26],[27,28,29]],\n",
        "])\n",
        "\n",
        "print(\"La dimensión de tensor es\", tensor.ndim)\n",
        "print(tensor)"
      ],
      "execution_count": null,
      "outputs": [
        {
          "output_type": "stream",
          "name": "stdout",
          "text": [
            "La dimensión de tensor es 3\n",
            "[[[  1   2   3]\n",
            "  [  4   5   6]\n",
            "  [  6   7   8]]\n",
            "\n",
            " [[ 11  12  13]\n",
            "  [250 250 250]\n",
            "  [ 17  18  19]]\n",
            "\n",
            " [[ 21  22  23]\n",
            "  [ 24  25  26]\n",
            "  [ 27  28  29]]]\n"
          ]
        }
      ]
    },
    {
      "cell_type": "code",
      "metadata": {
        "id": "ENS42v5bia1X",
        "colab": {
          "base_uri": "https://localhost:8080/",
          "height": 287
        },
        "outputId": "13c8c5ba-35f9-4e5e-f7bc-5379a884d019"
      },
      "source": [
        "print(\"La dimensión de tensor es\", tensor.ndim)\n",
        "plt.imshow(tensor, interpolation='nearest')\n",
        "plt.show()"
      ],
      "execution_count": null,
      "outputs": [
        {
          "output_type": "stream",
          "name": "stdout",
          "text": [
            "La dimensión de tensor es 3\n"
          ]
        },
        {
          "output_type": "display_data",
          "data": {
            "text/plain": [
              "<Figure size 432x288 with 1 Axes>"
            ],
            "image/png": "[encoded data removed]"
          },
          "metadata": {
            "needs_background": "light"
          }
        }
      ]
    },
    {
      "cell_type": "code",
      "metadata": {
        "id": "-t4Nj9-XTVln",
        "colab": {
          "base_uri": "https://localhost:8080/",
          "height": 404
        },
        "outputId": "26a70e61-3e23-4d9b-c285-098086539a18"
      },
      "source": [
        "#Ejemplos de funciones numéricas\n",
        " \n",
        "import matplotlib.pyplot as plt\n",
        "import numpy as np\n",
        " \n",
        "x = np.linspace(0, 2, 100)\n",
        " \n",
        "plt.figure(figsize=(6,6))\n",
        "#plt.plot(x, x, 'b',label='función lineal')\n",
        "#plt.plot(x, x**2,'r' ,label='función cuadrática')\n",
        "#plt.plot(x, x**3,'g',label='función cubica')\n",
        "plt.plot(x, np.sin(x),'g',label='función sinusoidal')\n",
        " \n",
        "plt.xlabel('x label')\n",
        "plt.ylabel('y label')\n",
        " \n",
        "plt.title(\"Gráficos sencillos\")\n",
        " \n",
        "plt.legend()\n",
        " \n",
        "plt.show()"
      ],
      "execution_count": null,
      "outputs": [
        {
          "output_type": "display_data",
          "data": {
            "text/plain": [
              "<Figure size 432x432 with 1 Axes>"
            ],
            "image/png": "[encoded data removed]"
          },
          "metadata": {
            "needs_background": "light"
          }
        }
      ]
    },
    {
      "cell_type": "markdown",
      "metadata": {
        "id": "tC6E9ZJs6U1o"
      },
      "source": [
        "### **EJERCICIO EN CLASE**\n",
        "\n",
        "Emplea la biblioteca `matplotlib` y `numpy` para graficar las siguientes funciones:\n",
        "\n",
        "1. $y=sin(x)$ sobre el intervalo $[-2\\pi,2\\pi]$.\n",
        "2. $y=x^2+3x+2$ sobre el intervalo $[-5,1]$.\n",
        "\n",
        "Desarrolle estilos diferentes para tal fin.\n",
        "\n"
      ]
    },
    {
      "cell_type": "code",
      "metadata": {
        "id": "Ve4d59FkzX0C",
        "colab": {
          "base_uri": "https://localhost:8080/",
          "height": 513
        },
        "outputId": "8b068bf6-5ed7-474e-929c-9a0f5ba0f89a"
      },
      "source": [
        "import matplotlib.pyplot as plt\n",
        "import numpy as np\n",
        " \n",
        "x = np.linspace(-2*np.pi, 2*np.pi, 100)\n",
        " \n",
        " \n",
        "plt.figure(figsize=(12,8))\n",
        "plt.plot(x, np.sin(x),'o',label='función seno',color='green')\n",
        "plt.xlabel('x label')\n",
        "plt.ylabel('y label')\n",
        " \n",
        "plt.title(\"Gráficos sencillos\")\n",
        " \n",
        "plt.legend()\n",
        " \n",
        "plt.show()"
      ],
      "execution_count": null,
      "outputs": [
        {
          "output_type": "display_data",
          "data": {
            "text/plain": [
              "<Figure size 864x576 with 1 Axes>"
            ],
            "image/png": "[encoded data removed]"
          },
          "metadata": {
            "needs_background": "light"
          }
        }
      ]
    }
  ]
}