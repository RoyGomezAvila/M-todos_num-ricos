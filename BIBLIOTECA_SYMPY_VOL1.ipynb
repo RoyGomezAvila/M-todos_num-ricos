{
  "nbformat": 4,
  "nbformat_minor": 0,
  "metadata": {
    "colab": {
      "provenance": []
    },
    "kernelspec": {
      "name": "python3",
      "display_name": "Python 3"
    }
  },
  "cells": [
    {
      "cell_type": "markdown",
      "metadata": {
        "id": "6GYVfgAQ-Z8a"
      },
      "source": [
        "# **EXPRESIONES SIMBÓLICAS**\n",
        "\n",
        "Se puede señalar que los lenguajes computacionales de cálculo simbólico son aquellos que permiten la representación y el manejo computacional de expresiones algebraicas que empleamos en nuestros cursos de cálculo.\n",
        "\n",
        "Su capacidad de cálculo se puede observar en la facilidad con que realizan operaciones tanto algebraicas básicas como de cálculo avanzado como son: suma, resta, multiplicación, división y potenciación de monomios y polinomios integración, resolución de ecuaciones diferenciales y muchas más situaciones."
      ]
    },
    {
      "cell_type": "markdown",
      "metadata": {
        "id": "H6JGgcl_EeEu"
      },
      "source": [
        "\n",
        "\n",
        "---\n",
        "\n",
        "\n",
        "\n",
        "*El cálculo simbólico hace por el álgebra, por la trigonometría, por el\n",
        "cálculo y por el álgebra lineal lo que la calculadora científica hace\n",
        "por la aritmética.*\n",
        "\n",
        "---\n",
        "\n"
      ]
    },
    {
      "cell_type": "markdown",
      "metadata": {
        "id": "lbtx7qIZdc6X"
      },
      "source": [
        "La documentación y los paquetes de Sympy para la instalación se pueden encontrar en http://www.sympy.org/"
      ]
    },
    {
      "cell_type": "markdown",
      "source": [],
      "metadata": {
        "id": "TNGI7cCi1ENR"
      }
    },
    {
      "cell_type": "markdown",
      "metadata": {
        "id": "xL62hZ-gd5qC"
      },
      "source": [
        "# **Primeros pasos con SymPy**\n",
        "\n",
        "SymPy define tres tipos numéricos: `Real`, `Rational` y `integer`.\n",
        "\n",
        "La clase Rational representa un número racional como un par de dos Enteros: el numerador y el denominador, por lo que `Rational(1, 2)` representa $\\dfrac{1}{2}$, `Rational(5, 2)` $\\dfrac{5}{2}$ y así sucesivamente."
      ]
    },
    {
      "cell_type": "code",
      "metadata": {
        "id": "f0El8kfreaEO"
      },
      "source": [
        "import sympy as sym\n",
        "a = sym.Rational(1, 2)"
      ],
      "execution_count": null,
      "outputs": []
    },
    {
      "cell_type": "code",
      "metadata": {
        "colab": {
          "base_uri": "https://localhost:8080/",
          "height": 51
        },
        "id": "mAYTpm_WefHQ",
        "outputId": "665379fc-2395-4be4-8fed-1fe86d079ca4"
      },
      "source": [
        "a"
      ],
      "execution_count": null,
      "outputs": [
        {
          "output_type": "execute_result",
          "data": {
            "text/plain": [
              "1/2"
            ],
            "text/latex": "$\\displaystyle \\frac{1}{2}$"
          },
          "metadata": {},
          "execution_count": 2
        }
      ]
    },
    {
      "cell_type": "markdown",
      "metadata": {
        "id": "uuTHEOyOeiwZ"
      },
      "source": [
        "SymPy usa `mpmath` en segundo plano, lo que hace posible realizar cálculos usando aritmética de precisión arbitraria. De esa manera, algunas constantes especiales, como $e$, $\\pi$, $\\infty$ (oo), se tratan como símbolos y se pueden evaluar con precisión arbitraria:"
      ]
    },
    {
      "cell_type": "code",
      "metadata": {
        "colab": {
          "base_uri": "https://localhost:8080/"
        },
        "id": "XZrmMEpzYvAZ",
        "outputId": "442cbe0a-ffb2-43ad-ce10-2affb0b76962"
      },
      "source": [
        "import math as m\n",
        "m.pi"
      ],
      "execution_count": null,
      "outputs": [
        {
          "output_type": "execute_result",
          "data": {
            "text/plain": [
              "3.141592653589793"
            ]
          },
          "metadata": {},
          "execution_count": 3
        }
      ]
    },
    {
      "cell_type": "code",
      "metadata": {
        "id": "GwtE75ULehR_"
      },
      "source": [
        "#sym.pi**2\n",
        "#sym.pi.evalf()\n",
        "#(sym.pi + sym.exp(1)).evalf()\n",
        "#(sym.pi/2 - sym.pi/3)\n",
        "#sym.pi"
      ],
      "execution_count": null,
      "outputs": []
    },
    {
      "cell_type": "code",
      "source": [
        "sym.pi.evalf(5)"
      ],
      "metadata": {
        "colab": {
          "base_uri": "https://localhost:8080/",
          "height": 37
        },
        "id": "oPczHbhXs4qz",
        "outputId": "2e9659cf-a61c-4f8c-8dab-e2d95f428cfb"
      },
      "execution_count": null,
      "outputs": [
        {
          "output_type": "execute_result",
          "data": {
            "text/plain": [
              "3.1416"
            ],
            "text/latex": "$\\displaystyle 3.1416$"
          },
          "metadata": {},
          "execution_count": 5
        }
      ]
    },
    {
      "cell_type": "markdown",
      "metadata": {
        "id": "uHuZBpblfD7W"
      },
      "source": [
        "Como puede ver, `evalf` evalúa la expresión como un número de punto flotante.También hay una clase que representa el infinito matemático, llamada oo:"
      ]
    },
    {
      "cell_type": "code",
      "metadata": {
        "colab": {
          "base_uri": "https://localhost:8080/",
          "height": 37
        },
        "id": "RwEjETOve7zG",
        "outputId": "9891da87-f10b-4c0c-bdc7-e01ea8cb62f8"
      },
      "source": [
        "#sym.oo > 99999999\n",
        "sym.oo "
      ],
      "execution_count": null,
      "outputs": [
        {
          "output_type": "execute_result",
          "data": {
            "text/plain": [
              "oo"
            ],
            "text/latex": "$\\displaystyle \\infty$"
          },
          "metadata": {},
          "execution_count": 6
        }
      ]
    },
    {
      "cell_type": "markdown",
      "metadata": {
        "id": "do38y1MufNEY"
      },
      "source": [
        "### **EJERCICIO EN CLASE**\n",
        "\n",
        "* Calcule $\\sqrt{2}$ con $10$ decimales.\n",
        "* Calcule $1/2 + 1/3$ en forma tradicional."
      ]
    },
    {
      "cell_type": "code",
      "metadata": {
        "colab": {
          "base_uri": "https://localhost:8080/",
          "height": 39
        },
        "id": "UZKzRN0-w8kT",
        "outputId": "f90e39b8-e327-474a-91fa-71d4970fe3e2"
      },
      "source": [
        "\n",
        "sym.sqrt(2)"
      ],
      "execution_count": null,
      "outputs": [
        {
          "output_type": "execute_result",
          "data": {
            "text/plain": [
              "sqrt(2)"
            ],
            "text/latex": "$\\displaystyle \\sqrt{2}$"
          },
          "metadata": {},
          "execution_count": 7
        }
      ]
    },
    {
      "cell_type": "code",
      "metadata": {
        "colab": {
          "base_uri": "https://localhost:8080/",
          "height": 37
        },
        "id": "OlBdkVpMxot2",
        "outputId": "255d46e9-e2f6-44cb-f7ea-f829d7bdbefb"
      },
      "source": [
        "import sympy as sym\n",
        "sym.sqrt(2).evalf(11)"
      ],
      "execution_count": null,
      "outputs": [
        {
          "output_type": "execute_result",
          "data": {
            "text/plain": [
              "1.4142135624"
            ],
            "text/latex": "$\\displaystyle 1.4142135624$"
          },
          "metadata": {},
          "execution_count": 8
        }
      ]
    },
    {
      "cell_type": "code",
      "metadata": {
        "colab": {
          "base_uri": "https://localhost:8080/",
          "height": 51
        },
        "id": "sjS5eDEkxGrS",
        "outputId": "28c586f7-e172-48f4-9af5-f9ad7379a154"
      },
      "source": [
        "(sym.Rational(1,2)+sym.Rational(1,3))"
      ],
      "execution_count": null,
      "outputs": [
        {
          "output_type": "execute_result",
          "data": {
            "text/plain": [
              "5/6"
            ],
            "text/latex": "$\\displaystyle \\frac{5}{6}$"
          },
          "metadata": {},
          "execution_count": 9
        }
      ]
    },
    {
      "cell_type": "code",
      "metadata": {
        "colab": {
          "base_uri": "https://localhost:8080/",
          "height": 37
        },
        "id": "PuBcG9DRxcwA",
        "outputId": "783c9c86-6ee1-4037-e6aa-f8af558e62a5"
      },
      "source": [
        "(sym.Rational(1,2)+sym.Rational(1,3)).evalf()"
      ],
      "execution_count": null,
      "outputs": [
        {
          "output_type": "execute_result",
          "data": {
            "text/plain": [
              "0.833333333333333"
            ],
            "text/latex": "$\\displaystyle 0.833333333333333$"
          },
          "metadata": {},
          "execution_count": 10
        }
      ]
    },
    {
      "cell_type": "code",
      "metadata": {
        "colab": {
          "base_uri": "https://localhost:8080/",
          "height": 51
        },
        "id": "mg4krXGoZ2MC",
        "outputId": "6d45b8cf-e0bc-487a-9e45-42b4c5a312a5"
      },
      "source": [
        "sym.pi+sym.Rational(3,2)"
      ],
      "execution_count": null,
      "outputs": [
        {
          "output_type": "execute_result",
          "data": {
            "text/plain": [
              "3/2 + pi"
            ],
            "text/latex": "$\\displaystyle \\frac{3}{2} + \\pi$"
          },
          "metadata": {},
          "execution_count": 11
        }
      ]
    },
    {
      "cell_type": "code",
      "metadata": {
        "colab": {
          "base_uri": "https://localhost:8080/",
          "height": 37
        },
        "id": "tPRgvN-AbOnE",
        "outputId": "34be3e04-35ab-412f-e46c-45e354770e25"
      },
      "source": [
        "(sym.pi+sym.Rational(3,2)).evalf()"
      ],
      "execution_count": null,
      "outputs": [
        {
          "output_type": "execute_result",
          "data": {
            "text/plain": [
              "4.64159265358979"
            ],
            "text/latex": "$\\displaystyle 4.64159265358979$"
          },
          "metadata": {},
          "execution_count": 12
        }
      ]
    },
    {
      "cell_type": "markdown",
      "metadata": {
        "id": "Q4EG7ApgfsZQ"
      },
      "source": [
        "En contraste con otros sistemas de álgebra computarizada, en SymPy tienes que declarar variables simbólicas explícitamente:"
      ]
    },
    {
      "cell_type": "code",
      "metadata": {
        "id": "dk3SFyuufLXE"
      },
      "source": [
        "x = sym.Symbol('x')\n",
        "y = sym.Symbol('y')"
      ],
      "execution_count": null,
      "outputs": []
    },
    {
      "cell_type": "markdown",
      "metadata": {
        "id": "EQiTaYyFf-A3"
      },
      "source": [
        "Podemos operar en la forma tradicional del algebra de variables, trabajadas en los cursos previos de cálculo. Es decir, los símbolos ahora se pueden manipular usando algunos de los operadores de Python: +, -`, `` *, ** (aritmética), &, |, ~, (booleano)."
      ]
    },
    {
      "cell_type": "code",
      "metadata": {
        "colab": {
          "base_uri": "https://localhost:8080/",
          "height": 38
        },
        "id": "y1EbL7-Qfvr_",
        "outputId": "d5a143a7-7920-4928-cb04-b08632ccf303"
      },
      "source": [
        "x + y + x - y"
      ],
      "execution_count": null,
      "outputs": [
        {
          "output_type": "execute_result",
          "data": {
            "text/plain": [
              "2*x"
            ],
            "text/latex": "$\\displaystyle 2 x$"
          },
          "metadata": {},
          "execution_count": 14
        }
      ]
    },
    {
      "cell_type": "code",
      "metadata": {
        "colab": {
          "base_uri": "https://localhost:8080/",
          "height": 39
        },
        "id": "VxAN1AGqfzAW",
        "outputId": "f75ef9d3-17c1-4435-e1bc-44993965f688"
      },
      "source": [
        "(x - y)**3"
      ],
      "execution_count": null,
      "outputs": [
        {
          "output_type": "execute_result",
          "data": {
            "text/plain": [
              "(x - y)**3"
            ],
            "text/latex": "$\\displaystyle \\left(x - y\\right)^{3}$"
          },
          "metadata": {},
          "execution_count": 15
        }
      ]
    },
    {
      "cell_type": "code",
      "metadata": {
        "colab": {
          "base_uri": "https://localhost:8080/",
          "height": 38
        },
        "id": "dGxOabCSx_il",
        "outputId": "656324f4-c597-4334-eaa7-5ea38f4df438"
      },
      "source": [
        "2*x**2-4*x+1"
      ],
      "execution_count": null,
      "outputs": [
        {
          "output_type": "execute_result",
          "data": {
            "text/plain": [
              "2*x**2 - 4*x + 1"
            ],
            "text/latex": "$\\displaystyle 2 x^{2} - 4 x + 1$"
          },
          "metadata": {},
          "execution_count": 16
        }
      ]
    },
    {
      "cell_type": "markdown",
      "metadata": {
        "id": "wypjmAK8grz_"
      },
      "source": [
        "# **Manipulaciones algebraicas**\n",
        "\n",
        "SymPy es capaz de realizar poderosas manipulaciones algebraicas. Analizaremos algunos de los que se utilizan con más frecuencia: expandir y simplificar."
      ]
    },
    {
      "cell_type": "markdown",
      "metadata": {
        "id": "M4Qrjcg2m06p"
      },
      "source": [
        "\n",
        "Use esto para expandir una expresión algebraica. Intentará densar potencias y multiplicaciones:"
      ]
    },
    {
      "cell_type": "code",
      "metadata": {
        "colab": {
          "base_uri": "https://localhost:8080/",
          "height": 38
        },
        "id": "wzTkrL2bgdJb",
        "outputId": "b138943d-1510-47cb-f388-deafcc3ba000"
      },
      "source": [
        "sym.expand((x - y)**3)"
      ],
      "execution_count": null,
      "outputs": [
        {
          "output_type": "execute_result",
          "data": {
            "text/plain": [
              "x**3 - 3*x**2*y + 3*x*y**2 - y**3"
            ],
            "text/latex": "$\\displaystyle x^{3} - 3 x^{2} y + 3 x y^{2} - y^{3}$"
          },
          "metadata": {},
          "execution_count": 17
        }
      ]
    },
    {
      "cell_type": "markdown",
      "metadata": {
        "id": "9b1-qAhFm9V1"
      },
      "source": [
        "\n",
        "Se pueden dar más opciones en forma de palabras clave:"
      ]
    },
    {
      "cell_type": "code",
      "metadata": {
        "colab": {
          "base_uri": "https://localhost:8080/",
          "height": 38
        },
        "id": "4tjUvAA9m5gS",
        "outputId": "33234609-c81e-4a33-ae12-f8f0fd8ae3e4"
      },
      "source": [
        "sym.expand(x + y, complex=True)"
      ],
      "execution_count": null,
      "outputs": [
        {
          "output_type": "execute_result",
          "data": {
            "text/plain": [
              "re(x) + re(y) + I*im(x) + I*im(y)"
            ],
            "text/latex": "$\\displaystyle \\operatorname{re}{\\left(x\\right)} + \\operatorname{re}{\\left(y\\right)} + i \\operatorname{im}{\\left(x\\right)} + i \\operatorname{im}{\\left(y\\right)}$"
          },
          "metadata": {},
          "execution_count": 18
        }
      ]
    },
    {
      "cell_type": "code",
      "metadata": {
        "colab": {
          "base_uri": "https://localhost:8080/",
          "height": 38
        },
        "id": "t84sS-tjnFD4",
        "outputId": "c16e1197-5b3b-4934-bb0c-b4e7e7f77361"
      },
      "source": [
        "sym.expand(sym.cos(x + y), trig=True)"
      ],
      "execution_count": null,
      "outputs": [
        {
          "output_type": "execute_result",
          "data": {
            "text/plain": [
              "-sin(x)*sin(y) + cos(x)*cos(y)"
            ],
            "text/latex": "$\\displaystyle - \\sin{\\left(x \\right)} \\sin{\\left(y \\right)} + \\cos{\\left(x \\right)} \\cos{\\left(y \\right)}$"
          },
          "metadata": {},
          "execution_count": 19
        }
      ]
    },
    {
      "cell_type": "code",
      "source": [],
      "metadata": {
        "id": "S-McNd3mc_gW"
      },
      "execution_count": null,
      "outputs": []
    },
    {
      "cell_type": "code",
      "metadata": {
        "colab": {
          "base_uri": "https://localhost:8080/",
          "height": 38
        },
        "id": "cwBZjGOAyihV",
        "outputId": "44870cf1-6f9b-4171-e7d6-0fbb21d25b13"
      },
      "source": [
        "sym.expand(sym.sin(2*x), trig=True)"
      ],
      "execution_count": null,
      "outputs": [
        {
          "output_type": "execute_result",
          "data": {
            "text/plain": [
              "2*sin(x)*cos(x)"
            ],
            "text/latex": "$\\displaystyle 2 \\sin{\\left(x \\right)} \\cos{\\left(x \\right)}$"
          },
          "metadata": {},
          "execution_count": 20
        }
      ]
    },
    {
      "cell_type": "code",
      "metadata": {
        "colab": {
          "base_uri": "https://localhost:8080/",
          "height": 38
        },
        "id": "Ol0QMGsneayt",
        "outputId": "c3aae536-28d8-4144-d06e-ce7cee628bc5"
      },
      "source": [
        "sym.expand((x-2)**2+(x-4)**2+(x-6)**2)"
      ],
      "execution_count": null,
      "outputs": [
        {
          "output_type": "execute_result",
          "data": {
            "text/plain": [
              "3*x**2 - 24*x + 56"
            ],
            "text/latex": "$\\displaystyle 3 x^{2} - 24 x + 56$"
          },
          "metadata": {},
          "execution_count": 21
        }
      ]
    },
    {
      "cell_type": "markdown",
      "metadata": {
        "id": "sh6OOGRdnSBC"
      },
      "source": [
        "\n",
        "Utilice simplificar si desea transformar una expresión en una forma más simple:"
      ]
    },
    {
      "cell_type": "code",
      "metadata": {
        "colab": {
          "base_uri": "https://localhost:8080/",
          "height": 38
        },
        "id": "N5-6nElAnIcV",
        "outputId": "9982e2a9-f25b-4cc5-e87e-c5b54fecad3d"
      },
      "source": [
        "sym.simplify((x + x * y) / x)"
      ],
      "execution_count": null,
      "outputs": [
        {
          "output_type": "execute_result",
          "data": {
            "text/plain": [
              "y + 1"
            ],
            "text/latex": "$\\displaystyle y + 1$"
          },
          "metadata": {},
          "execution_count": 22
        }
      ]
    },
    {
      "cell_type": "code",
      "metadata": {
        "colab": {
          "base_uri": "https://localhost:8080/",
          "height": 37
        },
        "id": "NQ2OMzSqzOU8",
        "outputId": "f303c919-8546-48ef-bd2c-31d0e29b82f5"
      },
      "source": [
        "sym.simplify(sym.sin(x)**2+sym.cos(x)**2, trig=True)"
      ],
      "execution_count": null,
      "outputs": [
        {
          "output_type": "execute_result",
          "data": {
            "text/plain": [
              "1"
            ],
            "text/latex": "$\\displaystyle 1$"
          },
          "metadata": {},
          "execution_count": 23
        }
      ]
    },
    {
      "cell_type": "code",
      "metadata": {
        "colab": {
          "base_uri": "https://localhost:8080/",
          "height": 38
        },
        "id": "bQM4WAzSfnw2",
        "outputId": "bf0c3cfd-ce51-475a-f9af-bdc9f1dbd4b2"
      },
      "source": [
        "sym.factor(x**2-5*x+6) #Cambiamos la instrucci\\'on simplify por factor."
      ],
      "execution_count": null,
      "outputs": [
        {
          "output_type": "execute_result",
          "data": {
            "text/plain": [
              "(x - 3)*(x - 2)"
            ],
            "text/latex": "$\\displaystyle \\left(x - 3\\right) \\left(x - 2\\right)$"
          },
          "metadata": {},
          "execution_count": 24
        }
      ]
    },
    {
      "cell_type": "code",
      "metadata": {
        "colab": {
          "base_uri": "https://localhost:8080/",
          "height": 38
        },
        "id": "8bwQqXwXgfJq",
        "outputId": "dd12e8a7-a890-435e-e4db-4230a0a93724"
      },
      "source": [
        "sym.simplify((1+sym.cos(2*x))/2, trig=True)"
      ],
      "execution_count": null,
      "outputs": [
        {
          "output_type": "execute_result",
          "data": {
            "text/plain": [
              "cos(x)**2"
            ],
            "text/latex": "$\\displaystyle \\cos^{2}{\\left(x \\right)}$"
          },
          "metadata": {},
          "execution_count": 25
        }
      ]
    },
    {
      "cell_type": "markdown",
      "metadata": {
        "id": "GI6iShkjnYIE"
      },
      "source": [
        "\n",
        "La simplificación es un término algo vago, y existen alternativas más precisas para simplificar: `powsimp` (simplificación de exponentes), `trigsimp` (para expresiones trigonométricas), `logcombine`, `radsimp`, juntos."
      ]
    },
    {
      "cell_type": "markdown",
      "metadata": {
        "id": "JzUmEFfsniGx"
      },
      "source": [
        "## **EXERCISES IN CLASS**\n",
        "\n",
        "* Calculate the expanded form of $(x+y)^6$.\n",
        "* Simplify the trigonometric expression $\\dfrac{\\sin(x)}{\\cos(x)}$."
      ]
    },
    {
      "cell_type": "markdown",
      "metadata": {
        "id": "49w6f3-_oD3R"
      },
      "source": [
        "# **CÁLCULO**\n",
        "\n"
      ]
    },
    {
      "cell_type": "code",
      "metadata": {
        "id": "LpsZXr7PnVe9"
      },
      "source": [
        "from sympy import *\n",
        "x, y, z, t = symbols('x y z t')"
      ],
      "execution_count": null,
      "outputs": []
    },
    {
      "cell_type": "code",
      "metadata": {
        "colab": {
          "base_uri": "https://localhost:8080/",
          "height": 38
        },
        "id": "VoX0UyU_oP2q",
        "outputId": "f7df131e-92ba-4dd8-c401-04557f900e0a"
      },
      "source": [
        "diff(cos(x), x) #Primera derivada de Cos(x)"
      ],
      "execution_count": null,
      "outputs": [
        {
          "output_type": "execute_result",
          "data": {
            "text/plain": [
              "-sin(x)"
            ],
            "text/latex": "$\\displaystyle - \\sin{\\left(x \\right)}$"
          },
          "metadata": {},
          "execution_count": 27
        }
      ]
    },
    {
      "cell_type": "code",
      "metadata": {
        "colab": {
          "base_uri": "https://localhost:8080/",
          "height": 38
        },
        "id": "yc8atK4z24VF",
        "outputId": "750238c2-d118-4202-b9a4-cec059ebd3aa"
      },
      "source": [
        "diff(x**3*cos(5*x), x, 3) #Tercera derivada de x^3Cos(5x)"
      ],
      "execution_count": null,
      "outputs": [
        {
          "output_type": "execute_result",
          "data": {
            "text/plain": [
              "125*x**3*sin(5*x) - 225*x**2*cos(5*x) - 90*x*sin(5*x) + 6*cos(5*x)"
            ],
            "text/latex": "$\\displaystyle 125 x^{3} \\sin{\\left(5 x \\right)} - 225 x^{2} \\cos{\\left(5 x \\right)} - 90 x \\sin{\\left(5 x \\right)} + 6 \\cos{\\left(5 x \\right)}$"
          },
          "metadata": {},
          "execution_count": 28
        }
      ]
    },
    {
      "cell_type": "code",
      "metadata": {
        "colab": {
          "base_uri": "https://localhost:8080/",
          "height": 38
        },
        "id": "vTUfCIp7oRNi",
        "outputId": "036a6f2c-9e6a-4925-c6e2-0cb62a88189d"
      },
      "source": [
        "diff(sin(x*y), x,y) #Segunda derivada parcial de Sen(xy) con respecto a x y con respecto a y."
      ],
      "execution_count": null,
      "outputs": [
        {
          "output_type": "execute_result",
          "data": {
            "text/plain": [
              "-x*y*sin(x*y) + cos(x*y)"
            ],
            "text/latex": "$\\displaystyle - x y \\sin{\\left(x y \\right)} + \\cos{\\left(x y \\right)}$"
          },
          "metadata": {},
          "execution_count": 29
        }
      ]
    },
    {
      "cell_type": "code",
      "metadata": {
        "colab": {
          "base_uri": "https://localhost:8080/",
          "height": 38
        },
        "id": "lGMUvVuyoStJ",
        "outputId": "3c61600e-4210-4c98-b559-ddf7d4825095"
      },
      "source": [
        "integrate(exp(-x),x) "
      ],
      "execution_count": null,
      "outputs": [
        {
          "output_type": "execute_result",
          "data": {
            "text/plain": [
              "-exp(-x)"
            ],
            "text/latex": "$\\displaystyle - e^{- x}$"
          },
          "metadata": {},
          "execution_count": 30
        }
      ]
    },
    {
      "cell_type": "code",
      "metadata": {
        "id": "dzykW3xToUiR"
      },
      "source": [
        "expr= Integral(exp(-x**2 - y**2), (x, -oo, oo), (y, -oo, oo)) "
      ],
      "execution_count": null,
      "outputs": []
    },
    {
      "cell_type": "code",
      "metadata": {
        "colab": {
          "base_uri": "https://localhost:8080/",
          "height": 78
        },
        "id": "qG5eyrqwoWwT",
        "outputId": "b0b9d0ed-f008-4600-8bb1-c644f499264e"
      },
      "source": [
        "expr"
      ],
      "execution_count": null,
      "outputs": [
        {
          "output_type": "execute_result",
          "data": {
            "text/plain": [
              "Integral(exp(-x**2 - y**2), (x, -oo, oo), (y, -oo, oo))"
            ],
            "text/latex": "$\\displaystyle \\int\\limits_{-\\infty}^{\\infty}\\int\\limits_{-\\infty}^{\\infty} e^{- x^{2} - y^{2}}\\, dx\\, dy$"
          },
          "metadata": {},
          "execution_count": 32
        }
      ]
    },
    {
      "cell_type": "code",
      "metadata": {
        "colab": {
          "base_uri": "https://localhost:8080/",
          "height": 38
        },
        "id": "xqU4fFnCjcDK",
        "outputId": "f5da3863-192f-480c-8f81-f9469135e784"
      },
      "source": [
        "expr= integrate(exp(-x**2 - y**2), (x, -oo, oo), (y, -oo, oo)) \n",
        "expr"
      ],
      "execution_count": null,
      "outputs": [
        {
          "output_type": "execute_result",
          "data": {
            "text/plain": [
              "pi"
            ],
            "text/latex": "$\\displaystyle \\pi$"
          },
          "metadata": {},
          "execution_count": 33
        }
      ]
    },
    {
      "cell_type": "code",
      "metadata": {
        "colab": {
          "base_uri": "https://localhost:8080/",
          "height": 62
        },
        "id": "AunDJe4WjSmP",
        "outputId": "948766f6-99d1-4468-ab5f-3f3e7a81c4a8"
      },
      "source": [
        "integ = Integral((x**4 + x**2*exp(x) - x**2 - 2*x*exp(x) - 2*x -exp(x))*exp(x)/((x - 1)**2*(x + 1)**2*(exp(x) + 1)), x)\n",
        "integ\n"
      ],
      "execution_count": null,
      "outputs": [
        {
          "output_type": "execute_result",
          "data": {
            "text/plain": [
              "Integral((x**4 + x**2*exp(x) - x**2 - 2*x*exp(x) - 2*x - exp(x))*exp(x)/((x - 1)**2*(x + 1)**2*(exp(x) + 1)), x)"
            ],
            "text/latex": "$\\displaystyle \\int \\frac{\\left(x^{4} + x^{2} e^{x} - x^{2} - 2 x e^{x} - 2 x - e^{x}\\right) e^{x}}{\\left(x - 1\\right)^{2} \\left(x + 1\\right)^{2} \\left(e^{x} + 1\\right)}\\, dx$"
          },
          "metadata": {},
          "execution_count": 34
        }
      ]
    },
    {
      "cell_type": "code",
      "metadata": {
        "id": "qp7joQTtoZLH"
      },
      "source": [
        "expr1 = Limit((cos(x) - 1)/x, x, 0,'+')"
      ],
      "execution_count": null,
      "outputs": []
    },
    {
      "cell_type": "code",
      "metadata": {
        "colab": {
          "base_uri": "https://localhost:8080/",
          "height": 58
        },
        "id": "fkwd5lO6oa7O",
        "outputId": "2d962c8c-a94a-4c60-861d-3cbc7a9c5f64"
      },
      "source": [
        "expr1 "
      ],
      "execution_count": null,
      "outputs": [
        {
          "output_type": "execute_result",
          "data": {
            "text/plain": [
              "Limit((cos(x) - 1)/x, x, 0)"
            ],
            "text/latex": "$\\displaystyle \\lim_{x \\to 0^+}\\left(\\frac{\\cos{\\left(x \\right)} - 1}{x}\\right)$"
          },
          "metadata": {},
          "execution_count": 36
        }
      ]
    },
    {
      "cell_type": "code",
      "metadata": {
        "colab": {
          "base_uri": "https://localhost:8080/",
          "height": 37
        },
        "id": "ENfkRCEG4Bl9",
        "outputId": "ebd71ed9-f927-42f2-e622-98e2fad44c2e"
      },
      "source": [
        "limit((cos(x) - 1)/x, x, 0)"
      ],
      "execution_count": null,
      "outputs": [
        {
          "output_type": "execute_result",
          "data": {
            "text/plain": [
              "0"
            ],
            "text/latex": "$\\displaystyle 0$"
          },
          "metadata": {},
          "execution_count": 37
        }
      ]
    },
    {
      "cell_type": "code",
      "metadata": {
        "colab": {
          "base_uri": "https://localhost:8080/",
          "height": 51
        },
        "id": "BRcvJ1ut5e_-",
        "outputId": "50bc71e8-14e7-4849-9033-d93393ebb93d"
      },
      "source": [
        "limit((cos(x) - 1)/x**2, x, 0)"
      ],
      "execution_count": null,
      "outputs": [
        {
          "output_type": "execute_result",
          "data": {
            "text/plain": [
              "-1/2"
            ],
            "text/latex": "$\\displaystyle - \\frac{1}{2}$"
          },
          "metadata": {},
          "execution_count": 38
        }
      ]
    },
    {
      "cell_type": "code",
      "metadata": {
        "colab": {
          "base_uri": "https://localhost:8080/",
          "height": 37
        },
        "id": "_I0KUgpn4IMC",
        "outputId": "b8f0dc4f-1f47-41ed-ffb3-b57d90078ac6"
      },
      "source": [
        "limit(abs(x-1)/(x-1),x,1,'+')#Limites laterales"
      ],
      "execution_count": null,
      "outputs": [
        {
          "output_type": "execute_result",
          "data": {
            "text/plain": [
              "1"
            ],
            "text/latex": "$\\displaystyle 1$"
          },
          "metadata": {},
          "execution_count": 39
        }
      ]
    },
    {
      "cell_type": "markdown",
      "metadata": {
        "id": "DILExcsRokK6"
      },
      "source": [
        "SymPy también sabe cómo calcular la serie de Taylor de una expresión en un punto."
      ]
    },
    {
      "cell_type": "code",
      "metadata": {
        "colab": {
          "base_uri": "https://localhost:8080/",
          "height": 54
        },
        "id": "9LjEWYQ1ocx5",
        "outputId": "363fc28f-d772-45ba-febe-40e128e6e850"
      },
      "source": [
        "series(sym.cos(x), x, 0, 20)"
      ],
      "execution_count": null,
      "outputs": [
        {
          "output_type": "execute_result",
          "data": {
            "text/plain": [
              "1 - x**2/2 + x**4/24 - x**6/720 + x**8/40320 - x**10/3628800 + x**12/479001600 - x**14/87178291200 + x**16/20922789888000 - x**18/6402373705728000 + O(x**20)"
            ],
            "text/latex": "$\\displaystyle 1 - \\frac{x^{2}}{2} + \\frac{x^{4}}{24} - \\frac{x^{6}}{720} + \\frac{x^{8}}{40320} - \\frac{x^{10}}{3628800} + \\frac{x^{12}}{479001600} - \\frac{x^{14}}{87178291200} + \\frac{x^{16}}{20922789888000} - \\frac{x^{18}}{6402373705728000} + O\\left(x^{20}\\right)$"
          },
          "metadata": {},
          "execution_count": 40
        }
      ]
    },
    {
      "cell_type": "code",
      "metadata": {
        "colab": {
          "base_uri": "https://localhost:8080/",
          "height": 56
        },
        "id": "X_gHfna8onGs",
        "outputId": "8d7ccab8-0265-4696-f683-55d66bc6ee48"
      },
      "source": [
        "\n",
        "sym.series(1/sym.cos(x), x, pi, 14)"
      ],
      "execution_count": null,
      "outputs": [
        {
          "output_type": "execute_result",
          "data": {
            "text/plain": [
              "-1 - (x - pi)**2/2 - 5*(x - pi)**4/24 - 61*(x - pi)**6/720 - 277*(x - pi)**8/8064 - 50521*(x - pi)**10/3628800 - 540553*(x - pi)**12/95800320 + O((x - pi)**14, (x, pi))"
            ],
            "text/latex": "$\\displaystyle -1 - \\frac{\\left(x - \\pi\\right)^{2}}{2} - \\frac{5 \\left(x - \\pi\\right)^{4}}{24} - \\frac{61 \\left(x - \\pi\\right)^{6}}{720} - \\frac{277 \\left(x - \\pi\\right)^{8}}{8064} - \\frac{50521 \\left(x - \\pi\\right)^{10}}{3628800} - \\frac{540553 \\left(x - \\pi\\right)^{12}}{95800320} + O\\left(\\left(x - \\pi\\right)^{14}; x\\rightarrow \\pi\\right)$"
          },
          "metadata": {},
          "execution_count": 41
        }
      ]
    },
    {
      "cell_type": "markdown",
      "metadata": {
        "id": "E7wa50wIosTl"
      },
      "source": [
        "\n",
        "# **Resolución de ecuaciones**\n",
        "\n",
        "\n",
        "SymPy es capaz de resolver ecuaciones algebraicas, en una y varias variables usando `solveset()`:"
      ]
    },
    {
      "cell_type": "code",
      "metadata": {
        "colab": {
          "base_uri": "https://localhost:8080/",
          "height": 38
        },
        "id": "IjEaxOooorN4",
        "outputId": "16bf3735-971e-4f5c-daf2-76f12e3b3b7d"
      },
      "source": [
        "solveset(x ** 4 - 1, x)"
      ],
      "execution_count": null,
      "outputs": [
        {
          "output_type": "execute_result",
          "data": {
            "text/plain": [
              "FiniteSet(-1, 1, I, -I)"
            ],
            "text/latex": "$\\displaystyle \\left\\{-1, 1, - i, i\\right\\}$"
          },
          "metadata": {},
          "execution_count": 42
        }
      ]
    },
    {
      "cell_type": "code",
      "metadata": {
        "colab": {
          "base_uri": "https://localhost:8080/",
          "height": 68
        },
        "id": "p8gQgNvn7H4p",
        "outputId": "eba2ddd8-e37e-4ee0-a11a-59eff7024528"
      },
      "source": [
        "solveset(2*x**2-4*x+1,x)"
      ],
      "execution_count": null,
      "outputs": [
        {
          "output_type": "execute_result",
          "data": {
            "text/plain": [
              "FiniteSet(1 - sqrt(2)/2, sqrt(2)/2 + 1)"
            ],
            "text/latex": "$\\displaystyle \\left\\{1 - \\frac{\\sqrt{2}}{2}, \\frac{\\sqrt{2}}{2} + 1\\right\\}$"
          },
          "metadata": {},
          "execution_count": 43
        }
      ]
    },
    {
      "cell_type": "markdown",
      "metadata": {
        "id": "OxH_iWNGo79_"
      },
      "source": [
        "Como puede ver, toma como primer argumento una expresión que se supone que es igual a $0$. También tiene soporte (limitado) para ecuaciones trascendentales:"
      ]
    },
    {
      "cell_type": "code",
      "metadata": {
        "colab": {
          "base_uri": "https://localhost:8080/",
          "height": 38
        },
        "id": "UUgNZml-o5Kw",
        "outputId": "7127862d-c582-4416-e1f9-f6cc0caa3dac"
      },
      "source": [
        "solveset(exp(x) + 1, x)"
      ],
      "execution_count": null,
      "outputs": [
        {
          "output_type": "execute_result",
          "data": {
            "text/plain": [
              "ImageSet(Lambda(_n, I*(2*_n*pi + pi)), Integers)"
            ],
            "text/latex": "$\\displaystyle \\left\\{i \\left(2 n \\pi + \\pi\\right)\\; |\\; n \\in \\mathbb{Z}\\right\\}$"
          },
          "metadata": {},
          "execution_count": 44
        }
      ]
    },
    {
      "cell_type": "code",
      "metadata": {
        "colab": {
          "base_uri": "https://localhost:8080/",
          "height": 58
        },
        "id": "EEgZ_djP7eBB",
        "outputId": "155e1ddd-7936-4f1b-95b5-435c81a51b4d"
      },
      "source": [
        "solveset(sin(x)+cos(x),x, domain= S.Reals)"
      ],
      "execution_count": null,
      "outputs": [
        {
          "output_type": "execute_result",
          "data": {
            "text/plain": [
              "Union(ImageSet(Lambda(_n, 2*_n*pi + 3*pi/4), Integers), ImageSet(Lambda(_n, 2*_n*pi + 7*pi/4), Integers))"
            ],
            "text/latex": "$\\displaystyle \\left\\{2 n \\pi + \\frac{3 \\pi}{4}\\; |\\; n \\in \\mathbb{Z}\\right\\} \\cup \\left\\{2 n \\pi + \\frac{7 \\pi}{4}\\; |\\; n \\in \\mathbb{Z}\\right\\}$"
          },
          "metadata": {},
          "execution_count": 45
        }
      ]
    },
    {
      "cell_type": "markdown",
      "metadata": {
        "id": "RpE1zLbQpGGK"
      },
      "source": [
        "### **Sistemas de ecuaciones lineales**\n",
        "\n",
        "Sympy es capaz de resolver una gran parte de ecuaciones polinomiales y también es capaz de resolver múltiples ecuaciones con respecto a múltiples variables dando una tupla como segundo argumento. Para hacer esto, usa el comando `solve():`"
      ]
    },
    {
      "cell_type": "code",
      "metadata": {
        "id": "l25mcgcOpCPk"
      },
      "source": [
        "solution = solve((x + 5*y - 2, -3*x+y-15))"
      ],
      "execution_count": null,
      "outputs": []
    },
    {
      "cell_type": "code",
      "metadata": {
        "colab": {
          "base_uri": "https://localhost:8080/"
        },
        "id": "YmuRq77lpQlP",
        "outputId": "c570038b-29b6-4103-8d9d-c45b75b216eb"
      },
      "source": [
        "solution"
      ],
      "execution_count": null,
      "outputs": [
        {
          "output_type": "execute_result",
          "data": {
            "text/plain": [
              "{x: -73/16, y: 21/16}"
            ]
          },
          "metadata": {},
          "execution_count": 47
        }
      ]
    },
    {
      "cell_type": "markdown",
      "metadata": {
        "id": "PX3mP1lxpYWy"
      },
      "source": [
        "### **EJERCICIO EN CLASE**\n",
        "\n",
        "\n",
        "Resuelve el sistema de ecuaciones $x + y = 2$, $2x + y = 0$"
      ]
    },
    {
      "cell_type": "code",
      "source": [
        "#Escribe codigo aqui"
      ],
      "metadata": {
        "id": "2zNycpzeqzMW"
      },
      "execution_count": null,
      "outputs": []
    },
    {
      "cell_type": "markdown",
      "metadata": {
        "id": "WjTqa2mv8rPd"
      },
      "source": [
        "[SOLUCION A UN SISTEMA NO LINEAL](https://youtu.be/kUH831_Hm6k).\n",
        "\n",
        "Resuelve el sistema de ecuaciones a contianuacion, empleando alguna herramienta de **sympy**:\n",
        "\n",
        "$6x^2+3y^2=12$ y $x+y=2$."
      ]
    },
    {
      "cell_type": "code",
      "metadata": {
        "id": "xiD568OC8q3e",
        "colab": {
          "base_uri": "https://localhost:8080/",
          "height": 58
        },
        "outputId": "23ab418d-44b4-47b4-c645-2fe33cb57af3"
      },
      "source": [
        "nonlinsolve((6*x**2 + 3*y**2-12, x + y - 2), (x, y))"
      ],
      "execution_count": null,
      "outputs": [
        {
          "output_type": "execute_result",
          "data": {
            "text/plain": [
              "FiniteSet((0, 2), (4/3, 2/3))"
            ],
            "text/latex": "$\\displaystyle \\left\\{\\left( 0, \\  2\\right), \\left( \\frac{4}{3}, \\  \\frac{2}{3}\\right)\\right\\}$"
          },
          "metadata": {},
          "execution_count": 49
        }
      ]
    },
    {
      "cell_type": "markdown",
      "metadata": {
        "id": "qFewV9QQpn9E"
      },
      "source": [
        "\n",
        "# **Ecuaciones diferenciales**\n",
        "\n",
        "SymPy es capaz de resolver (algunos) ecuaciones diferenciales ordinarias. Para resolver ecuaciones diferenciales, se usa `dsolve`. Primero, cree una función indefinida pasando `cls = Functio`n a la función de símbolos:"
      ]
    },
    {
      "cell_type": "code",
      "metadata": {
        "id": "x8uaVZl4pSTv"
      },
      "source": [
        "f, g = symbols('f g', cls=Function)"
      ],
      "execution_count": null,
      "outputs": []
    },
    {
      "cell_type": "markdown",
      "metadata": {
        "id": "6FJVVSIjqJhJ"
      },
      "source": [
        "\n",
        "$f$ y $g$ ahora son funciones indefinidas. Podemos llamar a $f(x)$, y representará una función desconocida:"
      ]
    },
    {
      "cell_type": "code",
      "metadata": {
        "id": "eK7Ww9B-qCrz",
        "colab": {
          "base_uri": "https://localhost:8080/",
          "height": 39
        },
        "outputId": "e30a6c2d-9751-4eb8-ad1a-246599fe1ad4"
      },
      "source": [
        "f(x)\n",
        "f(x).diff(x,2) + f(x)\n",
        "dsolve(f(x).diff(x, 2) + f(x), f(x))"
      ],
      "execution_count": null,
      "outputs": [
        {
          "output_type": "execute_result",
          "data": {
            "text/plain": [
              "Eq(f(x), C1*sin(x) + C2*cos(x))"
            ],
            "text/latex": "$\\displaystyle f{\\left(x \\right)} = C_{1} \\sin{\\left(x \\right)} + C_{2} \\cos{\\left(x \\right)}$"
          },
          "metadata": {},
          "execution_count": 51
        }
      ]
    },
    {
      "cell_type": "markdown",
      "metadata": {
        "id": "1CzB_GDuqSMz"
      },
      "source": [
        "Se pueden proporcionar argumentos de palabras clave a esta función para ayudar a encontrar el mejor sistema de resolución posible. Por ejemplo, si sabe que es una ecuación separable, puede usar la palabra clave `hint = 'separable'` para forzar a `dsolve` a resolverla como una ecuación separable:"
      ]
    },
    {
      "cell_type": "code",
      "metadata": {
        "id": "Uoqht04xqPEi",
        "colab": {
          "base_uri": "https://localhost:8080/"
        },
        "outputId": "daae555d-389c-4f8b-cd96-e2f22a3c4972"
      },
      "source": [
        "dsolve(sin(x)*cos(f(x)) + cos(x)*sin(f(x))*f(x).diff(x), f(x), hint='separable') "
      ],
      "execution_count": null,
      "outputs": [
        {
          "output_type": "execute_result",
          "data": {
            "text/plain": [
              "[Eq(f(x), -acos(C1/cos(x)) + 2*pi), Eq(f(x), acos(C1/cos(x)))]"
            ]
          },
          "metadata": {},
          "execution_count": 52
        }
      ]
    },
    {
      "cell_type": "code",
      "metadata": {
        "id": "imcNhV7H-m3Z",
        "colab": {
          "base_uri": "https://localhost:8080/"
        },
        "outputId": "b41044a9-d753-43fc-850f-0622c98d1e18"
      },
      "source": [
        "dsolve(sin(x)*cos(f(x)) + cos(x)*sin(f(x))*f(x).diff(x), f(x))"
      ],
      "execution_count": null,
      "outputs": [
        {
          "output_type": "execute_result",
          "data": {
            "text/plain": [
              "[Eq(f(x), -acos(C1/cos(x)) + 2*pi), Eq(f(x), acos(C1/cos(x)))]"
            ]
          },
          "metadata": {},
          "execution_count": 53
        }
      ]
    }
  ]
}