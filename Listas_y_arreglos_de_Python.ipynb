{
  "cells": [
    {
      "cell_type": "markdown",
      "metadata": {
        "id": "KIhdxZlmwhu7"
      },
      "source": [
        "# Listas en Python\n",
        "\n",
        "*Roy Alejandro Gómez Ávila*\n",
        "\n",
        "Una lista es una estructura de datos en Python conformada como una secuencia de elementos ordenada y modificable. Cada elemento o valor que está dentro de una lista se llama elemento. Así como las cadenas se definen como caracteres entre comillas, las listas se definen teniendo sus elementos entre corchetes `[ ... ]` y separandolos con comas  `,`.\n",
        "\n",
        "\n",
        "\n"
      ]
    },
    {
      "cell_type": "markdown",
      "metadata": {
        "id": "Vhe0R6LMwhvA"
      },
      "source": [
        "**Ejemplo 1** *(días de la semana)* Una lista que contengan los días de la semana."
      ]
    },
    {
      "cell_type": "code",
      "execution_count": null,
      "metadata": {
        "id": "ehqVpIbwwhvA"
      },
      "outputs": [],
      "source": [
        "Dias=[\"Lunes\",\"Martes\",\"Miércoles\",\"Jueves\",\"Viernes\",\"Sábado\",\"Domingo\"]"
      ]
    },
    {
      "cell_type": "code",
      "execution_count": null,
      "metadata": {
        "id": "pT-1poB4whvB"
      },
      "outputs": [],
      "source": [
        "Dias"
      ]
    },
    {
      "cell_type": "markdown",
      "metadata": {
        "id": "duHUGL33whvB"
      },
      "source": [
        "**Ejemplo 2** *(frutas y verduras)* Haga una lista de frutas y verduras:"
      ]
    },
    {
      "cell_type": "code",
      "execution_count": null,
      "metadata": {
        "id": "r2N4XDnCwhvB"
      },
      "outputs": [],
      "source": [
        "FV=[\"Fresas\",\"Papaya\",\"Limón\",\"Brocoli\",\"Acelgas\",\"Espinacas\"]"
      ]
    },
    {
      "cell_type": "code",
      "execution_count": null,
      "metadata": {
        "id": "wKacyzW6whvC"
      },
      "outputs": [],
      "source": [
        "FV"
      ]
    },
    {
      "cell_type": "code",
      "execution_count": null,
      "metadata": {
        "id": "jK3_jnUGwhvC"
      },
      "outputs": [],
      "source": [
        "type(FV)"
      ]
    },
    {
      "cell_type": "code",
      "execution_count": null,
      "metadata": {
        "id": "Dtqgf32kwhvC"
      },
      "outputs": [],
      "source": [
        "print(FV)"
      ]
    },
    {
      "cell_type": "markdown",
      "metadata": {
        "id": "SzHUoc9DwhvC"
      },
      "source": [
        "## Explorar listas\n",
        "\n",
        "Usamos paréntesis cuadrados para indicar el índice del elemento de la lista que queremos llamar, el conteo siempre inicia en 0. Por ejemplo, el primer, el tercer y el cuarto elemento de la lista `FV` se designan:"
      ]
    },
    {
      "cell_type": "code",
      "execution_count": null,
      "metadata": {
        "id": "jezSnvd6whvD"
      },
      "outputs": [],
      "source": [
        "print(\"Primer elemento: \",FV[0])\n",
        "print(\"Tercer elemento: \",FV[2])\n",
        "print(\"Cuarto elemento: \",FV[3])"
      ]
    },
    {
      "cell_type": "markdown",
      "metadata": {
        "id": "fzN1p8bMwhvD"
      },
      "source": [
        "**Índices Negativos**\n",
        "\n",
        "Los índices negativos permiten explorar la lista desde el último elemento, así `Lista[-1]` es el último elemento de la lista, `Lista[-2]` es el penúltimo y así sucesivamente."
      ]
    },
    {
      "cell_type": "code",
      "execution_count": null,
      "metadata": {
        "id": "vvYWqiQlwhvD"
      },
      "outputs": [],
      "source": [
        "Dias[-1]"
      ]
    },
    {
      "cell_type": "code",
      "execution_count": null,
      "metadata": {
        "id": "a7sx49QXwhvD"
      },
      "outputs": [],
      "source": [
        "Dias[-2]"
      ]
    },
    {
      "cell_type": "code",
      "execution_count": null,
      "metadata": {
        "id": "vW4i2tOewhvE"
      },
      "outputs": [],
      "source": [
        "Dias[-3]"
      ]
    },
    {
      "cell_type": "markdown",
      "metadata": {
        "id": "UPWUZnNEwhvE"
      },
      "source": [
        "**Rango de índices** \n",
        "\n",
        "También podemos extraer de la lista una sublista con un rango específico de indices, escribimos `Lista[i:j]`donde i representa el índice inicial del rango y j el índice final más 1. Por ejemplo, si quiero extraer de la lista `Dias` los tres días de la semana después del martes, inicio con el índice de martes (1) y termino con el índice de viernes (4):"
      ]
    },
    {
      "cell_type": "code",
      "execution_count": null,
      "metadata": {
        "id": "NFoKuP3zwhvE"
      },
      "outputs": [],
      "source": [
        "Dias[1:4]"
      ]
    },
    {
      "cell_type": "markdown",
      "metadata": {
        "id": "H61c21fYwhvE"
      },
      "source": [
        "Si quiero extraer una lista que inicia con un índice i y termina en el final escribo `Lista[i:]`, por ejemplo: "
      ]
    },
    {
      "cell_type": "code",
      "execution_count": null,
      "metadata": {
        "id": "Go4-3R6kwhvE"
      },
      "outputs": [],
      "source": [
        "Dias[3::3]"
      ]
    },
    {
      "cell_type": "code",
      "execution_count": null,
      "metadata": {
        "id": "MlXlibkYwhvF"
      },
      "outputs": [],
      "source": [
        "Dias[-3:]"
      ]
    },
    {
      "cell_type": "markdown",
      "metadata": {
        "id": "mWDl6YG1whvF"
      },
      "source": [
        "Si por el contrario busco extraer una lista que inicia desde el principio de la lista y termina con el elemento j escribimos `Lista[:j]`"
      ]
    },
    {
      "cell_type": "code",
      "execution_count": null,
      "metadata": {
        "id": "k8kDnVKFwhvF"
      },
      "outputs": [],
      "source": [
        "Dias[:4]"
      ]
    },
    {
      "cell_type": "code",
      "execution_count": null,
      "metadata": {
        "id": "XUwXKitywhvF"
      },
      "outputs": [],
      "source": [
        "Dias[4]"
      ]
    },
    {
      "cell_type": "markdown",
      "metadata": {
        "id": "EdutlstKwhvF"
      },
      "source": [
        "## Cambio de valores\n",
        "\n",
        "Podemos cambiar los elementos de una lista haciendo una reasignación, de la lista frutas y verduras `FV` cambiaremos el Brocoli por la Calabaza:"
      ]
    },
    {
      "cell_type": "code",
      "execution_count": null,
      "metadata": {
        "id": "pUNdkxnGwhvG"
      },
      "outputs": [],
      "source": [
        "FV #Veamos la lista para identificar donde está el Brocoli"
      ]
    },
    {
      "cell_type": "code",
      "execution_count": null,
      "metadata": {
        "id": "xM2IcAn2whvG"
      },
      "outputs": [],
      "source": [
        "FV[3]='Calabaza'"
      ]
    },
    {
      "cell_type": "code",
      "execution_count": null,
      "metadata": {
        "id": "WiyJJsmpwhvG"
      },
      "outputs": [],
      "source": [
        "FV"
      ]
    },
    {
      "cell_type": "markdown",
      "metadata": {
        "id": "be8TX_0qwhvG"
      },
      "source": [
        "## Operaciones elementales de las listas\n",
        "\n",
        "Entre listas y para cada una de ellas tenemos diversas operaciones. \n",
        "\n",
        "**Suma (Concatenación)**\n",
        "\n",
        "Dada la lista $L=[L_1,L_2,L_3,\\cdots,L_n]$ y la lista $M=[M_1,M_2,\\cdots, M_k]$ tenemos que:\n",
        "\n",
        "$$L+M=[L_1,L_2,L_3,\\cdots,L_n,M_1,M_2,\\cdots, M_k]$$\n",
        "\n",
        "Por ejemplo:"
      ]
    },
    {
      "cell_type": "code",
      "execution_count": null,
      "metadata": {
        "id": "ujNjdHIrwhvH"
      },
      "outputs": [],
      "source": [
        "Dias+FV"
      ]
    },
    {
      "cell_type": "code",
      "execution_count": null,
      "metadata": {
        "id": "BLRbe1DLwhvH"
      },
      "outputs": [],
      "source": [
        "Dias"
      ]
    },
    {
      "cell_type": "code",
      "execution_count": null,
      "metadata": {
        "id": "uPufrSJDwhvH"
      },
      "outputs": [],
      "source": [
        "FV"
      ]
    },
    {
      "cell_type": "code",
      "execution_count": null,
      "metadata": {
        "id": "lo5ANhTSwhvH"
      },
      "outputs": [],
      "source": [
        "[1,2]+[2,4]"
      ]
    },
    {
      "cell_type": "markdown",
      "metadata": {
        "id": "0baXMaFLwhvH"
      },
      "source": [
        "**Extender una lista**\n",
        "\n",
        "Podemos extender una lista con otra usando el comando `L1.extend(L2)`, en este caso el valor de L1 se actualizará con L1+L2.\n",
        "\n",
        "Ejemplo:\n"
      ]
    },
    {
      "cell_type": "code",
      "execution_count": null,
      "metadata": {
        "id": "Ky7N4AAQwhvI"
      },
      "outputs": [],
      "source": [
        "L1=[2,4,6,8]\n",
        "L2=[1,2,3]\n",
        "print(\"L1= \",L1)\n",
        "print(\"L2= \",L2)\n",
        "L1.extend(L2)\n",
        "print(\"L1.extend(L2)= \",L1)\n",
        "L2.extend(L2)\n",
        "print(\"L2.extend(L2)= \",L2)"
      ]
    },
    {
      "cell_type": "code",
      "execution_count": null,
      "metadata": {
        "id": "TE1_UE5NwhvI"
      },
      "outputs": [],
      "source": [
        "L1"
      ]
    },
    {
      "cell_type": "code",
      "execution_count": null,
      "metadata": {
        "id": "J5esHpkVwhvI"
      },
      "outputs": [],
      "source": [
        "L2"
      ]
    },
    {
      "cell_type": "code",
      "execution_count": null,
      "metadata": {
        "id": "i64vyZG4whvQ"
      },
      "outputs": [],
      "source": [
        "FV.extend([\"Papaya\",\"Pera\",\"Mora\",\"Rabano\",\"Limón\"])\n",
        "FV"
      ]
    },
    {
      "cell_type": "markdown",
      "metadata": {
        "id": "SysnfTB8whvQ"
      },
      "source": [
        "**Incluir elementos al final de la lista**\n",
        "\n",
        "El comando `L.append(v)` incluirá al valor `v` al final de la lista `L`."
      ]
    },
    {
      "cell_type": "code",
      "execution_count": null,
      "metadata": {
        "id": "G7gwTRdqwhvQ"
      },
      "outputs": [],
      "source": [
        "Dias.append(\"Lunes\")"
      ]
    },
    {
      "cell_type": "code",
      "execution_count": null,
      "metadata": {
        "id": "ymcuWU6MwhvQ"
      },
      "outputs": [],
      "source": [
        "Dias"
      ]
    },
    {
      "cell_type": "code",
      "execution_count": null,
      "metadata": {
        "id": "S62qQ02qwhvQ"
      },
      "outputs": [],
      "source": [
        "FV.append(\"Papaya\")\n",
        "FV.append(\"Pera\")\n",
        "FV.append(\"Mango\")\n",
        "FV.append(\"Papa\")\n",
        "FV.append(\"Limón\")"
      ]
    },
    {
      "cell_type": "code",
      "execution_count": null,
      "metadata": {
        "id": "3CFMHPa4whvR"
      },
      "outputs": [],
      "source": [
        "FV"
      ]
    },
    {
      "cell_type": "code",
      "execution_count": null,
      "metadata": {
        "id": "-n5MWALlwhvR"
      },
      "outputs": [],
      "source": [
        "L=[0,1]\n",
        "L.append(0)\n",
        "L"
      ]
    },
    {
      "cell_type": "markdown",
      "metadata": {
        "id": "0YSCVkVgwhvR"
      },
      "source": [
        "**Contar elementos de una lista**\n",
        "\n",
        "El comando `L.count(v)` contará la cantidad de `v` que hay en la lista:"
      ]
    },
    {
      "cell_type": "code",
      "execution_count": null,
      "metadata": {
        "id": "WFqvN7qSwhvR"
      },
      "outputs": [],
      "source": [
        "Dias.count(\"Lunes\")"
      ]
    },
    {
      "cell_type": "code",
      "execution_count": null,
      "metadata": {
        "id": "QE7i2ULYwhvR"
      },
      "outputs": [],
      "source": [
        "Dias.count(\"Martes\")"
      ]
    },
    {
      "cell_type": "code",
      "execution_count": null,
      "metadata": {
        "id": "SZONBhYdwhvS"
      },
      "outputs": [],
      "source": [
        "Dias.count(\"otra cosa\")"
      ]
    },
    {
      "cell_type": "code",
      "execution_count": null,
      "metadata": {
        "id": "2zJG7R5WwhvS"
      },
      "outputs": [],
      "source": [
        "FV.count(\"Papaya\")"
      ]
    },
    {
      "cell_type": "code",
      "execution_count": null,
      "metadata": {
        "id": "rjDD-dVewhvS"
      },
      "outputs": [],
      "source": [
        "\"Papaya\".upper()"
      ]
    },
    {
      "cell_type": "code",
      "execution_count": null,
      "metadata": {
        "id": "oltygwwlwhvS"
      },
      "outputs": [],
      "source": [
        "\"Papaya\".lower()"
      ]
    },
    {
      "cell_type": "code",
      "execution_count": null,
      "metadata": {
        "id": "71aX1l4mwhvS"
      },
      "outputs": [],
      "source": [
        "'papaya'.capitalize()"
      ]
    },
    {
      "cell_type": "markdown",
      "metadata": {
        "id": "vbN80SPRwhvT"
      },
      "source": [
        "**Insertar elementos en una lista**\n",
        "\n",
        "El comando `L.insert(n,v)` incluirá un elemento nuevo en la lista:"
      ]
    },
    {
      "cell_type": "code",
      "execution_count": null,
      "metadata": {
        "id": "KUzSUrrowhvT"
      },
      "outputs": [],
      "source": [
        "Dias.insert(4,\"Juernes\")"
      ]
    },
    {
      "cell_type": "code",
      "execution_count": null,
      "metadata": {
        "id": "tBveVeYqwhvT"
      },
      "outputs": [],
      "source": [
        "Dias"
      ]
    },
    {
      "cell_type": "markdown",
      "metadata": {
        "id": "C_fmtMmtwhvT"
      },
      "source": [
        "**Medir una lista**\n",
        "\n",
        "Con `len(L)` puedo medir una lista:"
      ]
    },
    {
      "cell_type": "code",
      "execution_count": null,
      "metadata": {
        "id": "VpaZ-NOFwhvT"
      },
      "outputs": [],
      "source": [
        "len(Dias)"
      ]
    },
    {
      "cell_type": "code",
      "execution_count": null,
      "metadata": {
        "id": "7eMOwmaSwhvU"
      },
      "outputs": [],
      "source": [
        "len(FV)"
      ]
    },
    {
      "cell_type": "markdown",
      "metadata": {
        "id": "X-fgLl1kwhvU"
      },
      "source": [
        "**Remover elementos de una lista**\n",
        "\n",
        "Para eso tenemos dos posibles procesos, usando `L.remove(v)`:"
      ]
    },
    {
      "cell_type": "code",
      "execution_count": null,
      "metadata": {
        "id": "kzaOGWygwhvU"
      },
      "outputs": [],
      "source": [
        "Dias.remove(\"Juernes\")"
      ]
    },
    {
      "cell_type": "code",
      "execution_count": null,
      "metadata": {
        "id": "9lT-fUxCwhvU"
      },
      "outputs": [],
      "source": [
        "Dias"
      ]
    },
    {
      "cell_type": "code",
      "execution_count": null,
      "metadata": {
        "id": "hWtdUIFBwhvU"
      },
      "outputs": [],
      "source": [
        "Dias.remove(\"Lunes\")\n",
        "Dias"
      ]
    },
    {
      "cell_type": "markdown",
      "metadata": {
        "id": "xgj-yuebwhvV"
      },
      "source": [
        "o usando el comando `L.pop(ind)`"
      ]
    },
    {
      "cell_type": "code",
      "execution_count": null,
      "metadata": {
        "id": "6FXW3CUxwhvV"
      },
      "outputs": [],
      "source": [
        "Dias"
      ]
    },
    {
      "cell_type": "code",
      "execution_count": null,
      "metadata": {
        "id": "QywuKPQkwhvV"
      },
      "outputs": [],
      "source": [
        "Dias.pop(-1)"
      ]
    },
    {
      "cell_type": "code",
      "execution_count": null,
      "metadata": {
        "id": "i1wsCKR1whvV"
      },
      "outputs": [],
      "source": [
        "Dias"
      ]
    },
    {
      "cell_type": "code",
      "execution_count": null,
      "metadata": {
        "id": "KhDJElS1whvV"
      },
      "outputs": [],
      "source": [
        "Dias.index(\"Viernes\")"
      ]
    },
    {
      "cell_type": "code",
      "execution_count": null,
      "metadata": {
        "id": "h0yVgRKiwhvV"
      },
      "outputs": [],
      "source": [
        "FV.index(\"Papaya\")"
      ]
    },
    {
      "cell_type": "markdown",
      "metadata": {
        "id": "m5inZtGVwhvW"
      },
      "source": [
        "**Reversar una lista**\n",
        "\n",
        "El comando `L.reverse()` nos permitirá reversar la lista:"
      ]
    },
    {
      "cell_type": "code",
      "execution_count": null,
      "metadata": {
        "id": "R9Wb0KWiwhvW"
      },
      "outputs": [],
      "source": [
        "Dias.reverse()"
      ]
    },
    {
      "cell_type": "code",
      "execution_count": null,
      "metadata": {
        "id": "G2F_oSThwhvW"
      },
      "outputs": [],
      "source": [
        "Dias"
      ]
    },
    {
      "cell_type": "markdown",
      "metadata": {
        "id": "T43VnUDHwhvW"
      },
      "source": [
        "**Limpiar una lista**\n",
        "\n",
        "Usamos el comando `L.clear()` para limpiar la lista:"
      ]
    },
    {
      "cell_type": "code",
      "execution_count": null,
      "metadata": {
        "id": "qkLT25-SwhvW"
      },
      "outputs": [],
      "source": [
        "Dias.clear()"
      ]
    },
    {
      "cell_type": "code",
      "execution_count": null,
      "metadata": {
        "id": "7Jgl5cZzwhvX"
      },
      "outputs": [],
      "source": [
        "Dias"
      ]
    },
    {
      "cell_type": "markdown",
      "metadata": {
        "id": "c8ri12yQwhvX"
      },
      "source": [
        "## Bucles para recorrer listas\n",
        "\n",
        "La estructura de control `for` en Python resulta ser muy útil para recorrer y definir listas, la sintaxis de Python permite acceder a los elementos de la lista a partir del `for` sin necesidad de utilizar índices."
      ]
    },
    {
      "cell_type": "code",
      "execution_count": null,
      "metadata": {
        "id": "mpdBDTM7whvX"
      },
      "outputs": [],
      "source": [
        "for frut_o_verd in FV:\n",
        "    print(frut_o_verd)"
      ]
    },
    {
      "cell_type": "code",
      "execution_count": null,
      "metadata": {
        "id": "ldlzqdb-whvX"
      },
      "outputs": [],
      "source": [
        "len(\"Calabaza\")"
      ]
    },
    {
      "cell_type": "code",
      "execution_count": null,
      "metadata": {
        "id": "yT-CBsZ5whvX"
      },
      "outputs": [],
      "source": [
        "cant_letras=[]\n",
        "for frut_o_verd in FV:\n",
        "    lon=len(frut_o_verd)\n",
        "    cant_letras.append(lon)\n",
        "    print(\"En la lista cant_letras se adjunto \",lon,\" \\n\"+ \n",
        "          \"pues es la cantidad de letras de\"+\n",
        "          \" \", frut_o_verd,\"\\n******************************\" )\n",
        "print(cant_letras)"
      ]
    },
    {
      "cell_type": "code",
      "execution_count": null,
      "metadata": {
        "id": "rl8IsZM3whvY"
      },
      "outputs": [],
      "source": [
        "FV"
      ]
    },
    {
      "cell_type": "code",
      "execution_count": null,
      "metadata": {
        "id": "j8MTk6C6whvY"
      },
      "outputs": [],
      "source": [
        "Papaya_list=[]\n",
        "FV2=FV.copy()\n",
        "for frut_o_verd in FV2: \n",
        "    if frut_o_verd==\"Papaya\":        \n",
        "        Papaya_list.append(FV2.index(frut_o_verd))\n",
        "        print(\"La posicion de papaya es -> \",FV2.index(frut_o_verd))\n",
        "        FV2[FV2.index(frut_o_verd)]=\"Papaya contada\""
      ]
    },
    {
      "cell_type": "code",
      "execution_count": null,
      "metadata": {
        "id": "xBGD4DtUwhvY"
      },
      "outputs": [],
      "source": [
        "print(\"La copia: \",FV2,\"\\n\")\n",
        "print(\"La original: \",FV)"
      ]
    },
    {
      "cell_type": "code",
      "execution_count": null,
      "metadata": {
        "id": "EOKQM5Y_whvY"
      },
      "outputs": [],
      "source": [
        "[len(fv) for fv in FV]"
      ]
    },
    {
      "cell_type": "markdown",
      "metadata": {
        "id": "cyqvwtc9whvY"
      },
      "source": [
        "Al momento de definir listas usamos parentesis cuadrados, la condición que debe satisfacer el valor de la lista y el ciclo:\n",
        "\n",
        "***\n",
        "`[f(v) for v in L]`\n",
        "***\n"
      ]
    },
    {
      "cell_type": "code",
      "execution_count": null,
      "metadata": {
        "id": "sjcacO26whvY"
      },
      "outputs": [],
      "source": [
        "SL=[3,4,6,7] #Extraigo una sublista a partir de los índices\n",
        "FV2=[FV[i] for i in SL]\n",
        "FV2"
      ]
    },
    {
      "cell_type": "code",
      "execution_count": null,
      "metadata": {
        "id": "FYKiBM9jwhvZ"
      },
      "outputs": [],
      "source": [
        "range(10)"
      ]
    },
    {
      "cell_type": "code",
      "execution_count": null,
      "metadata": {
        "id": "sxhM4Ri6whvZ"
      },
      "outputs": [],
      "source": [
        "for i in range(10):\n",
        "    print(i)"
      ]
    },
    {
      "cell_type": "code",
      "execution_count": null,
      "metadata": {
        "id": "-HhpU65cwhvZ"
      },
      "outputs": [],
      "source": [
        "for i in range(1,11):\n",
        "    print(i)"
      ]
    },
    {
      "cell_type": "code",
      "execution_count": null,
      "metadata": {
        "id": "Gf5-cg7ewhvZ"
      },
      "outputs": [],
      "source": [
        "for i in range(1,11,2):\n",
        "    print(i)"
      ]
    },
    {
      "cell_type": "code",
      "execution_count": null,
      "metadata": {
        "id": "QKuRt85bwhvZ"
      },
      "outputs": [],
      "source": [
        "for i in range(0,10,2):\n",
        "    print(i)"
      ]
    },
    {
      "cell_type": "code",
      "execution_count": null,
      "metadata": {
        "id": "VL3xQnU4whva"
      },
      "outputs": [],
      "source": [
        "[i for i in range(10)]"
      ]
    },
    {
      "cell_type": "code",
      "execution_count": null,
      "metadata": {
        "id": "MUWjHzGFwhva"
      },
      "outputs": [],
      "source": [
        "[2**(-i) for i in range(10)]"
      ]
    },
    {
      "cell_type": "markdown",
      "metadata": {
        "id": "JFuWShXzwhva"
      },
      "source": [
        "## Rangos \n",
        "\n",
        "El tipo `range` es una lista inmodificable de números enteros escritos como una sucesión aritmética.\n",
        "\n",
        "En Python 3 este argumento se reconoce como un tipo de datos y usa uno, dos o tres argumentos numéricos, como si fuera una función."
      ]
    },
    {
      "cell_type": "code",
      "execution_count": null,
      "metadata": {
        "id": "X4j9PEyswhva"
      },
      "outputs": [],
      "source": [
        "range(10)"
      ]
    },
    {
      "cell_type": "code",
      "execution_count": null,
      "metadata": {
        "id": "YiHBfrr7whva"
      },
      "outputs": [],
      "source": [
        "for i in range(10):\n",
        "    print(i)"
      ]
    },
    {
      "cell_type": "code",
      "execution_count": null,
      "metadata": {
        "id": "lQvDjJiuwhvb"
      },
      "outputs": [],
      "source": [
        "[i for i in range(4,10)]"
      ]
    },
    {
      "cell_type": "code",
      "execution_count": null,
      "metadata": {
        "id": "ICG30xadwhvb"
      },
      "outputs": [],
      "source": [
        "for i in range(4,10):\n",
        "    print(i)"
      ]
    },
    {
      "cell_type": "code",
      "execution_count": null,
      "metadata": {
        "id": "b8cAim79whvc"
      },
      "outputs": [],
      "source": [
        "for i in range(4,10,3):\n",
        "    print(i)"
      ]
    },
    {
      "cell_type": "code",
      "execution_count": null,
      "metadata": {
        "id": "mdhW-NMZwhvc"
      },
      "outputs": [],
      "source": [
        "for i in range(3,10,3):\n",
        "    print(i)"
      ]
    },
    {
      "cell_type": "code",
      "execution_count": null,
      "metadata": {
        "id": "eUbM9Q3Iwhvc"
      },
      "outputs": [],
      "source": [
        "4!=5"
      ]
    },
    {
      "cell_type": "code",
      "execution_count": null,
      "metadata": {
        "id": "l1Gb3tAqwhvd"
      },
      "outputs": [],
      "source": [
        "4==5"
      ]
    },
    {
      "cell_type": "code",
      "execution_count": null,
      "metadata": {
        "id": "9cXPKf45whvd"
      },
      "outputs": [],
      "source": [
        "2>4"
      ]
    },
    {
      "cell_type": "code",
      "execution_count": null,
      "metadata": {
        "id": "qJeLKSFqwhvd"
      },
      "outputs": [],
      "source": [
        "Dias=[\"Lunes\",\"Martes\",\"Miércoles\",\"Jueves\",\"Viernes\",\"Sábado\",\"Domingo\"]"
      ]
    },
    {
      "cell_type": "code",
      "execution_count": null,
      "metadata": {
        "id": "fXm3v40jwhve"
      },
      "outputs": [],
      "source": [
        "\"Lunes\" in Dias"
      ]
    },
    {
      "cell_type": "markdown",
      "metadata": {
        "id": "qese1CCGwhve"
      },
      "source": [
        " ¿437 es primo?\n",
        " \n",
        " - Tome [2,...,436] y verifique si hay divisores de 437 o no\n",
        " - Para cada  $i \\in [2,\\cdots,436]$ calcule 437%i, si existe algún i talque 437%i=0 entoces 437 no es primo. En otro caso sí lo es.\n",
        " "
      ]
    },
    {
      "cell_type": "markdown",
      "metadata": {
        "id": "QiTzpRbUwhve"
      },
      "source": [
        "Sea $j$ divisor de $n$, entonces $\\frac{n}{j}\\in \\mathbb{Z}$ y además, también es divisor de $n$."
      ]
    },
    {
      "cell_type": "code",
      "execution_count": null,
      "metadata": {
        "id": "_kdPGzu9whvf"
      },
      "outputs": [],
      "source": [
        "residuosmenores=[]\n",
        "for i in range(2,36):\n",
        "    residuosmenores.append(36%i)\n",
        "m=min(residuosmenores)\n",
        "print(residuosmenores)\n",
        "if m!=0:\n",
        "    print(\"437 es primo\")\n",
        "else:\n",
        "    print(\"437 no es primo\")\n",
        "\n",
        "    "
      ]
    },
    {
      "cell_type": "code",
      "execution_count": null,
      "metadata": {
        "id": "hv-C648Owhvf"
      },
      "outputs": [],
      "source": [
        "for n in range(3,100):\n",
        "    residuosmenores=[n%i for i in range(2,round(n**(1/2))+1)]\n",
        "    m=min(residuosmenores)\n",
        "    if m!=0:\n",
        "        print(n,\"es primo\")\n",
        "    else:\n",
        "        print(n, \"no es primo\")\n"
      ]
    },
    {
      "cell_type": "code",
      "execution_count": null,
      "metadata": {
        "id": "sHJGnCNNwhvf"
      },
      "outputs": [],
      "source": [
        "Primos=[2]\n",
        "for n in range(3,1000):\n",
        "    residuosmenores=[n%i for i in range(2,round(n**(1/2))+1)]\n",
        "    m=min(residuosmenores)\n",
        "    if m!=0:\n",
        "        Primos.append(n)        \n",
        "print(Primos)"
      ]
    },
    {
      "cell_type": "markdown",
      "metadata": {
        "id": "GIXBoPCawhvf"
      },
      "source": [
        "## Enumerar listas\n",
        "\n",
        "Aunque una ventaja indiscutible del `for` de Python es que tenemos la posibilidad de recorrer la lista y no los índices, en ocasiones hace falta el índice del elemento de la lista, tenemos dos posibilidades:"
      ]
    },
    {
      "cell_type": "code",
      "execution_count": null,
      "metadata": {
        "id": "Ha0DV6XWwhvf"
      },
      "outputs": [],
      "source": [
        "Dias=[\"Lunes\",\"Martes\",\"Miércoles\",\"Jueves\",\"Viernes\",\"Sábado\",\"Domingo\"]"
      ]
    },
    {
      "cell_type": "code",
      "execution_count": null,
      "metadata": {
        "id": "F5lfeQCbwhvg"
      },
      "outputs": [],
      "source": [
        "for ind in range(len(Dias)):\n",
        "    print(Dias[ind], \"es el\", ind+1,\"día de la semana\")"
      ]
    },
    {
      "cell_type": "code",
      "execution_count": null,
      "metadata": {
        "id": "mbEeqj7awhvg"
      },
      "outputs": [],
      "source": [
        "for ind,i in enumerate(Dias):\n",
        "    print(i, \"es el\", ind+1,\"día de la semana\")"
      ]
    },
    {
      "cell_type": "code",
      "execution_count": null,
      "metadata": {
        "id": "te5wpmNqwhvg"
      },
      "outputs": [],
      "source": [
        "Dias"
      ]
    },
    {
      "cell_type": "code",
      "execution_count": null,
      "metadata": {
        "id": "KS5Hli6owhvg"
      },
      "outputs": [],
      "source": [
        "for i in enumerate(Dias):\n",
        "    print(i)"
      ]
    },
    {
      "cell_type": "code",
      "execution_count": null,
      "metadata": {
        "id": "_NzESDOKwhvg"
      },
      "outputs": [],
      "source": [
        "type(enumerate(Dias))"
      ]
    },
    {
      "cell_type": "markdown",
      "metadata": {
        "id": "eWTrPOUkwhvg"
      },
      "source": [
        "## Pertenencia en una lista\n",
        "\n",
        "Podemos establecer si un calor está o no está en una lista con el comando `in`:"
      ]
    },
    {
      "cell_type": "code",
      "execution_count": null,
      "metadata": {
        "id": "v7gMW7pvwhvg"
      },
      "outputs": [],
      "source": [
        "\"Lunes\" in Dias"
      ]
    },
    {
      "cell_type": "code",
      "execution_count": null,
      "metadata": {
        "id": "DPK2-Pnxwhvh"
      },
      "outputs": [],
      "source": [
        "\"Lunes\" in FV"
      ]
    },
    {
      "cell_type": "code",
      "execution_count": null,
      "metadata": {
        "id": "vin3yyCewhvh"
      },
      "outputs": [],
      "source": [
        "FV"
      ]
    },
    {
      "cell_type": "code",
      "execution_count": null,
      "metadata": {
        "id": "mwq3k-duwhvh"
      },
      "outputs": [],
      "source": [
        "V=['Brocoli', 'Acelgas', 'Espinacas']"
      ]
    },
    {
      "cell_type": "code",
      "execution_count": null,
      "metadata": {
        "id": "VQ1OwXglwhvh"
      },
      "outputs": [],
      "source": [
        "F=[]\n",
        "for v in FV:\n",
        "    if v in V:\n",
        "        print(v,\" es verdura.\")\n",
        "    else:\n",
        "        print(v,\" es fruta.\")\n",
        "        F.append(v)"
      ]
    },
    {
      "cell_type": "code",
      "execution_count": null,
      "metadata": {
        "id": "5vAEVrAfwhvi"
      },
      "outputs": [],
      "source": [
        "F"
      ]
    },
    {
      "cell_type": "markdown",
      "metadata": {
        "solution2": "hidden",
        "solution2_first": true,
        "id": "4ABdiN9Nwhvi"
      },
      "source": [
        "**Ejercicio** Lo hace muy mal, permitamos que nos pregunte y recreamos la lista de Frutas y Verduras:"
      ]
    },
    {
      "cell_type": "code",
      "execution_count": null,
      "metadata": {
        "solution2": "hidden",
        "id": "EoXO1jxlwhvi"
      },
      "outputs": [],
      "source": [
        "F=[]\n",
        "V=[]\n",
        "SC=FV.copy()\n",
        "\n",
        "for fv in FV:\n",
        "    print(fv)\n",
        "    L=input(\" es fruta (marque F) o Verdura (marque V)\")\n",
        "    if L.capitalize()==\"F\":        \n",
        "        SC.remove(fv)\n",
        "        F.append(fv)\n",
        "    elif L.capitalize()==\"V\":\n",
        "        SC.remove(fv)\n",
        "        V.append(fv)\n",
        "    else:\n",
        "        print(\"Esa respuesta no fue correcta\")\n",
        "print(\"Frutas: \",F)\n",
        "print(\"Verduras: \",V)\n",
        "print(\"Sin clasificar: \",SC)"
      ]
    },
    {
      "cell_type": "markdown",
      "metadata": {
        "id": "QRiG7FPRwhvi"
      },
      "source": [
        "Si quisiera clasificar todas las frutas y verduras utilizaría otro bucle: `while`"
      ]
    },
    {
      "cell_type": "code",
      "execution_count": null,
      "metadata": {
        "scrolled": true,
        "id": "IGzYg3QVwhvi"
      },
      "outputs": [],
      "source": [
        "F=[]\n",
        "V=[]\n",
        "SC=FV.copy()\n",
        "\n",
        "while len(SC)>0:\n",
        "    ol=SC.copy()\n",
        "    for fv in ol:\n",
        "        print(fv)\n",
        "        L=input(\" es fruta (marque F) o Verdura (marque V)\")\n",
        "        if L.upper()==\"F\":        \n",
        "            SC.remove(fv)\n",
        "            F.append(fv)\n",
        "        elif L.upper()==\"V\":\n",
        "            SC.remove(fv)\n",
        "            V.append(fv)\n",
        "        else:\n",
        "            print(\"Esa respuesta no fue correcta\")\n",
        "    print(\"Frutas: \",F)\n",
        "    print(\"Verduras: \",V)\n",
        "    print(\"Sin clasificar: \",SC)"
      ]
    },
    {
      "cell_type": "code",
      "execution_count": null,
      "metadata": {
        "id": "aBDEpz23whvj"
      },
      "outputs": [],
      "source": [
        "F"
      ]
    },
    {
      "cell_type": "code",
      "execution_count": null,
      "metadata": {
        "id": "dH-Dq5e3whvj"
      },
      "outputs": [],
      "source": [
        "V"
      ]
    },
    {
      "cell_type": "markdown",
      "metadata": {
        "id": "aGteAD_zwhvj"
      },
      "source": [
        "# Tuplas\n",
        "\n",
        "Las tuplas son una estructura de datos similar a las listas pero inmodificables, se encierran con paréntesis redondos.\n"
      ]
    },
    {
      "cell_type": "code",
      "execution_count": null,
      "metadata": {
        "id": "38GuDifCwhvj"
      },
      "outputs": [],
      "source": [
        "Tupla1=(\"eje_x\",\"eje_y\",\"eje_z\")"
      ]
    },
    {
      "cell_type": "code",
      "execution_count": null,
      "metadata": {
        "id": "e48fv-9swhvj"
      },
      "outputs": [],
      "source": [
        "Tupla1.count(\"eje_x\")"
      ]
    },
    {
      "cell_type": "code",
      "execution_count": null,
      "metadata": {
        "id": "ewxxv2b8whvk"
      },
      "outputs": [],
      "source": [
        "Tupla1.index(\"eje_z\")"
      ]
    },
    {
      "cell_type": "markdown",
      "metadata": {
        "id": "Gkdbj0WDwhvk"
      },
      "source": [
        "La indexación es similar a la de las listas:"
      ]
    },
    {
      "cell_type": "code",
      "execution_count": null,
      "metadata": {
        "id": "9mIMpjlewhvk"
      },
      "outputs": [],
      "source": [
        "Tupla1[0]"
      ]
    },
    {
      "cell_type": "code",
      "execution_count": null,
      "metadata": {
        "id": "eidOhG3awhvk"
      },
      "outputs": [],
      "source": [
        "Tupla1[-1]"
      ]
    },
    {
      "cell_type": "code",
      "execution_count": null,
      "metadata": {
        "id": "QErqYTlpwhvk"
      },
      "outputs": [],
      "source": [
        "Tupla1[1:]"
      ]
    },
    {
      "cell_type": "code",
      "execution_count": null,
      "metadata": {
        "id": "vC1rXbRiwhvk"
      },
      "outputs": [],
      "source": [
        "Tupla1[0]=\"X\""
      ]
    },
    {
      "cell_type": "code",
      "execution_count": null,
      "metadata": {
        "id": "j5fizfZtwhvl"
      },
      "outputs": [],
      "source": [
        "Tupla1.extend([\"eje w\"])"
      ]
    },
    {
      "cell_type": "code",
      "execution_count": null,
      "metadata": {
        "id": "Tv4UkgoNwhvl"
      },
      "outputs": [],
      "source": [
        "(1,2,3)+(\"Hola\",\"Chao\")"
      ]
    },
    {
      "cell_type": "code",
      "execution_count": null,
      "metadata": {
        "scrolled": true,
        "id": "ELgx1Lsbwhvl"
      },
      "outputs": [],
      "source": [
        "otratupla=(1,2,3)+(1,2,3)"
      ]
    },
    {
      "cell_type": "markdown",
      "metadata": {
        "id": "EwcZzdpBwhvl"
      },
      "source": [
        "La creación de una tupla unitaria requiere una coma final:"
      ]
    },
    {
      "cell_type": "code",
      "execution_count": null,
      "metadata": {
        "id": "7uPwv4agwhvl"
      },
      "outputs": [],
      "source": [
        "len(otratupla)"
      ]
    },
    {
      "cell_type": "code",
      "execution_count": null,
      "metadata": {
        "id": "MCle-PJowhvl"
      },
      "outputs": [],
      "source": [
        "Tupla2=(\"solo\",)"
      ]
    },
    {
      "cell_type": "code",
      "execution_count": null,
      "metadata": {
        "id": "KI-YH-8Pwhvm"
      },
      "outputs": [],
      "source": [
        "Tupla2"
      ]
    },
    {
      "cell_type": "code",
      "execution_count": null,
      "metadata": {
        "id": "kuSc0R3gwhvm"
      },
      "outputs": [],
      "source": [
        "Tuplamala=(\"solo\")\n",
        "Tuplamala"
      ]
    },
    {
      "cell_type": "markdown",
      "metadata": {
        "id": "lPmj4ZCdwhvm"
      },
      "source": [
        "Tupla desde una lista u otra tupla:"
      ]
    },
    {
      "cell_type": "code",
      "execution_count": null,
      "metadata": {
        "id": "7jBQdQ6Mwhvm"
      },
      "outputs": [],
      "source": [
        "DiasT=tuple((Dias))\n",
        "DiasT"
      ]
    },
    {
      "cell_type": "code",
      "execution_count": null,
      "metadata": {
        "id": "YV2kJHNUwhvm"
      },
      "outputs": [],
      "source": [
        "[Tupla1.index(i)+1 for i in Tupla1]"
      ]
    },
    {
      "cell_type": "code",
      "execution_count": null,
      "metadata": {
        "id": "ZP1vFHZewhvm"
      },
      "outputs": [],
      "source": [
        "tuple((Tupla1.index(i)+1 for i in Tupla1))"
      ]
    },
    {
      "cell_type": "code",
      "execution_count": null,
      "metadata": {
        "id": "nor514m9whvn"
      },
      "outputs": [],
      "source": [
        "(1,2)+(2,1)"
      ]
    },
    {
      "cell_type": "code",
      "execution_count": null,
      "metadata": {
        "id": "CwZIGuCTwhvn"
      },
      "outputs": [],
      "source": [
        "([1,2,3],[1,2,1])"
      ]
    },
    {
      "cell_type": "markdown",
      "metadata": {
        "id": "05t4nU6Hwhvn"
      },
      "source": [
        "# Conjuntos\n",
        "\n",
        "Los conjuntos son colecciones de elementos sin indíces y sin orden, se definen entre corchetes `{ . . . }`"
      ]
    },
    {
      "cell_type": "code",
      "execution_count": null,
      "metadata": {
        "id": "Pbx1djMFwhvn"
      },
      "outputs": [],
      "source": [
        "Set1={\"Nairo\", \"Egan\",\"Rigo\",\"Rigo\"}"
      ]
    },
    {
      "cell_type": "code",
      "execution_count": null,
      "metadata": {
        "id": "7anDNgMWwhvn"
      },
      "outputs": [],
      "source": [
        "Set1"
      ]
    },
    {
      "cell_type": "code",
      "execution_count": null,
      "metadata": {
        "id": "4Uvw031ywhvn"
      },
      "outputs": [],
      "source": [
        "Set1[2]"
      ]
    },
    {
      "cell_type": "markdown",
      "metadata": {
        "id": "bXp7Vq8uwhvo"
      },
      "source": [
        "Podemos convertir listas en conjuntos con el comando `set()`"
      ]
    },
    {
      "cell_type": "code",
      "execution_count": null,
      "metadata": {
        "id": "UKhFUVKQwhvo"
      },
      "outputs": [],
      "source": [
        "FV"
      ]
    },
    {
      "cell_type": "code",
      "execution_count": null,
      "metadata": {
        "id": "FJHWkXWhwhvo"
      },
      "outputs": [],
      "source": [
        "CtoFV=set(FV)"
      ]
    },
    {
      "cell_type": "code",
      "execution_count": null,
      "metadata": {
        "id": "KU1KAn1Vwhvo"
      },
      "outputs": [],
      "source": [
        "CtoFV"
      ]
    },
    {
      "cell_type": "markdown",
      "metadata": {
        "id": "ORvOvCfkwhvp"
      },
      "source": [
        "Varias de las operaciones entre listas y operaciones entre conjuntos podemos usar aquí:"
      ]
    },
    {
      "cell_type": "code",
      "execution_count": null,
      "metadata": {
        "id": "3t8Zz7jawhvp"
      },
      "outputs": [],
      "source": [
        "CtoFV.add(\"Naranja\") ## Agregar un elemento"
      ]
    },
    {
      "cell_type": "code",
      "execution_count": null,
      "metadata": {
        "id": "IaUtXML_whvp"
      },
      "outputs": [],
      "source": [
        "CtoFV"
      ]
    },
    {
      "cell_type": "code",
      "execution_count": null,
      "metadata": {
        "id": "WaOXdvAwwhvp"
      },
      "outputs": [],
      "source": [
        "CtoF,CtoV=set(F),set(V)"
      ]
    },
    {
      "cell_type": "code",
      "execution_count": null,
      "metadata": {
        "id": "CPFDMJyxwhvp"
      },
      "outputs": [],
      "source": [
        "CtoF"
      ]
    },
    {
      "cell_type": "code",
      "execution_count": null,
      "metadata": {
        "id": "e1DcL6pWwhvp"
      },
      "outputs": [],
      "source": [
        "CtoV"
      ]
    },
    {
      "cell_type": "code",
      "execution_count": null,
      "metadata": {
        "id": "A6wiABaawhvq"
      },
      "outputs": [],
      "source": [
        "\n",
        "Otro_Cto=CtoF.union(CtoV)## Unión de conjuntos"
      ]
    },
    {
      "cell_type": "code",
      "execution_count": null,
      "metadata": {
        "id": "JiksMH5nwhvq"
      },
      "outputs": [],
      "source": [
        "Otro_Cto"
      ]
    },
    {
      "cell_type": "code",
      "execution_count": null,
      "metadata": {
        "id": "7chrxOgywhvq"
      },
      "outputs": [],
      "source": [
        "Otro_Cto.intersection(CtoFV) ##intersección"
      ]
    },
    {
      "cell_type": "code",
      "execution_count": null,
      "metadata": {
        "id": "3oB_15iewhvq"
      },
      "outputs": [],
      "source": [
        "CtoFV.difference(Otro_Cto)##Diferencia"
      ]
    },
    {
      "cell_type": "code",
      "execution_count": null,
      "metadata": {
        "id": "iKfMBMaSwhvq"
      },
      "outputs": [],
      "source": [
        "Set1.discard(\"Egan\")## Eliminar elementod"
      ]
    },
    {
      "cell_type": "code",
      "execution_count": null,
      "metadata": {
        "id": "vsRTfXiNwhvq"
      },
      "outputs": [],
      "source": [
        "Set1"
      ]
    },
    {
      "cell_type": "code",
      "execution_count": null,
      "metadata": {
        "id": "Dt4AYWZuwhvr"
      },
      "outputs": [],
      "source": [
        "type(Set1)"
      ]
    },
    {
      "cell_type": "markdown",
      "metadata": {
        "solution2": "shown",
        "solution2_first": true,
        "id": "UrPDLnCPwhvr"
      },
      "source": [
        "**Ejercicio** Arreglando el problema de la clasificación de frutas y verduras:"
      ]
    },
    {
      "cell_type": "code",
      "execution_count": null,
      "metadata": {
        "solution2": "shown",
        "id": "meA3-HpHwhvr"
      },
      "outputs": [],
      "source": [
        "F=set()\n",
        "V=set()\n",
        "SC=CtoFV.copy()\n",
        "\n",
        "while len(SC)>0:\n",
        "    ol=SC.copy()\n",
        "    for fv in ol:\n",
        "        print(fv)\n",
        "        L=input(\" es fruta (marque F) o Verdura (marque V)\")\n",
        "        if L.upper()==\"F\":        \n",
        "            SC.remove(fv)\n",
        "            F.add(fv)\n",
        "        elif L.upper()==\"V\":\n",
        "            SC.remove(fv)\n",
        "            V.add(fv)\n",
        "        else:\n",
        "            print(\"Esa respuesta no fue correcta\")\n",
        "    print(\"Frutas: \",F)\n",
        "    print(\"Verduras: \",V)\n",
        "    print(\"Sin clasificar: \",SC)"
      ]
    },
    {
      "cell_type": "code",
      "execution_count": null,
      "metadata": {
        "id": "F_jWQ03Nwhvr"
      },
      "outputs": [],
      "source": [
        "len(F)"
      ]
    },
    {
      "cell_type": "code",
      "execution_count": null,
      "metadata": {
        "id": "6ZgB_p57whvs"
      },
      "outputs": [],
      "source": [
        "list(F)"
      ]
    },
    {
      "cell_type": "markdown",
      "metadata": {
        "id": "Fzz5L5CTwhvs"
      },
      "source": [
        "# Diccionarios\n",
        "Un diccionario es una colección de elementos indexable, sin orden y modificable. Se escriben entre corchetes y los elementos cuentan con un identificador que llamamos clave o \"key\". \n"
      ]
    },
    {
      "cell_type": "code",
      "execution_count": null,
      "metadata": {
        "id": "My4EmMTpwhvs"
      },
      "outputs": [],
      "source": [
        "UC={\"Nombre\": \"Universidad Central\", \"Año de fundación\":1966,\n",
        "              \"Fundador\":set(\"Raúl Vásquez Vélez, Rubén Amaya Reyes, Carlos Medellín, Alberto Gómez Moreno, Eduardo Mendoza Varela, Elberto Téllez Camacho, Jorge Enrique Molina, Darío Samper\".split(\", \")) ,\"Sitio web\":\"www.ucentral.edu.co\",\n",
        "              \"Facultades\":{ \"Facultad de Ciencias Sociales Humanidades y Artes\",\"Facultad de Ciencias Administrativas, Económicas y Contables\",\"Facultad de Ingeniería\"}}"
      ]
    },
    {
      "cell_type": "code",
      "execution_count": null,
      "metadata": {
        "id": "hqunwyHlwhvs"
      },
      "outputs": [],
      "source": [
        "UC[\"Nombre\"]"
      ]
    },
    {
      "cell_type": "code",
      "execution_count": null,
      "metadata": {
        "id": "LpJee53hwhvs"
      },
      "outputs": [],
      "source": [
        "UC[\"Año de fundación\"]"
      ]
    },
    {
      "cell_type": "code",
      "execution_count": null,
      "metadata": {
        "id": "InwiWFCTwhvt"
      },
      "outputs": [],
      "source": [
        "type(UC[\"Facultades\"])"
      ]
    },
    {
      "cell_type": "code",
      "execution_count": null,
      "metadata": {
        "id": "aBvfIItRwhvt"
      },
      "outputs": [],
      "source": [
        "UC[\"Facultades\"]"
      ]
    },
    {
      "cell_type": "code",
      "execution_count": null,
      "metadata": {
        "id": "xAgO7fF0whvt"
      },
      "outputs": [],
      "source": [
        "UC[1]"
      ]
    },
    {
      "cell_type": "code",
      "execution_count": null,
      "metadata": {
        "id": "EVJLHl6wwhvt"
      },
      "outputs": [],
      "source": [
        "UC[\"Departamentos\"]=[\"Departamento de Matemáticas\",\"Departamento de Lenguas\"]"
      ]
    },
    {
      "cell_type": "code",
      "execution_count": null,
      "metadata": {
        "id": "UKN5vTzCwhvt"
      },
      "outputs": [],
      "source": [
        "UC"
      ]
    },
    {
      "cell_type": "code",
      "execution_count": null,
      "metadata": {
        "id": "3wf_vSBxwhvt"
      },
      "outputs": [],
      "source": [
        "UC[\"Departamentos\"][0]"
      ]
    },
    {
      "cell_type": "code",
      "execution_count": null,
      "metadata": {
        "id": "Ss5KS02Wwhvu"
      },
      "outputs": [],
      "source": [
        "list(UC[\"Facultades\"])"
      ]
    },
    {
      "cell_type": "code",
      "execution_count": null,
      "metadata": {
        "id": "IGnf0mq1whvu"
      },
      "outputs": [],
      "source": [
        "list(UC[\"Facultades\"])[0]"
      ]
    }
  ],
  "metadata": {
    "kernelspec": {
      "display_name": "Python 3",
      "language": "python",
      "name": "python3"
    },
    "language_info": {
      "codemirror_mode": {
        "name": "ipython",
        "version": 3
      },
      "file_extension": ".py",
      "mimetype": "text/x-python",
      "name": "python",
      "nbconvert_exporter": "python",
      "pygments_lexer": "ipython3",
      "version": "3.7.6"
    },
    "toc": {
      "base_numbering": 1,
      "nav_menu": {},
      "number_sections": false,
      "sideBar": true,
      "skip_h1_title": false,
      "title_cell": "Table of Contents",
      "title_sidebar": "Contents",
      "toc_cell": false,
      "toc_position": {
        "height": "calc(100% - 180px)",
        "left": "10px",
        "top": "150px",
        "width": "217.933px"
      },
      "toc_section_display": true,
      "toc_window_display": false
    },
    "colab": {
      "provenance": []
    }
  },
  "nbformat": 4,
  "nbformat_minor": 0
}