{
  "cells": [
    {
      "cell_type": "markdown",
      "metadata": {
        "id": "aB46JVLOgnlv"
      },
      "source": [
        "# Funciones y paquetes\n",
        "\n",
        "*Roy Alejandro Gómez Ávila*\n",
        "\n",
        "Python cuenta con una cantidad innumerable de aportes de toda la comunidad dispuestos en archivos (modulos) guardados en algunas carpetas (paquetes). Un elemento importante de estos aportes son las funciones y las clases, de hecho, en una cantidad significativa de ejemplos los desarrolladores buscan una función o clases para apoyar sus creaciones.\n",
        "\n",
        "En este cuaderno estudiaremos ese componente fundamental de varios bloques de código, *las funciones* y conversaremos acerca de la instalación, inspección y carga de paquetes."
      ]
    },
    {
      "cell_type": "markdown",
      "metadata": {
        "id": "U90kT0Yugnlx"
      },
      "source": [
        "## Funciones\n",
        "\n",
        "Las funciones son bloques de código en la cuál la máquina espera uno o varios argumentos de entrada. De acuerdo con lo que recibe, se ejecutan unos pasos y finalmente se produce un argumento de salida.\n",
        "\n",
        "La estructura para definirlas es la siguiente:\n",
        "\n",
        ">def nombre_de_la_funcion(ENTRADA):\n",
        "\n",
        ">    Pasos a realizar\n",
        "\n",
        ">    return SALIDA\n"
      ]
    },
    {
      "cell_type": "markdown",
      "metadata": {
        "id": "qRupZGRIgnly"
      },
      "source": [
        "Hay una lista de funciones construidas en Python. En este [link](https://docs.python.org/3/library/functions.html), se encuentra un manual de todas las funciones básicas de Python.\n",
        "\n",
        "Veamos algunas de ellas:\n"
      ]
    },
    {
      "cell_type": "markdown",
      "metadata": {
        "id": "GW46yC3Sgnly"
      },
      "source": [
        "**Ejemplo 1** Funciones predefinidas en Python."
      ]
    },
    {
      "cell_type": "markdown",
      "metadata": {
        "id": "5q30DVEhgnly"
      },
      "source": [
        "`all()` y `any()` "
      ]
    },
    {
      "cell_type": "code",
      "execution_count": null,
      "metadata": {
        "id": "k4MzFMdjgnlz"
      },
      "outputs": [],
      "source": [
        "y=[4<1,5<6,6<7]\n",
        "all(y)"
      ]
    },
    {
      "cell_type": "code",
      "execution_count": null,
      "metadata": {
        "id": "NjVenTd7gnlz"
      },
      "outputs": [],
      "source": [
        "y=[4>1,5<6,6<7]\n",
        "all(y)"
      ]
    },
    {
      "cell_type": "code",
      "execution_count": null,
      "metadata": {
        "id": "y9dgTNITgnl0"
      },
      "outputs": [],
      "source": [
        "y=[4<1,5<6,6<7]\n",
        "any(y)"
      ]
    },
    {
      "cell_type": "code",
      "execution_count": null,
      "metadata": {
        "id": "D9id28E4gnl0"
      },
      "outputs": [],
      "source": [
        "all((1,1,0))"
      ]
    },
    {
      "cell_type": "code",
      "execution_count": null,
      "metadata": {
        "id": "ackvjPUignl0"
      },
      "outputs": [],
      "source": [
        "mydict = { 1 : \"Orange\"}\n",
        "all(mydict)"
      ]
    },
    {
      "cell_type": "markdown",
      "metadata": {
        "id": "UPX0FtPygnl1"
      },
      "source": [
        "`dict()`"
      ]
    },
    {
      "cell_type": "code",
      "execution_count": null,
      "metadata": {
        "id": "11WhpQq0gnl1"
      },
      "outputs": [],
      "source": [
        "a = dict(one=1, two=2, three=3)\n",
        "b = {'one': 1, 'two': 2, 'three': 3}\n",
        "c = dict(zip(['one', 'two', 'three'], [1, 2, 3]))\n",
        "d = dict([('two', 2), ('one', 1), ('three', 3)])\n",
        "e = {'three': 3, 'one': 1, 'two': 2}\n",
        "print(a == b == c == d == e)\n",
        "print(e)"
      ]
    },
    {
      "cell_type": "code",
      "execution_count": null,
      "metadata": {
        "id": "Md9AS5BBgnl1"
      },
      "outputs": [],
      "source": [
        "list(zip(['one', 'two', 'three'], [1, 2, 3]))"
      ]
    },
    {
      "cell_type": "code",
      "execution_count": null,
      "metadata": {
        "id": "UcCeJv0ygnl1"
      },
      "outputs": [],
      "source": [
        "a = dict(one={1}, two={2,2}, three={3,3,3})\n",
        "a"
      ]
    },
    {
      "cell_type": "markdown",
      "metadata": {
        "id": "brlH1af6gnl2"
      },
      "source": [
        "`abs()`"
      ]
    },
    {
      "cell_type": "code",
      "execution_count": null,
      "metadata": {
        "id": "t-E7xeq4gnl2"
      },
      "outputs": [],
      "source": [
        "print(abs(10))\n",
        "abs(10)==abs(-10)"
      ]
    },
    {
      "cell_type": "markdown",
      "metadata": {
        "id": "gu2Za57Sgnl2"
      },
      "source": [
        "`eval()`"
      ]
    },
    {
      "cell_type": "code",
      "execution_count": null,
      "metadata": {
        "id": "tiZA54Jdgnl2"
      },
      "outputs": [],
      "source": [
        "x = 1\n",
        "eval('x**2')"
      ]
    },
    {
      "cell_type": "markdown",
      "metadata": {
        "id": "9XJFZvVBgnl2"
      },
      "source": [
        "`map()`"
      ]
    },
    {
      "cell_type": "code",
      "execution_count": null,
      "metadata": {
        "id": "dYQ3jp7Zgnl3"
      },
      "outputs": [],
      "source": [
        "x=map(len, {'apple', 'blueberry', 'cherry'}) \n",
        "list(x)"
      ]
    },
    {
      "cell_type": "markdown",
      "metadata": {
        "id": "Jxb9k9Nkgnl3"
      },
      "source": [
        "`reversed`"
      ]
    },
    {
      "cell_type": "code",
      "execution_count": null,
      "metadata": {
        "id": "KTn_qf1mgnl3"
      },
      "outputs": [],
      "source": [
        "x=[1,2,3]\n",
        "y=reversed(x)\n",
        "list(y)"
      ]
    },
    {
      "cell_type": "code",
      "execution_count": null,
      "metadata": {
        "id": "oYESswPdgnl3"
      },
      "outputs": [],
      "source": [
        "x=\"CursoPython\"\n",
        "y=reversed(x)\n",
        "z=list(y)\n",
        "print(z)"
      ]
    },
    {
      "cell_type": "code",
      "execution_count": null,
      "metadata": {
        "id": "RiAUBEp5gnl4"
      },
      "outputs": [],
      "source": [
        "y=\"\".join(z)\n",
        "x=reversed(y)\n",
        "z=list(x)\n",
        "z=\"\".join(z)\n",
        "print(z)"
      ]
    },
    {
      "cell_type": "code",
      "execution_count": null,
      "metadata": {
        "id": "BShcMvTJgnl4"
      },
      "outputs": [],
      "source": [
        "\"Cuaderno Python\".count(\"n\")"
      ]
    },
    {
      "cell_type": "code",
      "execution_count": null,
      "metadata": {
        "id": "UtD8VVobgnl4"
      },
      "outputs": [],
      "source": [
        "\"Cuaderno Python\".index(\"a\")"
      ]
    },
    {
      "cell_type": "code",
      "execution_count": null,
      "metadata": {
        "id": "HTqRUm26gnl4"
      },
      "outputs": [],
      "source": [
        "Z=\"Cuaderno de Python hecho en jupyter\".split()\n",
        "Z"
      ]
    },
    {
      "cell_type": "code",
      "execution_count": null,
      "metadata": {
        "id": "Pkdog9kOgnl4"
      },
      "outputs": [],
      "source": [
        "\"20%\".join(Z)"
      ]
    },
    {
      "cell_type": "code",
      "execution_count": null,
      "metadata": {
        "id": "s-ZVTk4dgnl5"
      },
      "outputs": [],
      "source": [
        "\"Carta\".replace(\"a\",\"o\")"
      ]
    },
    {
      "cell_type": "code",
      "execution_count": null,
      "metadata": {
        "id": "ryD_2I2Ygnl5"
      },
      "outputs": [],
      "source": [
        "\"Canción\".replace(\"ó\",\"o\")"
      ]
    },
    {
      "cell_type": "markdown",
      "metadata": {
        "id": "IRCiN-i-gnl5"
      },
      "source": [
        "`print()` y `format`"
      ]
    },
    {
      "cell_type": "code",
      "execution_count": null,
      "metadata": {
        "id": "CSkCoGeBgnl5"
      },
      "outputs": [],
      "source": [
        "\"Hola {0}, tu saldo es {1:.3f}\".format(\"Juan\",321.43212)"
      ]
    },
    {
      "cell_type": "code",
      "execution_count": null,
      "metadata": {
        "id": "GpqnaHqUgnl5"
      },
      "outputs": [],
      "source": []
    },
    {
      "cell_type": "code",
      "execution_count": null,
      "metadata": {
        "id": "cfv8uU5ignl6"
      },
      "outputs": [],
      "source": [
        "N=input(\"Tu nombre\")\n",
        "S=input(\"Tu saldo\")\n",
        "S=float(S)\n",
        "if S>200000:\n",
        "    print(\"Hola {name}, tu saldo es {saldo:.2f}, afortunadamente {name} viviras otra semana y se te dará un premio.\".format(name=N,saldo=S))\n",
        "else:\n",
        "    print(\"Hola {name}, tu saldo es {saldo:.2f}, recuerda {name} que hay que ahorrar.\".format(name=N,saldo=S))"
      ]
    },
    {
      "cell_type": "code",
      "execution_count": null,
      "metadata": {
        "id": "UHPF1I3Egnl7"
      },
      "outputs": [],
      "source": [
        "print(\"Hola {0}, tu saldo es {1:9.3f}\".format(\"Pedro\",320000.2))"
      ]
    },
    {
      "cell_type": "code",
      "execution_count": null,
      "metadata": {
        "id": "UtxEwe9bgnl8"
      },
      "outputs": [],
      "source": [
        "# integer arguments\n",
        "print(\"El número es:{:d}\".format(123))\n",
        "\n",
        "# float arguments\n",
        "print(\"El número con dos decimales:{:.2f}\".format(123.4567898))\n",
        "\n",
        "# octal, binary and hexadecimal format\n",
        "print(\"bin: {0:b}, oct: {0:o}, hex: {0:x}\".format(12))\n",
        "\n",
        "#exp notation, % notation\n",
        "print(\"Exp Notation: {0:.2e},% Notation: {0:.1%}\".format(0.12))"
      ]
    },
    {
      "cell_type": "code",
      "execution_count": null,
      "metadata": {
        "id": "Ru2tdKcNgnl8"
      },
      "outputs": [],
      "source": [
        "\n",
        "txt = \"The universe is {:,} years old.\"\n",
        "\n",
        "print(txt.format(13800000000))\n"
      ]
    },
    {
      "cell_type": "code",
      "execution_count": null,
      "metadata": {
        "id": "n-FPy1dCgnl8"
      },
      "outputs": [],
      "source": [
        "Nombres=[\"Juan\",\"Pedro\",\"Carlos\"]\n",
        "Saldos=[100,200,300]\n",
        "\n",
        "N=input(\"Nombre\")\n",
        "ind=Nombres.index(N)\n",
        "\n",
        "print(\"Hola {name}, tu saldo es {saldo:.2f}.\".format(name=Nombres[ind],saldo=Saldos[ind]))"
      ]
    },
    {
      "cell_type": "markdown",
      "metadata": {
        "id": "IfhFqSawgnl9"
      },
      "source": [
        "`min(), max(), sum() `"
      ]
    },
    {
      "cell_type": "code",
      "execution_count": null,
      "metadata": {
        "id": "eUK4EFupgnl9"
      },
      "outputs": [],
      "source": [
        "print(min(range(10)))\n",
        "print(max(range(10)))\n",
        "print(sum(range(10)))"
      ]
    },
    {
      "cell_type": "markdown",
      "metadata": {
        "id": "h1TQUpzbgnl-"
      },
      "source": [
        "\n",
        "**Ejemplo 2** También podemos  crear funciones, el siguiente código define una función que recibe un texto y en su parte final pone lo que mide:"
      ]
    },
    {
      "cell_type": "code",
      "execution_count": null,
      "metadata": {
        "id": "fYTGym_zgnl-"
      },
      "outputs": [],
      "source": [
        "def cuantomide(texto):\n",
        "    n=len(texto)\n",
        "    print(texto, \"tiene\",n,\"caracteres\")\n",
        "    return n"
      ]
    },
    {
      "cell_type": "code",
      "execution_count": null,
      "metadata": {
        "id": "DMUOAH1cgnl-"
      },
      "outputs": [],
      "source": [
        "cuantomide(\"Universidad Externado\")+10"
      ]
    },
    {
      "cell_type": "markdown",
      "metadata": {
        "id": "HynFJabNgnl-"
      },
      "source": [
        "Veamos que dice acerca de la frase \"Curso de Python Básico\":\n"
      ]
    },
    {
      "cell_type": "code",
      "execution_count": null,
      "metadata": {
        "id": "taKetN4Qgnl_"
      },
      "outputs": [],
      "source": [
        "cuantomide(\"Curso de Python Básico\")"
      ]
    },
    {
      "cell_type": "markdown",
      "metadata": {
        "id": "5NtAy9ICgnl_"
      },
      "source": [
        "Observe que la salida de la función corresponde a la cantidad de caracteres, la frase hace parte de lo que ejecuta la función (en este caso `print`) sin embargo no aporta al resultado."
      ]
    },
    {
      "cell_type": "markdown",
      "metadata": {
        "id": "_QEe3Ymfgnl_"
      },
      "source": [
        "Algunas funciones útiles:"
      ]
    },
    {
      "cell_type": "code",
      "execution_count": null,
      "metadata": {
        "id": "jeMEFjyagnl_"
      },
      "outputs": [],
      "source": [
        " edades = [5, 12, 17, 18, 24, 32]\n",
        "\n",
        "def soyadulto(x):\n",
        "  if x < 18:\n",
        "    return False\n",
        "  else:\n",
        "    return True\n",
        "\n",
        "adultos = filter(soyadulto, edades)\n",
        "\n",
        "for x in adultos:\n",
        "  print(x) "
      ]
    },
    {
      "cell_type": "code",
      "execution_count": null,
      "metadata": {
        "id": "YP2sIKT7gnmA"
      },
      "outputs": [],
      "source": [
        "def sumar5ydividirpor10(x):\n",
        "    y=(x+5)/10\n",
        "    return y"
      ]
    },
    {
      "cell_type": "code",
      "execution_count": null,
      "metadata": {
        "id": "bP0c49xpgnmA"
      },
      "outputs": [],
      "source": [
        "sumar5ydividirpor10(14)"
      ]
    },
    {
      "cell_type": "markdown",
      "metadata": {
        "id": "Yg9eoHsFgnmA"
      },
      "source": [
        "# Inspección, Instalación y Carga de Módulos y Paquetes\n",
        "\n",
        "\n",
        "\n",
        "Los módulos y paquetes de Python son funciones útiles que ya han sido creadas y están a nuestra disposición en la nube. Dependiendo del ambiente de trabajo usado, tenemos diferente cantidad de **paquetes** instalados. \n",
        "\n",
        "En la primera instalación de Anaconda y jupyter se instalaron varios paquetes, para verlos usamos la siguiente linea de código:"
      ]
    },
    {
      "cell_type": "code",
      "execution_count": null,
      "metadata": {
        "id": "QwI0h0wmgnmA"
      },
      "outputs": [],
      "source": [
        "# Recuerda que # es para usar comentarios\n",
        "# Versión Actual de Python siendo usada\n",
        "!python --version\n",
        "# Función print para dar un salto de línea\n",
        "!conda list"
      ]
    },
    {
      "cell_type": "markdown",
      "metadata": {
        "id": "5s8OUmYTgnmA"
      },
      "source": [
        "¡Aparecen un montón! entre los más importantes están:\n",
        "\n",
        "* Numpy\n",
        "* Scipy\n",
        "* Pandas\n",
        "* Sympy\n",
        "* Matplotlib\n",
        "\n",
        "Dentro de cada uno de estos paquetes se encuentran **modulos**, que juntos forman la librería de módulos disponibles en el ambiente de trabajo. \n",
        "\n",
        "Si alguno de los anteriores paquetes no aparece en la lista se puenden instalar escribiendo en una celda de código:\n",
        "\n",
        "`!pip install <nombre_paquete>`\n",
        "\n",
        "o\n",
        "\n",
        "`!conda install <nombre_paquete>`\n",
        "\n",
        "Uno que siempre falta es sympy, lo instalamos entonces:"
      ]
    },
    {
      "cell_type": "code",
      "execution_count": null,
      "metadata": {
        "id": "3yBvhQK4gnmB"
      },
      "outputs": [],
      "source": [
        "!pip install sympy"
      ]
    },
    {
      "cell_type": "markdown",
      "metadata": {
        "id": "4s0ENZtKgnmB"
      },
      "source": [
        "\n",
        "## Qué es un módulo y como se usa:\n",
        "\n",
        "Un módulo es un archivo que tiene extensión *.py*, es decir, un archivo de texto que contiene código de python que se puede ejecutar. Un módulo puede definir funciones, clases y variables.\n",
        "\n",
        "Cabe resaltar lo siguiente: **Python es un lenguaje de programación orientado a objetos**.\n",
        "\n",
        "Para términos de visualización, imagínese una caja que tiene muchas cajas por dentro y dentro de cada caja existen herramientas de trabajo distintas.\n",
        "\n",
        "**Ejemplo:**\n",
        "\n",
        "Mi maleta. Mi maleta tiene dentro lo siguiente:\n",
        "\n",
        "- Una cartuchera.\n",
        "- Un computador.\n",
        "- Un cuaderno.\n",
        "\n",
        "Los roles serían los siguientes:\n",
        "\n",
        "- Maleta     $\\rightarrow$ Paquete\n",
        "- Cartuchera $\\rightarrow$ Módulo\n",
        "- Cuaderno   $\\rightarrow$ Módulo\n",
        "\n",
        "Entonces, si queremos usar la cartuchera, debemos primero abrir la maleta y tomarla.\n",
        "\n",
        "**O sea, del paquete, vamos a usar un módulo**.\n",
        "\n",
        "Dentro de la cartuchera tengo marcadores, lápices, y borrador.\n",
        "\n",
        "Estos toman el rol de **atributos**, objetos que hacen tareas específicas.\n",
        "\n",
        "Por tanto, si quiero usar un borrador, debería hacer lo siguiente\n",
        "\n",
        "Abrir maleta $\\rightarrow$ Tomar cartuchera $\\rightarrow$ Abrir Cartuchera $\\rightarrow$ Tomar Borrador\n",
        "\n",
        "En Python, estas acciones se pueden **traducir** a lo siguiente:\n",
        "\n",
        "```import Maleta```\n",
        "\n",
        "```Maleta.Cartuchera.Borrador()```\n",
        "\n"
      ]
    },
    {
      "cell_type": "markdown",
      "metadata": {
        "id": "ojnzGniqgnmB"
      },
      "source": [
        "### Paquete random\n",
        "\n",
        "Veamos alguna documentación de alguno de los módulos y sus atributos.\n",
        "\n",
        "Por ejemplo random."
      ]
    },
    {
      "cell_type": "code",
      "execution_count": null,
      "metadata": {
        "id": "FEGOgOJMgnmB"
      },
      "outputs": [],
      "source": [
        "help(\"random\") # Muestra toda la documentación\n",
        "\n",
        "import random\n",
        "\n",
        "#?random # Muestra una pequeña documentación"
      ]
    },
    {
      "cell_type": "code",
      "execution_count": null,
      "metadata": {
        "id": "f9nqllIbgnmB"
      },
      "outputs": [],
      "source": [
        "random.randint(3,15)"
      ]
    },
    {
      "cell_type": "code",
      "execution_count": null,
      "metadata": {
        "id": "mbZML9P-gnmC"
      },
      "outputs": [],
      "source": [
        "random.sample([\"Pedro\",\"Juan\",\"Carlos\"],2)"
      ]
    },
    {
      "cell_type": "code",
      "execution_count": null,
      "metadata": {
        "id": "ZNHQshUdgnmC"
      },
      "outputs": [],
      "source": [
        "dir(random)"
      ]
    },
    {
      "cell_type": "code",
      "execution_count": null,
      "metadata": {
        "id": "Cq7vu9EugnmC"
      },
      "outputs": [],
      "source": [
        "random.sample(dir(random),5)"
      ]
    },
    {
      "cell_type": "markdown",
      "metadata": {
        "id": "36IFA1ZcgnmC"
      },
      "source": [
        "El comando `dir(random)` nos permite ver los módulos que podemos usar, observe que aparece la función random, tengo que poner primero el nombre del paquete y luego el nombre de la función:"
      ]
    },
    {
      "cell_type": "code",
      "execution_count": null,
      "metadata": {
        "id": "CnsgGCrKgnmC"
      },
      "outputs": [],
      "source": [
        "x = random.random()\n",
        "print(\"Número aleatorio en [0,1]: \",x)"
      ]
    },
    {
      "cell_type": "markdown",
      "metadata": {
        "id": "DTCBMdFngnmD"
      },
      "source": [
        "Otra función en random es `randint`"
      ]
    },
    {
      "cell_type": "code",
      "execution_count": null,
      "metadata": {
        "id": "WnwYY40rgnmD"
      },
      "outputs": [],
      "source": [
        "?random.randint"
      ]
    },
    {
      "cell_type": "code",
      "execution_count": null,
      "metadata": {
        "id": "6JG_2xHqgnmD"
      },
      "outputs": [],
      "source": [
        "y=random.randint(3,6)\n",
        "print(\"Número entero aleatorio entre 3 y 6: \",y)"
      ]
    },
    {
      "cell_type": "markdown",
      "metadata": {
        "id": "FAjv8VVSgnmD"
      },
      "source": [
        "## Alias para módulos\n",
        "\n",
        "Otra propiedad genial de Python es su capacidad para reducir la cantidad de código escrito usando unos secretos milenarios: aliases.\n",
        "\n",
        "Por ejemplo, si me llamo Daniel, mi **alias** puede ser Dani.\n",
        "\n",
        "Entonces, acada vez que me digan Dani, yo miraré en respuesta.\n",
        "\n",
        "Traducir a Python luce así:\n",
        "\n",
        "```import modulo as alias```\n",
        "\n",
        "**Ejemplo:**"
      ]
    },
    {
      "cell_type": "code",
      "execution_count": null,
      "metadata": {
        "id": "PqEJy_cEgnmD"
      },
      "outputs": [],
      "source": [
        "import math as m\n",
        "\n",
        "# Una vez nombrado el alias, siempre se debe referir a ese alias y no al nombre principal\n",
        "\n",
        "#dir(math) genera error\n",
        "#dir(m)"
      ]
    },
    {
      "cell_type": "code",
      "execution_count": null,
      "metadata": {
        "id": "FQ8XRjz3gnmE"
      },
      "outputs": [],
      "source": [
        "dir(m)"
      ]
    },
    {
      "cell_type": "markdown",
      "metadata": {
        "id": "VxmkoiHkgnmE"
      },
      "source": [
        "### Aplicación:\n",
        "\n",
        "Una pequeña aplicación de Matemáticas:\n",
        "\n",
        "**Área de una circunferencia de radio r:**\n",
        "\n",
        "$A = \\pi r²$"
      ]
    },
    {
      "cell_type": "code",
      "execution_count": null,
      "metadata": {
        "id": "m6TkbYDignmE"
      },
      "outputs": [],
      "source": [
        "# Aplicación: Área de un círculo de radio 10 cm \n",
        "\n",
        "r = 10;          # Declarar el radio\n",
        "z = m.pi*(r**2)  # Escribir la fórmula matemática\n",
        "print(\"El Área del círculo es: \",z,\"cm²\")"
      ]
    },
    {
      "cell_type": "markdown",
      "metadata": {
        "id": "NQcpuW1VgnmE"
      },
      "source": [
        "Como pueden observar, los módulos son el **alma de Python**.\n",
        "\n"
      ]
    },
    {
      "cell_type": "code",
      "execution_count": null,
      "metadata": {
        "id": "gDerqzFQgnmE"
      },
      "outputs": [],
      "source": [
        "from math import pi\n",
        "r=2\n",
        "A = pi*r**2\n",
        "\n",
        "print(A)"
      ]
    },
    {
      "cell_type": "code",
      "execution_count": null,
      "metadata": {
        "id": "aBicQOHbgnmF"
      },
      "outputs": [],
      "source": [
        "m.pi"
      ]
    },
    {
      "cell_type": "code",
      "execution_count": null,
      "metadata": {
        "id": "YZhD2YGbgnmF"
      },
      "outputs": [],
      "source": [
        "pi"
      ]
    },
    {
      "cell_type": "code",
      "execution_count": null,
      "metadata": {
        "id": "BTAJPnx0gnmF"
      },
      "outputs": [],
      "source": [
        "import math\n",
        "dir(math)"
      ]
    },
    {
      "cell_type": "code",
      "execution_count": null,
      "metadata": {
        "id": "4GSuFmNzgnmF"
      },
      "outputs": [],
      "source": [
        "??math.pi"
      ]
    },
    {
      "cell_type": "code",
      "execution_count": null,
      "metadata": {
        "id": "cgmm5SP9gnmF"
      },
      "outputs": [],
      "source": [
        "??m.lgamma"
      ]
    },
    {
      "cell_type": "markdown",
      "metadata": {
        "id": "a31oC-Z4gnmG"
      },
      "source": [
        "## Paquete numpy\n",
        "\n",
        "NumPy es un paquete de Python para hacer cálculos numéricos, su nombre proviene de la abreviación de “Numerical Python”, es la librería principal para la computación científica y contiene las funciones matemáticas más famosas, tambien algunas constantes de interes: \n"
      ]
    },
    {
      "cell_type": "code",
      "execution_count": null,
      "metadata": {
        "id": "59c-WnC1gnmG"
      },
      "outputs": [],
      "source": [
        "import numpy as np #np es el alias más conocido de numpy"
      ]
    },
    {
      "cell_type": "markdown",
      "metadata": {
        "id": "5MnyZ72ignmG"
      },
      "source": [
        "Para usar cualquier función de numpy tenemos que escribir\n",
        "\n",
        "`np.<función>`\n",
        "\n",
        "A continuación calculamos:\n",
        "\n",
        "* $\\pi=3.14159\\cdots$\n",
        "\n",
        "* $|-10|=10$\n",
        "\n",
        "* $e^1$\n"
      ]
    },
    {
      "cell_type": "code",
      "execution_count": null,
      "metadata": {
        "id": "kTajuB6MgnmG"
      },
      "outputs": [],
      "source": [
        "np.pi"
      ]
    },
    {
      "cell_type": "code",
      "execution_count": null,
      "metadata": {
        "id": "tefvzAYsgnmG"
      },
      "outputs": [],
      "source": [
        "np.abs(-10)"
      ]
    },
    {
      "cell_type": "code",
      "execution_count": null,
      "metadata": {
        "id": "cfTwx_x0gnmH"
      },
      "outputs": [],
      "source": [
        "np.exp(1)"
      ]
    },
    {
      "cell_type": "code",
      "execution_count": null,
      "metadata": {
        "id": "sHHAd5WAgnmH"
      },
      "outputs": [],
      "source": [
        "dir(np)"
      ]
    },
    {
      "cell_type": "code",
      "execution_count": null,
      "metadata": {
        "id": "4JngqL8ZgnmH"
      },
      "outputs": [],
      "source": [
        "np.mean([1,2,3])"
      ]
    },
    {
      "cell_type": "code",
      "execution_count": null,
      "metadata": {
        "id": "EDs2u6FwgnmH"
      },
      "outputs": [],
      "source": [
        "dir(np.linalg)"
      ]
    },
    {
      "cell_type": "code",
      "execution_count": null,
      "metadata": {
        "id": "EzzndJPsgnmH"
      },
      "outputs": [],
      "source": [
        "np.sin(32)"
      ]
    },
    {
      "cell_type": "code",
      "execution_count": null,
      "metadata": {
        "id": "Nkf_5OtngnmI"
      },
      "outputs": [],
      "source": [
        "V1=np.array([1,2])"
      ]
    },
    {
      "cell_type": "code",
      "execution_count": null,
      "metadata": {
        "id": "280L5V5BgnmI"
      },
      "outputs": [],
      "source": [
        "V2=np.array([2,3])"
      ]
    },
    {
      "cell_type": "code",
      "execution_count": null,
      "metadata": {
        "id": "Jv3vhtpzgnmI"
      },
      "outputs": [],
      "source": [
        "V1+V2"
      ]
    },
    {
      "cell_type": "code",
      "execution_count": null,
      "metadata": {
        "id": "oP_p-LHsgnmI"
      },
      "outputs": [],
      "source": [
        "M=np.array([[1,2],[2,3]])"
      ]
    },
    {
      "cell_type": "code",
      "execution_count": null,
      "metadata": {
        "id": "WJfThbMugnmI"
      },
      "outputs": [],
      "source": [
        "np.linalg.eig(M)"
      ]
    },
    {
      "cell_type": "code",
      "execution_count": null,
      "metadata": {
        "id": "KCR1K6NpgnmI"
      },
      "outputs": [],
      "source": [
        "?np.linalg.eig"
      ]
    },
    {
      "cell_type": "markdown",
      "metadata": {
        "id": "U_fywCC2gnmJ"
      },
      "source": [
        "A lo largo del curso usaremos varias funciones alojadas en paquetes. Cada vez que sea necesario encontraran una pequeña ayuda para usar dicha función."
      ]
    }
  ],
  "metadata": {
    "kernelspec": {
      "display_name": "Python 3",
      "language": "python",
      "name": "python3"
    },
    "language_info": {
      "codemirror_mode": {
        "name": "ipython",
        "version": 3
      },
      "file_extension": ".py",
      "mimetype": "text/x-python",
      "name": "python",
      "nbconvert_exporter": "python",
      "pygments_lexer": "ipython3",
      "version": "3.7.6"
    },
    "toc": {
      "base_numbering": 1,
      "nav_menu": {},
      "number_sections": false,
      "sideBar": true,
      "skip_h1_title": false,
      "title_cell": "Table of Contents",
      "title_sidebar": "Contents",
      "toc_cell": false,
      "toc_position": {},
      "toc_section_display": true,
      "toc_window_display": false
    },
    "colab": {
      "provenance": []
    }
  },
  "nbformat": 4,
  "nbformat_minor": 0
}