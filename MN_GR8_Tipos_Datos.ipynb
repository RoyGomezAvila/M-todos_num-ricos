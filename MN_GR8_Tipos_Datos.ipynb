{
  "nbformat": 4,
  "nbformat_minor": 0,
  "metadata": {
    "colab": {
      "provenance": []
    },
    "kernelspec": {
      "display_name": "Python 3",
      "language": "python",
      "name": "python3"
    },
    "language_info": {
      "codemirror_mode": {
        "name": "ipython",
        "version": 3
      },
      "file_extension": ".py",
      "mimetype": "text/x-python",
      "name": "python",
      "nbconvert_exporter": "python",
      "pygments_lexer": "ipython3",
      "version": "3.8.1"
    }
  },
  "cells": [
    {
      "cell_type": "markdown",
      "metadata": {
        "id": "-MlSHN16Bg8-"
      },
      "source": [
        "# [**Tipos de Datos**](https://docs.python.org/es/3/tutorial/datastructures.html#)\n",
        "\n"
      ]
    },
    {
      "cell_type": "markdown",
      "metadata": {
        "id": "Qwzm74tvByHP"
      },
      "source": [
        "En programación, los **tipos de datos** son un concepto muy importante.\n",
        "\n",
        "Las variables pueden contener distintos tipos de datos, y estos tipos pueden hacer distintas cosas.\n",
        "\n",
        "En Python, existen diferentes tipos de datos por defecto:\n",
        "\n",
        "* **Texto:**  *str.*\n",
        "* **Numérico:**  *int, float, complex.*\n",
        "* **Sequencial:**  *list, tuple, range.*\n",
        "* **Mapping:**  *dict.*\n",
        "* **Conjunto:**  *set, frozenset.*\n",
        "* **Booleano:**  *bool*\n",
        "* **Binario:**  *bytes, bytearray, memoryview.*\n"
      ]
    },
    {
      "cell_type": "markdown",
      "metadata": {
        "id": "G0azTyRzledS"
      },
      "source": [
        "## Obtener el tipo de Dato de Una Variable\n",
        "\n",
        "Para esto, se usa el comando **type**:"
      ]
    },
    {
      "cell_type": "code",
      "metadata": {
        "colab": {
          "base_uri": "https://localhost:8080/"
        },
        "id": "pWF-PQsLlZm2",
        "outputId": "5cb701c5-1847-4850-db8e-c03c7c82265e"
      },
      "source": [
        "x = 5;\n",
        "print(type(x));\n",
        "\n",
        "x = 5.9\n",
        "print(type(x));\n",
        "\n",
        "x = 5j\n",
        "print(type(x));\n",
        "\n",
        "x = [\"Hola\", \"mundo\"]\n",
        "print(type(x));\n",
        "\n",
        "x = (\"Hola\", \"mundo\")\n",
        "print(type(x));\n",
        "\n",
        "x = range(5)\n",
        "print(type(x));\n",
        "\n",
        "x = {\"name\" : \"Stiven\", \"age\" : 28}\n",
        "print(type(x));\n",
        "\n",
        "x = {\"Stiven\",28, 45.6}\n",
        "print(type(x));\n",
        "\n",
        "x = frozenset([\"Stiven\",28, 45.6])\n",
        "print(type(x));\n",
        "\n",
        "x = True\n",
        "print(type(x));\n",
        "\n",
        "x = b\"Matrix\"\n",
        "print(type(x));\n",
        "\n",
        "x = bytearray(5)\n",
        "print(type(x));\n",
        "\n",
        "x = memoryview(bytes(5))\n",
        "print(type(x));"
      ],
      "execution_count": null,
      "outputs": [
        {
          "output_type": "stream",
          "name": "stdout",
          "text": [
            "<class 'int'>\n",
            "<class 'float'>\n",
            "<class 'complex'>\n",
            "<class 'list'>\n",
            "<class 'tuple'>\n",
            "<class 'range'>\n",
            "<class 'dict'>\n",
            "<class 'set'>\n",
            "<class 'frozenset'>\n",
            "<class 'bool'>\n",
            "<class 'bytes'>\n",
            "<class 'bytearray'>\n",
            "<class 'memoryview'>\n"
          ]
        }
      ]
    },
    {
      "cell_type": "markdown",
      "metadata": {
        "id": "CGrq8GFwPWjL"
      },
      "source": [
        "# **Entrada del usuario**\n",
        "\n",
        "En una aplicación de línea de comandos de Python, puede mostrar\n",
        "información al usuario mediante la función `print()`:\n"
      ]
    },
    {
      "cell_type": "code",
      "metadata": {
        "colab": {
          "base_uri": "https://localhost:8080/"
        },
        "id": "nYoSljsmNm-r",
        "outputId": "69889736-2144-4108-ea80-5d6d6be7c31e"
      },
      "source": [
        "name = \"Roy\"\n",
        "print(name)"
      ],
      "execution_count": 1,
      "outputs": [
        {
          "output_type": "stream",
          "name": "stdout",
          "text": [
            "Roy\n"
          ]
        }
      ]
    },
    {
      "cell_type": "markdown",
      "metadata": {
        "id": "v4ZDb3QpRXl8"
      },
      "source": [
        "También podemos aceptar la entrada del usuario, usando `input()`:\n"
      ]
    },
    {
      "cell_type": "code",
      "metadata": {
        "colab": {
          "base_uri": "https://localhost:8080/"
        },
        "id": "otZsg4w4RA4N",
        "outputId": "f6258271-c37a-4e33-9d2c-407ebcdd4579"
      },
      "source": [
        "print('¿Qué edad tienes?')\n",
        "age = input()\n",
        "print('Tú edad es de ' + age)"
      ],
      "execution_count": 2,
      "outputs": [
        {
          "output_type": "stream",
          "name": "stdout",
          "text": [
            "¿Qué edad tienes?\n",
            "32\n",
            "Tú edad es de 32\n"
          ]
        }
      ]
    },
    {
      "cell_type": "markdown",
      "metadata": {
        "id": "sKGquCFUSLnI"
      },
      "source": [
        "Este enfoque recibe información en tiempo de ejecución, lo que significa que el programa detendrá la ejecución y esperará hasta que el usuario\n",
        "escriba algo y presiona la tecla `Enter`.\n",
        "\n",
        "También puede realizar un procesamiento de entrada más complejo y\n",
        "aceptar la entrada en el momento de la invocación del programa, y ​​veremos\n",
        "cómo hacer eso más adelante.\n",
        "\n",
        "Esto funciona para aplicaciones de línea de comandos. Otros tipos\n",
        "de las aplicaciones necesitará una forma diferente de aceptar\n",
        "aporte."
      ]
    },
    {
      "cell_type": "markdown",
      "metadata": {
        "id": "h1hKcJwQSwAv"
      },
      "source": [
        "# **Listas**\n",
        "\n",
        "Las listas son una estructura de datos esencial de Python. Le permiten agrupar varios valores y referencialos a todos con un nombre común.\n",
        "\n",
        "Por ejemplo:"
      ]
    },
    {
      "cell_type": "code",
      "metadata": {
        "id": "oChb5FEhSvgu"
      },
      "source": [
        "x = [\"Hola\", \"mundo\"]"
      ],
      "execution_count": null,
      "outputs": []
    },
    {
      "cell_type": "markdown",
      "metadata": {
        "id": "Epg1IZueTTpK"
      },
      "source": [
        "Una lista puede contener valores de diferentes tipos:"
      ]
    },
    {
      "cell_type": "code",
      "metadata": {
        "id": "GzrWXQ8NTO9k",
        "colab": {
          "base_uri": "https://localhost:8080/"
        },
        "outputId": "40c4ad40-31c7-439c-ac34-710d3a2ecc56"
      },
      "source": [
        "a=[23.56, -71, \"Hola\"]\n",
        "items = [\"Roy\", 1, \"Alejandro\", True]\n",
        "\n",
        "print(items)"
      ],
      "execution_count": 3,
      "outputs": [
        {
          "output_type": "stream",
          "name": "stdout",
          "text": [
            "['Roy', 1, 'Alejandro', True]\n"
          ]
        }
      ]
    },
    {
      "cell_type": "code",
      "metadata": {
        "id": "Ub9E4tbX1Oer"
      },
      "source": [
        "#b=[1.2,] #Si es una lista.\n",
        "c=[1.2] #No es una lista."
      ],
      "execution_count": null,
      "outputs": []
    },
    {
      "cell_type": "markdown",
      "metadata": {
        "id": "HIeiTCvbThl7"
      },
      "source": [
        "Puede comprobar si un elemento está contenido en una lista con\n",
        "el operador `in`:"
      ]
    },
    {
      "cell_type": "code",
      "metadata": {
        "colab": {
          "base_uri": "https://localhost:8080/"
        },
        "id": "C-wT_iFFTgfz",
        "outputId": "c8a74d22-077d-40ca-c622-50251efc9a3f"
      },
      "source": [
        "print(\"Roy\" in items)"
      ],
      "execution_count": 4,
      "outputs": [
        {
          "output_type": "stream",
          "name": "stdout",
          "text": [
            "True\n"
          ]
        }
      ]
    },
    {
      "cell_type": "markdown",
      "metadata": {
        "id": "gmD73FDwT6Pn"
      },
      "source": [
        "Una lista también se puede definir como vacía:"
      ]
    },
    {
      "cell_type": "code",
      "metadata": {
        "id": "cNXjw7k9T5kQ",
        "colab": {
          "base_uri": "https://localhost:8080/"
        },
        "outputId": "141e1612-57f8-42b4-e784-ff6d62de9e6b"
      },
      "source": [
        "items1 = [] #Lista vacia\n",
        "\n",
        "print(items1)"
      ],
      "execution_count": null,
      "outputs": [
        {
          "output_type": "stream",
          "name": "stdout",
          "text": [
            "[]\n"
          ]
        }
      ]
    },
    {
      "cell_type": "markdown",
      "metadata": {
        "id": "wYWx1NrRUAJi"
      },
      "source": [
        "Puede hacer referencia a los elementos de una lista por su índice,\n",
        "comenzando desde cero:\n"
      ]
    },
    {
      "cell_type": "code",
      "metadata": {
        "colab": {
          "base_uri": "https://localhost:8080/"
        },
        "id": "4pZu9xhnTzdP",
        "outputId": "8e3f924b-c0c2-4a6c-92ca-53c4ea4ceb6d"
      },
      "source": [
        "#items[0] # Stiven\n",
        "#items[1] # 1\n",
        "items[3] # True"
      ],
      "execution_count": null,
      "outputs": [
        {
          "output_type": "execute_result",
          "data": {
            "text/plain": [
              "True"
            ]
          },
          "metadata": {},
          "execution_count": 5
        }
      ]
    },
    {
      "cell_type": "markdown",
      "metadata": {
        "id": "3Lm1DPz5UncD"
      },
      "source": [
        "\n",
        "Usando la misma notación puedes cambiar el valor\n",
        "almacenado en un índice específico:"
      ]
    },
    {
      "cell_type": "code",
      "metadata": {
        "id": "JXjLas2uUZ00"
      },
      "source": [
        "items[0]='Roy'"
      ],
      "execution_count": 5,
      "outputs": []
    },
    {
      "cell_type": "code",
      "metadata": {
        "colab": {
          "base_uri": "https://localhost:8080/"
        },
        "id": "CWZrKZ6KWqy7",
        "outputId": "9c599b12-ff17-4b49-9950-9c64b96bff8d"
      },
      "source": [
        "items"
      ],
      "execution_count": null,
      "outputs": [
        {
          "output_type": "execute_result",
          "data": {
            "text/plain": [
              "['Steven', 1, 'Leonardo', True]"
            ]
          },
          "metadata": {},
          "execution_count": 11
        }
      ]
    },
    {
      "cell_type": "markdown",
      "metadata": {
        "id": "vP9_iDPZWwIE"
      },
      "source": [
        "También puede utilizar `index()` para hallar la posición del elemento de la lista:"
      ]
    },
    {
      "cell_type": "code",
      "metadata": {
        "colab": {
          "base_uri": "https://localhost:8080/"
        },
        "id": "2kJ_rNVvWsSc",
        "outputId": "f9f454f7-834c-4d80-82fb-7a16fa34e20a"
      },
      "source": [
        "#items.index(\"Roy\") \n",
        "items.index(\"Alejandro\")"
      ],
      "execution_count": 7,
      "outputs": [
        {
          "output_type": "execute_result",
          "data": {
            "text/plain": [
              "2"
            ]
          },
          "metadata": {},
          "execution_count": 7
        }
      ]
    },
    {
      "cell_type": "markdown",
      "metadata": {
        "id": "EXO0LMJRXbrR"
      },
      "source": [
        "Colocando un índice negativo comenzará buscando desde el final:"
      ]
    },
    {
      "cell_type": "code",
      "metadata": {
        "colab": {
          "base_uri": "https://localhost:8080/"
        },
        "id": "CMJbOV02W9pf",
        "outputId": "171d9747-2b84-4116-c295-4347c2ab17ae"
      },
      "source": [
        "items[-1]"
      ],
      "execution_count": 8,
      "outputs": [
        {
          "output_type": "execute_result",
          "data": {
            "text/plain": [
              "True"
            ]
          },
          "metadata": {},
          "execution_count": 8
        }
      ]
    },
    {
      "cell_type": "code",
      "source": [
        "items[-2]"
      ],
      "metadata": {
        "colab": {
          "base_uri": "https://localhost:8080/",
          "height": 36
        },
        "id": "JK55xqSbxiSi",
        "outputId": "7bcf6ad2-9d5c-43a5-ad20-52e1863bf194"
      },
      "execution_count": 9,
      "outputs": [
        {
          "output_type": "execute_result",
          "data": {
            "text/plain": [
              "'Alejandro'"
            ],
            "application/vnd.google.colaboratory.intrinsic+json": {
              "type": "string"
            }
          },
          "metadata": {},
          "execution_count": 9
        }
      ]
    },
    {
      "cell_type": "markdown",
      "metadata": {
        "id": "8TV05gGJYy82"
      },
      "source": [
        "Asunto que tambien ocurre en las variables tipo str."
      ]
    },
    {
      "cell_type": "code",
      "metadata": {
        "colab": {
          "base_uri": "https://localhost:8080/",
          "height": 36
        },
        "id": "Ie0xdbtCY4B9",
        "outputId": "7552d2f7-cde9-49d2-b5f9-017e0d4e6d9c"
      },
      "source": [
        "my_str='Cadena'\n",
        "my_str[-2]"
      ],
      "execution_count": 10,
      "outputs": [
        {
          "output_type": "execute_result",
          "data": {
            "text/plain": [
              "'n'"
            ],
            "application/vnd.google.colaboratory.intrinsic+json": {
              "type": "string"
            }
          },
          "metadata": {},
          "execution_count": 10
        }
      ]
    },
    {
      "cell_type": "markdown",
      "metadata": {
        "id": "1pdP0eXtZEw5"
      },
      "source": [
        "También puede extraer una parte de una lista, utilizando sectores:"
      ]
    },
    {
      "cell_type": "code",
      "metadata": {
        "colab": {
          "base_uri": "https://localhost:8080/"
        },
        "id": "jeCRTuDxYyOk",
        "outputId": "70d7774a-8666-4fc6-9232-17678fcd3e8d"
      },
      "source": [
        "items[0:2] "
      ],
      "execution_count": 11,
      "outputs": [
        {
          "output_type": "execute_result",
          "data": {
            "text/plain": [
              "['Roy', 1]"
            ]
          },
          "metadata": {},
          "execution_count": 11
        }
      ]
    },
    {
      "cell_type": "code",
      "metadata": {
        "colab": {
          "base_uri": "https://localhost:8080/"
        },
        "id": "HfM0uiapYv8Z",
        "outputId": "bfc36b7b-465e-4aec-ec37-4282e9be510c"
      },
      "source": [
        "items[2:]"
      ],
      "execution_count": 12,
      "outputs": [
        {
          "output_type": "execute_result",
          "data": {
            "text/plain": [
              "['Alejandro', True]"
            ]
          },
          "metadata": {},
          "execution_count": 12
        }
      ]
    },
    {
      "cell_type": "code",
      "metadata": {
        "colab": {
          "base_uri": "https://localhost:8080/",
          "height": 35
        },
        "id": "XFALZoHB3YDH",
        "outputId": "70753fe0-06ec-47d9-9084-694fbb269546"
      },
      "source": [
        "my_str[2:]"
      ],
      "execution_count": null,
      "outputs": [
        {
          "output_type": "execute_result",
          "data": {
            "text/plain": [
              "'dena'"
            ],
            "application/vnd.google.colaboratory.intrinsic+json": {
              "type": "string"
            }
          },
          "metadata": {},
          "execution_count": 17
        }
      ]
    },
    {
      "cell_type": "markdown",
      "metadata": {
        "id": "toL093XNauCz"
      },
      "source": [
        "\n",
        "Obtenga el número de elementos contenidos en una lista usando el\n",
        "función global `len()`, la misma que se usa para obtener la\n",
        "longitud de un string:"
      ]
    },
    {
      "cell_type": "code",
      "metadata": {
        "colab": {
          "base_uri": "https://localhost:8080/"
        },
        "id": "zBhZYSTbatUU",
        "outputId": "319fd417-ea4e-476d-dc9d-9a0022dbc3a8"
      },
      "source": [
        "len(items)"
      ],
      "execution_count": null,
      "outputs": [
        {
          "output_type": "execute_result",
          "data": {
            "text/plain": [
              "4"
            ]
          },
          "metadata": {},
          "execution_count": 12
        }
      ]
    },
    {
      "cell_type": "markdown",
      "metadata": {
        "id": "cOQZMZhra-jG"
      },
      "source": [
        "***Puede*** agregar elementos a la lista utilizando `append()`:"
      ]
    },
    {
      "cell_type": "code",
      "source": [
        "items.append(\"Test\")"
      ],
      "metadata": {
        "id": "BewWQTvj4iJM"
      },
      "execution_count": 13,
      "outputs": []
    },
    {
      "cell_type": "code",
      "metadata": {
        "colab": {
          "base_uri": "https://localhost:8080/"
        },
        "id": "7t_4TeYdfxRz",
        "outputId": "652cff66-c6ab-4707-e69d-43bfee70dba7"
      },
      "source": [
        "items"
      ],
      "execution_count": 14,
      "outputs": [
        {
          "output_type": "execute_result",
          "data": {
            "text/plain": [
              "['Roy', 1, 'Alejandro', True, 'Test']"
            ]
          },
          "metadata": {},
          "execution_count": 14
        }
      ]
    },
    {
      "cell_type": "markdown",
      "metadata": {
        "id": "9C-cDtABfkse"
      },
      "source": [
        "O se puede usar `extend()`"
      ]
    },
    {
      "cell_type": "code",
      "metadata": {
        "id": "qAp2tl_IgRBB"
      },
      "source": [
        "items.extend([\"Test\"])"
      ],
      "execution_count": 15,
      "outputs": []
    },
    {
      "cell_type": "code",
      "metadata": {
        "colab": {
          "base_uri": "https://localhost:8080/"
        },
        "id": "B8oW_rAggg2o",
        "outputId": "81476ddd-76a2-4c7b-c92c-2bf32e488fd5"
      },
      "source": [
        "items"
      ],
      "execution_count": 16,
      "outputs": [
        {
          "output_type": "execute_result",
          "data": {
            "text/plain": [
              "['Roy', 1, 'Alejandro', True, 'Test', 'Test']"
            ]
          },
          "metadata": {},
          "execution_count": 16
        }
      ]
    },
    {
      "cell_type": "markdown",
      "metadata": {
        "id": "d5a9PBg6fwnZ"
      },
      "source": [
        "También puedes usar el operador + =:"
      ]
    },
    {
      "cell_type": "code",
      "metadata": {
        "id": "uzJdood7gv-n"
      },
      "source": [
        "items += [\"Test\"]\n"
      ],
      "execution_count": 17,
      "outputs": []
    },
    {
      "cell_type": "code",
      "metadata": {
        "colab": {
          "base_uri": "https://localhost:8080/"
        },
        "id": "w1_PJHH4g2fz",
        "outputId": "f38b518f-3df8-41e3-c38a-0bb18bff62c2"
      },
      "source": [
        "items"
      ],
      "execution_count": 18,
      "outputs": [
        {
          "output_type": "execute_result",
          "data": {
            "text/plain": [
              "['Roy', 1, 'Alejandro', True, 'Test', 'Test', 'Test']"
            ]
          },
          "metadata": {},
          "execution_count": 18
        }
      ]
    },
    {
      "cell_type": "markdown",
      "metadata": {
        "id": "M9c32BBSggUG"
      },
      "source": [
        "Elimina un elemento usando el método `remove()`:"
      ]
    },
    {
      "cell_type": "code",
      "metadata": {
        "id": "X3R693CchH2n"
      },
      "source": [
        "items.remove(\"Test\")"
      ],
      "execution_count": null,
      "outputs": []
    },
    {
      "cell_type": "code",
      "metadata": {
        "colab": {
          "base_uri": "https://localhost:8080/"
        },
        "id": "8mfycRkShKG0",
        "outputId": "527a0c7c-4191-4308-fabe-b23037a19bae"
      },
      "source": [
        "items"
      ],
      "execution_count": null,
      "outputs": [
        {
          "output_type": "execute_result",
          "data": {
            "text/plain": [
              "['Steven', 1, 'Leonardo', True, 'Test', 'Test']"
            ]
          },
          "metadata": {},
          "execution_count": 26
        }
      ]
    },
    {
      "cell_type": "markdown",
      "metadata": {
        "id": "jwiu0f12hQeC"
      },
      "source": [
        "Puede agregar varios elementos usando "
      ]
    },
    {
      "cell_type": "code",
      "metadata": {
        "id": "gRC45tFNhL4h"
      },
      "source": [
        "items += [\"Test1\", \"Test2\"]"
      ],
      "execution_count": 19,
      "outputs": []
    },
    {
      "cell_type": "code",
      "metadata": {
        "id": "YCA2SJ7BhWQF",
        "colab": {
          "base_uri": "https://localhost:8080/"
        },
        "outputId": "84d77424-4c66-4cf7-fb6c-7ca6d6ff03d0"
      },
      "source": [
        "items.extend([\"Test1\", \"Test2\"])\n",
        "\n",
        "items"
      ],
      "execution_count": 20,
      "outputs": [
        {
          "output_type": "execute_result",
          "data": {
            "text/plain": [
              "['Roy',\n",
              " 1,\n",
              " 'Alejandro',\n",
              " True,\n",
              " 'Test',\n",
              " 'Test',\n",
              " 'Test',\n",
              " 'Test1',\n",
              " 'Test2',\n",
              " 'Test1',\n",
              " 'Test2']"
            ]
          },
          "metadata": {},
          "execution_count": 20
        }
      ]
    },
    {
      "cell_type": "markdown",
      "metadata": {
        "id": "CSGJXUmqhemY"
      },
      "source": [
        "Estos anexan el elemento al final de la lista."
      ]
    },
    {
      "cell_type": "markdown",
      "metadata": {
        "id": "-E06bMmQhlxF"
      },
      "source": [
        "Para agregar un elemento en medio de una lista, en un punto específico\n",
        "index, use el método `insert()`:"
      ]
    },
    {
      "cell_type": "code",
      "metadata": {
        "id": "r0AK4bBwhZEr",
        "colab": {
          "base_uri": "https://localhost:8080/"
        },
        "outputId": "19eb6f49-2df8-41dd-fccf-2c9a612c51ec"
      },
      "source": [
        "items.insert(1, \"Test\")\n",
        "\n",
        "print(items)"
      ],
      "execution_count": 21,
      "outputs": [
        {
          "output_type": "stream",
          "name": "stdout",
          "text": [
            "['Roy', 'Test', 1, 'Alejandro', True, 'Test', 'Test', 'Test', 'Test1', 'Test2', 'Test1', 'Test2']\n"
          ]
        }
      ]
    },
    {
      "cell_type": "markdown",
      "metadata": {
        "id": "k6w-Z8ruhwnn"
      },
      "source": [
        "# **Tuplas**\n",
        "\n",
        "Las tuplas son otra estructura de datos fundamental de Python.\n",
        "Te permiten crear grupos de objetos **inmutables**.\n",
        "Esto significa que una vez que se crea una tupla, no se puede\n",
        "modificado. No puede agregar ni quitar elementos.\n",
        "Se crean de forma similar a las listas, pero utilizando\n",
        "paréntesis en lugar de corchetes:\n"
      ]
    },
    {
      "cell_type": "code",
      "metadata": {
        "id": "FmYioYBQhvwj"
      },
      "source": [
        "names = [\"Roy\", \"Alejandro\"]"
      ],
      "execution_count": 22,
      "outputs": []
    },
    {
      "cell_type": "markdown",
      "metadata": {
        "id": "0iivWxHHi31v"
      },
      "source": [
        "Una tupla está ordenada, como una lista, para que pueda obtener sus valores\n",
        "haciendo referencia a un valor de índice:"
      ]
    },
    {
      "cell_type": "code",
      "metadata": {
        "colab": {
          "base_uri": "https://localhost:8080/",
          "height": 36
        },
        "id": "jJdEm_27pPqN",
        "outputId": "118c43c2-2df9-42b7-cdf6-bee108c64f02"
      },
      "source": [
        "names = [\"Roy\", \"Alejandro\"]\n",
        "\n",
        "names[0] +\" \"+  names[1] "
      ],
      "execution_count": 23,
      "outputs": [
        {
          "output_type": "execute_result",
          "data": {
            "text/plain": [
              "'Roy Alejandro'"
            ],
            "application/vnd.google.colaboratory.intrinsic+json": {
              "type": "string"
            }
          },
          "metadata": {},
          "execution_count": 23
        }
      ]
    },
    {
      "cell_type": "code",
      "metadata": {
        "colab": {
          "base_uri": "https://localhost:8080/"
        },
        "id": "EbRuX9q68Ct-",
        "outputId": "0d7a51a3-627c-4b77-b376-e789f57677cc"
      },
      "source": [
        "names = [\"Roy\", \"Alejandro\"]\n",
        "names.append(\"Gómez\")\n",
        "\n",
        "print(names)"
      ],
      "execution_count": 25,
      "outputs": [
        {
          "output_type": "stream",
          "name": "stdout",
          "text": [
            "['Roy', 'Alejandro', 'Gómez']\n"
          ]
        }
      ]
    },
    {
      "cell_type": "markdown",
      "metadata": {
        "id": "0Gr_qvZ6p9qV"
      },
      "source": [
        "## **EJERCICIO EN CLASE**\n",
        "\n",
        "Posee muchas de las funcionalidades que posee una lista, interactua con ellas.\n",
        "\n",
        "Por ejemplo:\n",
        "\n",
        "1.   `index()`\n",
        "2.   `len()`\n",
        "\n",
        "\n",
        "\n",
        "\n"
      ]
    },
    {
      "cell_type": "markdown",
      "metadata": {
        "id": "hVEv6bX1pgeV"
      },
      "source": [
        "\n",
        "Puede crear una versión ordenada de una tupla utilizando la función global `sorted()`:"
      ]
    },
    {
      "cell_type": "code",
      "metadata": {
        "colab": {
          "base_uri": "https://localhost:8080/"
        },
        "id": "doskNDhnpTmw",
        "outputId": "c07aa140-c6d0-4a8d-e5d3-3120b1c87984"
      },
      "source": [
        "names = ['Stiven', 'Leonardo', 'Silva','Andres']\n",
        "sorted(names)"
      ],
      "execution_count": 26,
      "outputs": [
        {
          "output_type": "execute_result",
          "data": {
            "text/plain": [
              "['Andres', 'Leonardo', 'Silva', 'Stiven']"
            ]
          },
          "metadata": {},
          "execution_count": 26
        }
      ]
    },
    {
      "cell_type": "markdown",
      "metadata": {
        "id": "RvQ7fYlrpp9A"
      },
      "source": [
        "Puede crear una nueva tupla a partir de tuplas existentes usando el operador +:"
      ]
    },
    {
      "cell_type": "code",
      "metadata": {
        "colab": {
          "base_uri": "https://localhost:8080/"
        },
        "id": "3CleciQRpobB",
        "outputId": "02ce0f2e-e2ff-4358-a7e9-cc932c3132d1"
      },
      "source": [
        "newTuple = names + [\"Vainilla\", \"Chocolate\"]\n",
        "print(newTuple)"
      ],
      "execution_count": null,
      "outputs": [
        {
          "output_type": "stream",
          "name": "stdout",
          "text": [
            "['Stiven', 'Leonardo', 'Silva', 'Vainilla', 'Chocolate']\n"
          ]
        }
      ]
    },
    {
      "cell_type": "markdown",
      "metadata": {
        "id": "fOzwB5PyqEna"
      },
      "source": [
        "# **Diccionarios**\n",
        "\n",
        "Los diccionarios son datos de Python muy importantes en su\n",
        "estructura.\n",
        "Si bien las listas le permiten crear colecciones de valores,\n",
        "Los diccionarios le permiten crear colecciones de claves /\n",
        "pares de valores.\n",
        "Aquí hay un ejemplo de diccionario con un par **clave / valor**:"
      ]
    },
    {
      "cell_type": "code",
      "metadata": {
        "id": "AI9eafyFp1qr"
      },
      "source": [
        "Persona = { 'name': 'Roy' }"
      ],
      "execution_count": 27,
      "outputs": []
    },
    {
      "cell_type": "markdown",
      "metadata": {
        "id": "7oHl4ixDqiJC"
      },
      "source": [
        "La clave puede ser cualquier valor inmutable como una cadena, un\n",
        "número o una tupla. El valor puede ser cualquier cosa que desee.\n",
        "Un diccionario puede contener varios pares clave / valor:"
      ]
    },
    {
      "cell_type": "code",
      "metadata": {
        "id": "bwCvmZtWqhZc"
      },
      "source": [
        "Person = {\"name\" : \"Roy\", \"age\" : 32, \"estatura\" : 1.74}"
      ],
      "execution_count": 28,
      "outputs": []
    },
    {
      "cell_type": "markdown",
      "metadata": {
        "id": "dJiIe8w8q4yw"
      },
      "source": [
        "Puede acceder a valores clave individuales utilizando este notación:"
      ]
    },
    {
      "cell_type": "code",
      "metadata": {
        "colab": {
          "base_uri": "https://localhost:8080/"
        },
        "id": "vkPig5xSqxS8",
        "outputId": "f10e25cd-d13f-46e4-869c-e702420f2abf"
      },
      "source": [
        "#Person['name'] \n",
        "#Person['age']\n",
        "Person['estatura']"
      ],
      "execution_count": null,
      "outputs": [
        {
          "output_type": "execute_result",
          "data": {
            "text/plain": [
              "1.75"
            ]
          },
          "metadata": {},
          "execution_count": 20
        }
      ]
    },
    {
      "cell_type": "markdown",
      "metadata": {
        "id": "fKlu2ejkrKfh"
      },
      "source": [
        "Usando la misma notación puedes cambiar el valor almacenado en un índice específico:"
      ]
    },
    {
      "cell_type": "code",
      "metadata": {
        "id": "7KWYEHuGrBAG"
      },
      "source": [
        "Person['name'] = 'Alejandro'"
      ],
      "execution_count": 29,
      "outputs": []
    },
    {
      "cell_type": "code",
      "metadata": {
        "colab": {
          "base_uri": "https://localhost:8080/"
        },
        "id": "F38ayGo0rRK8",
        "outputId": "cf31e61e-e503-4b7d-8fa3-6cc0b82b9324"
      },
      "source": [
        "print(Person)"
      ],
      "execution_count": 30,
      "outputs": [
        {
          "output_type": "stream",
          "name": "stdout",
          "text": [
            "{'name': 'Alejandro', 'age': 32, 'estatura': 1.74}\n"
          ]
        }
      ]
    },
    {
      "cell_type": "markdown",
      "metadata": {
        "id": "Gd947Uc_racm"
      },
      "source": [
        "Y otra forma es usar el método `get()`, que tiene una opción para agregar un valor predeterminado:"
      ]
    },
    {
      "cell_type": "code",
      "metadata": {
        "colab": {
          "base_uri": "https://localhost:8080/",
          "height": 36
        },
        "id": "jg95dD5TrVBH",
        "outputId": "fbaa87f5-00e8-4a04-cc69-0750becf33f8"
      },
      "source": [
        "Person.get('name')\n",
        "Person.get('test', 'default')"
      ],
      "execution_count": 31,
      "outputs": [
        {
          "output_type": "execute_result",
          "data": {
            "text/plain": [
              "'default'"
            ],
            "application/vnd.google.colaboratory.intrinsic+json": {
              "type": "string"
            }
          },
          "metadata": {},
          "execution_count": 31
        }
      ]
    },
    {
      "cell_type": "code",
      "source": [
        "Person"
      ],
      "metadata": {
        "colab": {
          "base_uri": "https://localhost:8080/"
        },
        "id": "ovO0Dq6-0R3i",
        "outputId": "11058082-11ca-47cb-d00f-b9bec6230baa"
      },
      "execution_count": 32,
      "outputs": [
        {
          "output_type": "execute_result",
          "data": {
            "text/plain": [
              "{'name': 'Alejandro', 'age': 32, 'estatura': 1.74}"
            ]
          },
          "metadata": {},
          "execution_count": 32
        }
      ]
    },
    {
      "cell_type": "markdown",
      "metadata": {
        "id": "2t-JxcO8rrRZ"
      },
      "source": [
        "Obtenga una lista con las claves en un diccionario usando el método `keys()`, pasando su resultado a la `list()` constructor:"
      ]
    },
    {
      "cell_type": "code",
      "metadata": {
        "colab": {
          "base_uri": "https://localhost:8080/"
        },
        "id": "tNmhvde8rn6B",
        "outputId": "84efb0f9-6d65-4a60-cbfa-d6529130e200"
      },
      "source": [
        "list(Person.keys())"
      ],
      "execution_count": 33,
      "outputs": [
        {
          "output_type": "execute_result",
          "data": {
            "text/plain": [
              "['name', 'age', 'estatura']"
            ]
          },
          "metadata": {},
          "execution_count": 33
        }
      ]
    },
    {
      "cell_type": "markdown",
      "metadata": {
        "id": "8wFvKlP9sHoM"
      },
      "source": [
        "Puede agregar un nuevo par clave / valor al diccionario en\n",
        "Por aquí:"
      ]
    },
    {
      "cell_type": "code",
      "metadata": {
        "colab": {
          "base_uri": "https://localhost:8080/"
        },
        "id": "ScCvK5xOr-pK",
        "outputId": "23f44ceb-a6ba-49ee-ac7c-674a0db527d0"
      },
      "source": [
        "Person['favorite food'] = 'Meat'\n",
        "\n",
        "print(Person)"
      ],
      "execution_count": 34,
      "outputs": [
        {
          "output_type": "stream",
          "name": "stdout",
          "text": [
            "{'name': 'Alejandro', 'age': 32, 'estatura': 1.74, 'favorite food': 'Meat'}\n"
          ]
        }
      ]
    },
    {
      "cell_type": "markdown",
      "metadata": {
        "id": "TshAjkAMsONA"
      },
      "source": [
        "\n",
        "Puede eliminar un par clave / valor de un diccionario usando la declaración `del`:"
      ]
    },
    {
      "cell_type": "code",
      "metadata": {
        "colab": {
          "base_uri": "https://localhost:8080/"
        },
        "id": "o5rNgAg0sMmZ",
        "outputId": "c77a623a-1e0e-4288-ad73-3a297343ff79"
      },
      "source": [
        "del Person['name']\n",
        "\n",
        "print(Person)"
      ],
      "execution_count": null,
      "outputs": [
        {
          "output_type": "stream",
          "name": "stdout",
          "text": [
            "{'age': 28, 'estatura': 1.75, 'favorite food': 'Meat'}\n"
          ]
        }
      ]
    },
    {
      "cell_type": "markdown",
      "source": [
        "## **EJEMPLO EN CLASE**\n",
        "\n",
        "Un pequeño ejemplo de uso de un diccionario:\n",
        "\n"
      ],
      "metadata": {
        "id": "NkjXqAcg4T_i"
      }
    },
    {
      "cell_type": "code",
      "source": [
        "tel = {'jack': 4098, 'sape': 4139}"
      ],
      "metadata": {
        "id": "5Lk8iOZ24qNq"
      },
      "execution_count": null,
      "outputs": []
    },
    {
      "cell_type": "code",
      "source": [
        "tel['guido'] = 4127\n",
        "tel"
      ],
      "metadata": {
        "colab": {
          "base_uri": "https://localhost:8080/"
        },
        "id": "9yIFY20Z4zNT",
        "outputId": "1b9d6c70-d71d-4375-b031-5cb70750e7c0"
      },
      "execution_count": null,
      "outputs": [
        {
          "output_type": "execute_result",
          "data": {
            "text/plain": [
              "{'guido': 4127, 'jack': 4098, 'sape': 4139}"
            ]
          },
          "metadata": {},
          "execution_count": 69
        }
      ]
    },
    {
      "cell_type": "code",
      "source": [
        "tel['jack']"
      ],
      "metadata": {
        "colab": {
          "base_uri": "https://localhost:8080/"
        },
        "id": "erYjPJpA44FT",
        "outputId": "061b5c91-325b-4e85-dccb-0e9c5984be90"
      },
      "execution_count": null,
      "outputs": [
        {
          "output_type": "execute_result",
          "data": {
            "text/plain": [
              "4098"
            ]
          },
          "metadata": {},
          "execution_count": 70
        }
      ]
    },
    {
      "cell_type": "code",
      "source": [
        "del tel['sape']\n",
        "tel['irv'] = 4127\n",
        "tel"
      ],
      "metadata": {
        "colab": {
          "base_uri": "https://localhost:8080/"
        },
        "id": "UDivFxzA4-bQ",
        "outputId": "3222dc72-3184-4b55-c98e-113c57b8ff02"
      },
      "execution_count": null,
      "outputs": [
        {
          "output_type": "execute_result",
          "data": {
            "text/plain": [
              "{'guido': 4127, 'irv': 4127, 'jack': 4098}"
            ]
          },
          "metadata": {},
          "execution_count": 71
        }
      ]
    },
    {
      "cell_type": "code",
      "source": [
        "list(tel)"
      ],
      "metadata": {
        "colab": {
          "base_uri": "https://localhost:8080/"
        },
        "id": "R7VWQTRV5Fon",
        "outputId": "8d675e31-1531-4e51-e711-fe4fc1ce23ea"
      },
      "execution_count": null,
      "outputs": [
        {
          "output_type": "execute_result",
          "data": {
            "text/plain": [
              "['jack', 'guido', 'irv']"
            ]
          },
          "metadata": {},
          "execution_count": 72
        }
      ]
    },
    {
      "cell_type": "code",
      "source": [
        "sorted(tel)"
      ],
      "metadata": {
        "colab": {
          "base_uri": "https://localhost:8080/"
        },
        "id": "cUO4nqvf5JuL",
        "outputId": "931589dc-a07f-4f66-dce2-2baeae957967"
      },
      "execution_count": null,
      "outputs": [
        {
          "output_type": "execute_result",
          "data": {
            "text/plain": [
              "['guido', 'irv', 'jack']"
            ]
          },
          "metadata": {},
          "execution_count": 73
        }
      ]
    },
    {
      "cell_type": "code",
      "source": [
        "'guido' in tel"
      ],
      "metadata": {
        "colab": {
          "base_uri": "https://localhost:8080/"
        },
        "id": "rnbW1EAh5OyZ",
        "outputId": "7e1240bb-e39a-47e5-c57c-70952779db5f"
      },
      "execution_count": null,
      "outputs": [
        {
          "output_type": "execute_result",
          "data": {
            "text/plain": [
              "True"
            ]
          },
          "metadata": {},
          "execution_count": 74
        }
      ]
    },
    {
      "cell_type": "code",
      "source": [
        "'jack' not in tel\n",
        "False"
      ],
      "metadata": {
        "colab": {
          "base_uri": "https://localhost:8080/"
        },
        "id": "buRX4E-N5UnU",
        "outputId": "06d4ec85-2cfa-4c8d-8c59-0e3938abe9b0"
      },
      "execution_count": null,
      "outputs": [
        {
          "output_type": "execute_result",
          "data": {
            "text/plain": [
              "False"
            ]
          },
          "metadata": {},
          "execution_count": 75
        }
      ]
    },
    {
      "cell_type": "markdown",
      "metadata": {
        "id": "JGWWcUXQswuC"
      },
      "source": [
        "# **Conjuntos**\n",
        "\n",
        "Los conjuntos son otra estructura de datos importante de Python.\n",
        "Podemos decir que funcionan como tuplas, pero no lo son.\n",
        "ordenados, y son mutables. O podemos decir que ellos\n",
        "funcionan como diccionarios, pero no tienen claves. Ellos también tienen una versión inmutable, llamada `frozenset()`.\n",
        "\n",
        "Puede crear un conjunto usando esta sintaxis:"
      ]
    },
    {
      "cell_type": "code",
      "metadata": {
        "id": "3BHS3EoJsdzg"
      },
      "source": [
        "names = {\"Roy\", \"Alejandro\"}"
      ],
      "execution_count": 35,
      "outputs": []
    },
    {
      "cell_type": "markdown",
      "metadata": {
        "id": "aqA-wLRgtWYB"
      },
      "source": [
        "Los conjuntos funcionan bien cuando los consideras como\n",
        "conjuntos matemáticos.\n",
        "\n",
        "Puede intersecar dos conjuntos:"
      ]
    },
    {
      "cell_type": "code",
      "metadata": {
        "id": "zHICD3LZtVPy"
      },
      "source": [
        "set1 = {\"Roy\", \"Alejandro\"}\n",
        "set2 = {\"Roy\"}"
      ],
      "execution_count": 36,
      "outputs": []
    },
    {
      "cell_type": "code",
      "metadata": {
        "colab": {
          "base_uri": "https://localhost:8080/"
        },
        "id": "giVaBQ1yt4FP",
        "outputId": "ccdd07d2-0c56-4f04-b5dd-113370799bd1"
      },
      "source": [
        "intersect = set1 & set2 \n",
        "print(intersect)"
      ],
      "execution_count": 37,
      "outputs": [
        {
          "output_type": "stream",
          "name": "stdout",
          "text": [
            "{'Roy'}\n"
          ]
        }
      ]
    },
    {
      "cell_type": "markdown",
      "metadata": {
        "id": "HDaxxyAquBZD"
      },
      "source": [
        "Puede crear una unión de dos conjuntos:"
      ]
    },
    {
      "cell_type": "code",
      "metadata": {
        "id": "P81XcR_Rt4sc"
      },
      "source": [
        "set1 = {\"Roy\", \"Alejandro\"}\n",
        "set2 = {\"Carlos\"}\n"
      ],
      "execution_count": 38,
      "outputs": []
    },
    {
      "cell_type": "code",
      "metadata": {
        "id": "KnLQjQlhuF5z"
      },
      "source": [
        "union = set1  |  set2 "
      ],
      "execution_count": null,
      "outputs": []
    },
    {
      "cell_type": "code",
      "metadata": {
        "colab": {
          "base_uri": "https://localhost:8080/",
          "height": 165
        },
        "id": "qUcpQfCtuKOq",
        "outputId": "cdd9998c-7745-4ff0-bdd4-42c6dce3914a"
      },
      "source": [
        "union"
      ],
      "execution_count": 39,
      "outputs": [
        {
          "output_type": "error",
          "ename": "NameError",
          "evalue": "ignored",
          "traceback": [
            "\u001b[0;31m---------------------------------------------------------------------------\u001b[0m",
            "\u001b[0;31mNameError\u001b[0m                                 Traceback (most recent call last)",
            "\u001b[0;32m<ipython-input-39-b26bd8377049>\u001b[0m in \u001b[0;36m<module>\u001b[0;34m\u001b[0m\n\u001b[0;32m----> 1\u001b[0;31m \u001b[0munion\u001b[0m\u001b[0;34m\u001b[0m\u001b[0;34m\u001b[0m\u001b[0m\n\u001b[0m",
            "\u001b[0;31mNameError\u001b[0m: name 'union' is not defined"
          ]
        }
      ]
    },
    {
      "cell_type": "markdown",
      "metadata": {
        "id": "04YaENkKuVjS"
      },
      "source": [
        "Puede comprobar si un conjunto es un superconjunto de otro (y de\n",
        "por supuesto si un conjunto es un subconjunto de otro)\n"
      ]
    },
    {
      "cell_type": "code",
      "metadata": {
        "id": "Geqc8Y7quLL0"
      },
      "source": [
        "isSuperset = set1 > set2"
      ],
      "execution_count": null,
      "outputs": []
    },
    {
      "cell_type": "code",
      "metadata": {
        "id": "h3YMRpbuuacj",
        "colab": {
          "base_uri": "https://localhost:8080/"
        },
        "outputId": "80b40250-276a-4438-f8fc-7e8661197cd1"
      },
      "source": [
        "isSuperset"
      ],
      "execution_count": null,
      "outputs": [
        {
          "output_type": "execute_result",
          "data": {
            "text/plain": [
              "False"
            ]
          },
          "metadata": {},
          "execution_count": 42
        }
      ]
    },
    {
      "cell_type": "markdown",
      "source": [
        "## **EJEMPLO EN CLASE**\n",
        "\n",
        "Convierte las palabras 'abracadabra' y 'alacazam' en conjuntos y realiza operaciones conjuntistas entre ellas.\n",
        "\n"
      ],
      "metadata": {
        "id": "hVRiOD_93wWj"
      }
    },
    {
      "cell_type": "code",
      "source": [
        "# Demostrar operaciones de conjuntos en letras únicas de dos palabras\n",
        "\n",
        "a = set('abracadabra')\n",
        "b = set('alacazam')"
      ],
      "metadata": {
        "id": "QJCT8EGt2ycj"
      },
      "execution_count": null,
      "outputs": []
    },
    {
      "cell_type": "code",
      "source": [
        "a"
      ],
      "metadata": {
        "colab": {
          "base_uri": "https://localhost:8080/"
        },
        "id": "tSaqNJqz3Kz4",
        "outputId": "63f15cec-6d86-42b9-f70d-1c02595de4f2"
      },
      "execution_count": null,
      "outputs": [
        {
          "output_type": "execute_result",
          "data": {
            "text/plain": [
              "{'a', 'b', 'c', 'd', 'r'}"
            ]
          },
          "metadata": {},
          "execution_count": 45
        }
      ]
    },
    {
      "cell_type": "code",
      "source": [
        "b"
      ],
      "metadata": {
        "colab": {
          "base_uri": "https://localhost:8080/"
        },
        "id": "fxP4F9MA3M7g",
        "outputId": "cb0ac561-da45-47ce-ef82-b47b32f22b2b"
      },
      "execution_count": null,
      "outputs": [
        {
          "output_type": "execute_result",
          "data": {
            "text/plain": [
              "{'a', 'c', 'l', 'm', 'z'}"
            ]
          },
          "metadata": {},
          "execution_count": 46
        }
      ]
    },
    {
      "cell_type": "code",
      "source": [
        "a-b                              # letters in a but not in b"
      ],
      "metadata": {
        "colab": {
          "base_uri": "https://localhost:8080/"
        },
        "id": "UzWV8a8n3DVV",
        "outputId": "fbec5c17-cb80-4b97-a6ed-3468c8f22c1c"
      },
      "execution_count": null,
      "outputs": [
        {
          "output_type": "execute_result",
          "data": {
            "text/plain": [
              "{'b', 'd', 'r'}"
            ]
          },
          "metadata": {},
          "execution_count": 47
        }
      ]
    },
    {
      "cell_type": "code",
      "source": [
        "a|b                              # letters in a or b or both"
      ],
      "metadata": {
        "colab": {
          "base_uri": "https://localhost:8080/"
        },
        "id": "juSPzaJY3Uld",
        "outputId": "3963f7f1-5b86-45bd-a1ea-06cb458eb0d8"
      },
      "execution_count": null,
      "outputs": [
        {
          "output_type": "execute_result",
          "data": {
            "text/plain": [
              "{'a', 'b', 'c', 'd', 'l', 'm', 'r', 'z'}"
            ]
          },
          "metadata": {},
          "execution_count": 48
        }
      ]
    },
    {
      "cell_type": "code",
      "source": [
        "a&b                              # letters in both a and b"
      ],
      "metadata": {
        "colab": {
          "base_uri": "https://localhost:8080/"
        },
        "id": "vWIKz7Xz3Zf2",
        "outputId": "86237d86-6bca-43a6-fa29-17d6bc4daf04"
      },
      "execution_count": null,
      "outputs": [
        {
          "output_type": "execute_result",
          "data": {
            "text/plain": [
              "{'a', 'c'}"
            ]
          },
          "metadata": {},
          "execution_count": 64
        }
      ]
    },
    {
      "cell_type": "code",
      "source": [
        "a^b                              # letters in a or b but not both"
      ],
      "metadata": {
        "colab": {
          "base_uri": "https://localhost:8080/"
        },
        "id": "hCduMW_V3dXK",
        "outputId": "5ba840c2-7aaa-46e2-ad98-e83d89fd05e7"
      },
      "execution_count": null,
      "outputs": [
        {
          "output_type": "execute_result",
          "data": {
            "text/plain": [
              "{'b', 'd', 'l', 'm', 'r', 'z'}"
            ]
          },
          "metadata": {},
          "execution_count": 63
        }
      ]
    },
    {
      "cell_type": "markdown",
      "metadata": {
        "id": "W-wijz7o_OZc"
      },
      "source": [
        "## **EJERCICIO EN CLASE**\n",
        "\n",
        "Realizar ejemplos de conjuntos, para intersección, unión y diferencia entre conjuntos."
      ]
    },
    {
      "cell_type": "code",
      "metadata": {
        "id": "zgxbvAJsudP1"
      },
      "source": [
        "# Escribe código aquí."
      ],
      "execution_count": null,
      "outputs": []
    }
  ]
}