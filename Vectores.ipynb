{
  "nbformat": 4,
  "nbformat_minor": 0,
  "metadata": {
    "kernelspec": {
      "display_name": "Python 3",
      "language": "python",
      "name": "python3"
    },
    "language_info": {
      "codemirror_mode": {
        "name": "ipython",
        "version": 3
      },
      "file_extension": ".py",
      "mimetype": "text/x-python",
      "name": "python",
      "nbconvert_exporter": "python",
      "pygments_lexer": "ipython3",
      "version": "3.8.3"
    },
    "colab": {
      "provenance": []
    }
  },
  "cells": [
    {
      "cell_type": "markdown",
      "source": [
        "## Introducción a los escalares, vectores, matrices y tensores"
      ],
      "metadata": {
        "id": "rGUDKeQe0j0q"
      }
    },
    {
      "cell_type": "code",
      "metadata": {
        "id": "9IZ73-4sjH6V",
        "colab": {
          "base_uri": "https://localhost:8080/"
        },
        "outputId": "12f85793-8f1f-445c-c1f0-a159f2addf84"
      },
      "source": [
        "escalar = 5.432\n",
        "\n",
        "print(escalar)\n",
        "type(escalar)"
      ],
      "execution_count": null,
      "outputs": [
        {
          "output_type": "stream",
          "name": "stdout",
          "text": [
            "5.432\n"
          ]
        },
        {
          "output_type": "execute_result",
          "data": {
            "text/plain": [
              "float"
            ]
          },
          "metadata": {},
          "execution_count": 1
        }
      ]
    },
    {
      "cell_type": "code",
      "metadata": {
        "id": "5o6ohZIujH87",
        "colab": {
          "base_uri": "https://localhost:8080/"
        },
        "outputId": "24bba51f-67b5-4898-e7a9-84e2623e0c1b"
      },
      "source": [
        "escalar_python = True\n",
        "print(escalar_python)\n",
        "type(escalar_python)\n",
        "\n",
        "print('Variable booleana')"
      ],
      "execution_count": null,
      "outputs": [
        {
          "output_type": "stream",
          "name": "stdout",
          "text": [
            "True\n",
            "Variable booleana\n"
          ]
        }
      ]
    },
    {
      "cell_type": "code",
      "metadata": {
        "id": "HdNY2VZHjH9S"
      },
      "source": [
        "import numpy as np "
      ],
      "execution_count": null,
      "outputs": []
    },
    {
      "cell_type": "code",
      "metadata": {
        "id": "Wvr9G9xcjH9m",
        "colab": {
          "base_uri": "https://localhost:8080/"
        },
        "outputId": "60554374-a341-4092-eace-297ac071a8c1"
      },
      "source": [
        "vector = np.array([1,2,3,4]) # cuando se escribe np.array es el vector conocido\n",
        "print(vector)"
      ],
      "execution_count": null,
      "outputs": [
        {
          "output_type": "stream",
          "name": "stdout",
          "text": [
            "[1 2 3 4]\n"
          ]
        }
      ]
    },
    {
      "cell_type": "code",
      "metadata": {
        "colab": {
          "base_uri": "https://localhost:8080/"
        },
        "id": "mv7iXhTA0-VS",
        "outputId": "0c283f70-d96b-4d6e-880f-55879382fbd0"
      },
      "source": [
        "matriz = np.array([[0,1,9],[8,5,2],[3,5,6]])\n",
        "print(matriz)"
      ],
      "execution_count": null,
      "outputs": [
        {
          "output_type": "stream",
          "name": "stdout",
          "text": [
            "[[0 1 9]\n",
            " [8 5 2]\n",
            " [3 5 6]]\n"
          ]
        }
      ]
    },
    {
      "cell_type": "code",
      "metadata": {
        "id": "yXAte0ttjH9o",
        "colab": {
          "base_uri": "https://localhost:8080/"
        },
        "outputId": "f48367b7-0f38-4610-8f72-d5bb01ef6b57"
      },
      "source": [
        "matriz = np.array([[1,2,3],[4,5,6],[7,8,9]])\n",
        "print(matriz)"
      ],
      "execution_count": null,
      "outputs": [
        {
          "output_type": "stream",
          "name": "stdout",
          "text": [
            "[[1 2 3]\n",
            " [4 5 6]\n",
            " [7 8 9]]\n"
          ]
        }
      ]
    },
    {
      "cell_type": "code",
      "metadata": {
        "id": "b2SougHgjH9u",
        "colab": {
          "base_uri": "https://localhost:8080/"
        },
        "outputId": "b6601911-2514-4a9b-af76-e0eabc69b425"
      },
      "source": [
        "tensor = np.array([\n",
        "    [[255, 127, 80],[4,5,6],[6,7,8]],\n",
        "    [[255, 127, 80],[0,128,0],[0,0,255]],\n",
        "    [[255, 127, 80],[24,25,26],[51, 134, 255]],\n",
        "])\n",
        "\n",
        "print(tensor)"
      ],
      "execution_count": null,
      "outputs": [
        {
          "output_type": "stream",
          "name": "stdout",
          "text": [
            "[[[255 127  80]\n",
            "  [  4   5   6]\n",
            "  [  6   7   8]]\n",
            "\n",
            " [[255 127  80]\n",
            "  [  0 128   0]\n",
            "  [  0   0 255]]\n",
            "\n",
            " [[255 127  80]\n",
            "  [ 24  25  26]\n",
            "  [ 51 134 255]]]\n"
          ]
        }
      ]
    },
    {
      "cell_type": "code",
      "metadata": {
        "id": "YtNlC_QNjH-L"
      },
      "source": [
        "#matplotlib inline\n",
        "\n",
        "import matplotlib.pyplot as plt"
      ],
      "execution_count": null,
      "outputs": []
    },
    {
      "cell_type": "code",
      "metadata": {
        "id": "jrXW9LHejH-N",
        "colab": {
          "base_uri": "https://localhost:8080/",
          "height": 269
        },
        "outputId": "bb1e0215-4170-485c-a928-b30905c274e2"
      },
      "source": [
        "plt.imshow(tensor)\n",
        "plt.show()"
      ],
      "execution_count": null,
      "outputs": [
        {
          "output_type": "display_data",
          "data": {
            "text/plain": [
              "<Figure size 432x288 with 1 Axes>"
            ],
            "image/png": "[encoded data removed]"
          },
          "metadata": {
            "needs_background": "light"
          }
        }
      ]
    },
    {
      "cell_type": "code",
      "source": [
        "np.linalg.eigvals(matriz)"
      ],
      "metadata": {
        "id": "7Mzp7X0-cyes"
      },
      "execution_count": null,
      "outputs": []
    },
    {
      "cell_type": "code",
      "source": [
        "np.linalg.eig(matriz)"
      ],
      "metadata": {
        "colab": {
          "base_uri": "https://localhost:8080/",
          "height": 165
        },
        "id": "0-7ENTmm4RjL",
        "outputId": "fb69b221-dd36-41f0-e444-86a893245a72"
      },
      "execution_count": null,
      "outputs": [
        {
          "output_type": "error",
          "ename": "NameError",
          "evalue": "ignored",
          "traceback": [
            "\u001b[0;31m---------------------------------------------------------------------------\u001b[0m",
            "\u001b[0;31mNameError\u001b[0m                                 Traceback (most recent call last)",
            "\u001b[0;32m<ipython-input-3-d2647789ed0d>\u001b[0m in \u001b[0;36m<module>\u001b[0;34m\u001b[0m\n\u001b[0;32m----> 1\u001b[0;31m \u001b[0mnp\u001b[0m\u001b[0;34m.\u001b[0m\u001b[0mlinalg\u001b[0m\u001b[0;34m.\u001b[0m\u001b[0meig\u001b[0m\u001b[0;34m(\u001b[0m\u001b[0mmatriz\u001b[0m\u001b[0;34m)\u001b[0m\u001b[0;34m\u001b[0m\u001b[0;34m\u001b[0m\u001b[0m\n\u001b[0m",
            "\u001b[0;31mNameError\u001b[0m: name 'np' is not defined"
          ]
        }
      ]
    },
    {
      "cell_type": "code",
      "source": [],
      "metadata": {
        "id": "PlVYDA0m09oJ"
      },
      "execution_count": null,
      "outputs": []
    },
    {
      "cell_type": "code",
      "metadata": {
        "id": "FxHqdI-EtirO"
      },
      "source": [
        "import numpy as np"
      ],
      "execution_count": null,
      "outputs": []
    },
    {
      "cell_type": "code",
      "metadata": {
        "id": "1Xg0Myxltirb",
        "outputId": "3f5a8538-a89f-42b0-d09b-8def6b70c2e3",
        "colab": {
          "base_uri": "https://localhost:8080/",
          "height": 235
        }
      },
      "source": [
        "escalar = 5\n",
        "vector = np.array([1,2,3])\n",
        "matriz = np.array([[1,2],[3,4]])\n",
        "tensor = np.array([\n",
        "    [[1,2,3,4],[4,5,6,4],[6,7,8,4]],\n",
        "    [[11,12,13,4],[14,15,16,4],[17,18,19,4]],\n",
        "    [[21,22,23,4],[24,25,26,4],[27,28,29,4]],\n",
        "    [[21,22,23,4],[24,25,26,4],[27,28,29,4]]\n",
        "])\n",
        "# 3 matrices, 3 filas, 4 columnas(o entradas por matriz)"
      ],
      "execution_count": null,
      "outputs": [
        {
          "output_type": "error",
          "ename": "NameError",
          "evalue": "ignored",
          "traceback": [
            "\u001b[0;31m---------------------------------------------------------------------------\u001b[0m",
            "\u001b[0;31mNameError\u001b[0m                                 Traceback (most recent call last)",
            "\u001b[0;32m<ipython-input-1-594ea6f0d946>\u001b[0m in \u001b[0;36m<module>\u001b[0;34m\u001b[0m\n\u001b[1;32m      1\u001b[0m \u001b[0mescalar\u001b[0m \u001b[0;34m=\u001b[0m \u001b[0;36m5\u001b[0m\u001b[0;34m\u001b[0m\u001b[0;34m\u001b[0m\u001b[0m\n\u001b[0;32m----> 2\u001b[0;31m \u001b[0mvector\u001b[0m \u001b[0;34m=\u001b[0m \u001b[0mnp\u001b[0m\u001b[0;34m.\u001b[0m\u001b[0marray\u001b[0m\u001b[0;34m(\u001b[0m\u001b[0;34m[\u001b[0m\u001b[0;36m1\u001b[0m\u001b[0;34m,\u001b[0m\u001b[0;36m2\u001b[0m\u001b[0;34m,\u001b[0m\u001b[0;36m3\u001b[0m\u001b[0;34m]\u001b[0m\u001b[0;34m)\u001b[0m\u001b[0;34m\u001b[0m\u001b[0;34m\u001b[0m\u001b[0m\n\u001b[0m\u001b[1;32m      3\u001b[0m \u001b[0mmatriz\u001b[0m \u001b[0;34m=\u001b[0m \u001b[0mnp\u001b[0m\u001b[0;34m.\u001b[0m\u001b[0marray\u001b[0m\u001b[0;34m(\u001b[0m\u001b[0;34m[\u001b[0m\u001b[0;34m[\u001b[0m\u001b[0;36m1\u001b[0m\u001b[0;34m,\u001b[0m\u001b[0;36m2\u001b[0m\u001b[0;34m]\u001b[0m\u001b[0;34m,\u001b[0m\u001b[0;34m[\u001b[0m\u001b[0;36m3\u001b[0m\u001b[0;34m,\u001b[0m\u001b[0;36m4\u001b[0m\u001b[0;34m]\u001b[0m\u001b[0;34m]\u001b[0m\u001b[0;34m)\u001b[0m\u001b[0;34m\u001b[0m\u001b[0;34m\u001b[0m\u001b[0m\n\u001b[1;32m      4\u001b[0m tensor = np.array([\n\u001b[1;32m      5\u001b[0m     \u001b[0;34m[\u001b[0m\u001b[0;34m[\u001b[0m\u001b[0;36m1\u001b[0m\u001b[0;34m,\u001b[0m\u001b[0;36m2\u001b[0m\u001b[0;34m,\u001b[0m\u001b[0;36m3\u001b[0m\u001b[0;34m,\u001b[0m\u001b[0;36m4\u001b[0m\u001b[0;34m]\u001b[0m\u001b[0;34m,\u001b[0m\u001b[0;34m[\u001b[0m\u001b[0;36m4\u001b[0m\u001b[0;34m,\u001b[0m\u001b[0;36m5\u001b[0m\u001b[0;34m,\u001b[0m\u001b[0;36m6\u001b[0m\u001b[0;34m,\u001b[0m\u001b[0;36m4\u001b[0m\u001b[0;34m]\u001b[0m\u001b[0;34m,\u001b[0m\u001b[0;34m[\u001b[0m\u001b[0;36m6\u001b[0m\u001b[0;34m,\u001b[0m\u001b[0;36m7\u001b[0m\u001b[0;34m,\u001b[0m\u001b[0;36m8\u001b[0m\u001b[0;34m,\u001b[0m\u001b[0;36m4\u001b[0m\u001b[0;34m]\u001b[0m\u001b[0;34m]\u001b[0m\u001b[0;34m,\u001b[0m\u001b[0;34m\u001b[0m\u001b[0;34m\u001b[0m\u001b[0m\n",
            "\u001b[0;31mNameError\u001b[0m: name 'np' is not defined"
          ]
        }
      ]
    },
    {
      "cell_type": "code",
      "metadata": {
        "id": "fh6CHTvKtird",
        "colab": {
          "base_uri": "https://localhost:8080/"
        },
        "outputId": "352b234a-ddb0-481b-872d-307046547df3"
      },
      "source": [
        "print(escalar)"
      ],
      "execution_count": null,
      "outputs": [
        {
          "output_type": "stream",
          "name": "stdout",
          "text": [
            "5\n"
          ]
        }
      ]
    },
    {
      "cell_type": "code",
      "metadata": {
        "id": "WjflCQw5tirg",
        "colab": {
          "base_uri": "https://localhost:8080/",
          "height": 166
        },
        "outputId": "a2b8bc8d-8a11-46ab-ec5f-d7fa087a0475"
      },
      "source": [
        "print(escalar.shape)"
      ],
      "execution_count": null,
      "outputs": [
        {
          "output_type": "error",
          "ename": "AttributeError",
          "evalue": "ignored",
          "traceback": [
            "\u001b[0;31m---------------------------------------------------------------------------\u001b[0m",
            "\u001b[0;31mAttributeError\u001b[0m                            Traceback (most recent call last)",
            "\u001b[0;32m<ipython-input-19-01e7fc5579f6>\u001b[0m in \u001b[0;36m<module>\u001b[0;34m()\u001b[0m\n\u001b[0;32m----> 1\u001b[0;31m \u001b[0mprint\u001b[0m\u001b[0;34m(\u001b[0m\u001b[0mescalar\u001b[0m\u001b[0;34m.\u001b[0m\u001b[0mshape\u001b[0m\u001b[0;34m)\u001b[0m\u001b[0;34m\u001b[0m\u001b[0;34m\u001b[0m\u001b[0m\n\u001b[0m",
            "\u001b[0;31mAttributeError\u001b[0m: 'int' object has no attribute 'shape'"
          ]
        }
      ]
    },
    {
      "cell_type": "code",
      "metadata": {
        "id": "AriwEOn6tirh",
        "colab": {
          "base_uri": "https://localhost:8080/"
        },
        "outputId": "253994d8-acd5-43dc-f1d8-27dbeefae27d"
      },
      "source": [
        "vector.shape"
      ],
      "execution_count": null,
      "outputs": [
        {
          "output_type": "execute_result",
          "data": {
            "text/plain": [
              "(3,)"
            ]
          },
          "metadata": {},
          "execution_count": 20
        }
      ]
    },
    {
      "cell_type": "code",
      "metadata": {
        "id": "DSv-nyCktiri",
        "colab": {
          "base_uri": "https://localhost:8080/"
        },
        "outputId": "fe8e8c00-30e0-425b-f98d-d1fb958ff574"
      },
      "source": [
        "print(vector)"
      ],
      "execution_count": null,
      "outputs": [
        {
          "output_type": "stream",
          "name": "stdout",
          "text": [
            "[1 2 3]\n"
          ]
        }
      ]
    },
    {
      "cell_type": "code",
      "metadata": {
        "id": "XHritS5Ytiri",
        "colab": {
          "base_uri": "https://localhost:8080/"
        },
        "outputId": "357f9e13-c751-4bb3-ef62-e2bd93fa291c"
      },
      "source": [
        "len(vector)"
      ],
      "execution_count": null,
      "outputs": [
        {
          "output_type": "execute_result",
          "data": {
            "text/plain": [
              "3"
            ]
          },
          "metadata": {},
          "execution_count": 22
        }
      ]
    },
    {
      "cell_type": "code",
      "metadata": {
        "id": "qIBkBcd1tirk",
        "colab": {
          "base_uri": "https://localhost:8080/"
        },
        "outputId": "830bacb6-9a3b-4240-bc4d-fe81eeab3de6"
      },
      "source": [
        "matriz.shape"
      ],
      "execution_count": null,
      "outputs": [
        {
          "output_type": "execute_result",
          "data": {
            "text/plain": [
              "(2, 2)"
            ]
          },
          "metadata": {},
          "execution_count": 23
        }
      ]
    },
    {
      "cell_type": "code",
      "metadata": {
        "id": "vlpUUFG1tirl",
        "colab": {
          "base_uri": "https://localhost:8080/"
        },
        "outputId": "85528216-6f4f-4fc7-d0bd-747115ca39b4"
      },
      "source": [
        "print(matriz)"
      ],
      "execution_count": null,
      "outputs": [
        {
          "output_type": "stream",
          "name": "stdout",
          "text": [
            "[[1 2]\n",
            " [3 4]]\n"
          ]
        }
      ]
    },
    {
      "cell_type": "code",
      "metadata": {
        "id": "aWuKJxyLtirl",
        "colab": {
          "base_uri": "https://localhost:8080/"
        },
        "outputId": "81b9a1b1-966d-4dcf-f743-458f6ffecaf7"
      },
      "source": [
        "len(matriz)"
      ],
      "execution_count": null,
      "outputs": [
        {
          "output_type": "execute_result",
          "data": {
            "text/plain": [
              "2"
            ]
          },
          "metadata": {},
          "execution_count": 25
        }
      ]
    },
    {
      "cell_type": "code",
      "metadata": {
        "id": "GamaqV-gtirm",
        "colab": {
          "base_uri": "https://localhost:8080/"
        },
        "outputId": "87208990-a9d5-433c-e5f2-01f92f905a7b"
      },
      "source": [
        "print(matriz.size)"
      ],
      "execution_count": null,
      "outputs": [
        {
          "output_type": "stream",
          "name": "stdout",
          "text": [
            "4\n"
          ]
        }
      ]
    },
    {
      "cell_type": "code",
      "metadata": {
        "id": "YmjUYgjbtirm",
        "colab": {
          "base_uri": "https://localhost:8080/"
        },
        "outputId": "194880c4-2022-40de-eea6-cfeca97d6d06"
      },
      "source": [
        "print(matriz.shape)"
      ],
      "execution_count": null,
      "outputs": [
        {
          "output_type": "stream",
          "name": "stdout",
          "text": [
            "(2, 2)\n"
          ]
        }
      ]
    },
    {
      "cell_type": "code",
      "metadata": {
        "id": "dk8j--gdtirn",
        "colab": {
          "base_uri": "https://localhost:8080/"
        },
        "outputId": "99a4e807-b6bf-477b-a2cb-270cfb98ac7e"
      },
      "source": [
        "print(tensor.shape)"
      ],
      "execution_count": null,
      "outputs": [
        {
          "output_type": "stream",
          "name": "stdout",
          "text": [
            "(4, 3, 4)\n"
          ]
        }
      ]
    },
    {
      "cell_type": "code",
      "metadata": {
        "id": "QG2VwiFmtirp",
        "colab": {
          "base_uri": "https://localhost:8080/"
        },
        "outputId": "6cd61b01-75f3-447b-9077-493c9bc901e2"
      },
      "source": [
        "print(tensor.size)"
      ],
      "execution_count": null,
      "outputs": [
        {
          "output_type": "stream",
          "name": "stdout",
          "text": [
            "48\n"
          ]
        }
      ]
    },
    {
      "cell_type": "code",
      "source": [
        "tensor"
      ],
      "metadata": {
        "colab": {
          "base_uri": "https://localhost:8080/"
        },
        "id": "HGlQaVfwgWFb",
        "outputId": "d2ca4c38-0d54-49e4-f4b3-77e778cde960"
      },
      "execution_count": null,
      "outputs": [
        {
          "output_type": "execute_result",
          "data": {
            "text/plain": [
              "array([[[ 1,  2,  3,  4],\n",
              "        [ 4,  5,  6,  4],\n",
              "        [ 6,  7,  8,  4]],\n",
              "\n",
              "       [[11, 12, 13,  4],\n",
              "        [14, 15, 16,  4],\n",
              "        [17, 18, 19,  4]],\n",
              "\n",
              "       [[21, 22, 23,  4],\n",
              "        [24, 25, 26,  4],\n",
              "        [27, 28, 29,  4]],\n",
              "\n",
              "       [[21, 22, 23,  4],\n",
              "        [24, 25, 26,  4],\n",
              "        [27, 28, 29,  4]]])"
            ]
          },
          "metadata": {},
          "execution_count": 37
        }
      ]
    },
    {
      "cell_type": "code",
      "source": [],
      "metadata": {
        "id": "-v19KDg71BOu"
      },
      "execution_count": null,
      "outputs": []
    },
    {
      "cell_type": "code",
      "metadata": {
        "id": "8qlEi6NhvjEj"
      },
      "source": [
        "import numpy as np"
      ],
      "execution_count": null,
      "outputs": []
    },
    {
      "cell_type": "code",
      "metadata": {
        "id": "-yVoDmqEvjEu"
      },
      "source": [
        "escalar = 5.679\n",
        "vector = np.array([3,4,5,6])\n",
        "matriz = np.array([[1,2],[3,4],[5,6]])\n",
        "tensor = np.array([\n",
        "    [[1,2,3,30],[4,5,6,31],[7,8,9,32]],\n",
        "    [[11,12,13,33],[14,15,16,34],[17,18,19,35]],\n",
        "    [[21,22,23,36],[24,25,26,37],[27,28,29,38]],\n",
        "])"
      ],
      "execution_count": null,
      "outputs": []
    },
    {
      "cell_type": "code",
      "metadata": {
        "id": "zmPYEeF3vjEx",
        "colab": {
          "base_uri": "https://localhost:8080/",
          "height": 166
        },
        "outputId": "e236f1ac-f438-4e9e-9c43-29edec73c5ff"
      },
      "source": [
        "escalar_t = escalar.T"
      ],
      "execution_count": null,
      "outputs": [
        {
          "output_type": "error",
          "ename": "AttributeError",
          "evalue": "ignored",
          "traceback": [
            "\u001b[0;31m---------------------------------------------------------------------------\u001b[0m",
            "\u001b[0;31mAttributeError\u001b[0m                            Traceback (most recent call last)",
            "\u001b[0;32m<ipython-input-4-4a23f0f136f1>\u001b[0m in \u001b[0;36m<module>\u001b[0;34m()\u001b[0m\n\u001b[0;32m----> 1\u001b[0;31m \u001b[0mescalar_t\u001b[0m \u001b[0;34m=\u001b[0m \u001b[0mescalar\u001b[0m\u001b[0;34m.\u001b[0m\u001b[0mT\u001b[0m\u001b[0;34m\u001b[0m\u001b[0;34m\u001b[0m\u001b[0m\n\u001b[0m",
            "\u001b[0;31mAttributeError\u001b[0m: 'float' object has no attribute 'T'"
          ]
        }
      ]
    },
    {
      "cell_type": "code",
      "metadata": {
        "id": "DCOp3MLkvjE0",
        "colab": {
          "base_uri": "https://localhost:8080/"
        },
        "outputId": "0e7cb379-537e-42cf-cc9b-9b8580d6d461"
      },
      "source": [
        "vector_t = vector.T\n",
        "print(vector_t)"
      ],
      "execution_count": null,
      "outputs": [
        {
          "output_type": "stream",
          "name": "stdout",
          "text": [
            "[3 4 5 6]\n"
          ]
        }
      ]
    },
    {
      "cell_type": "code",
      "metadata": {
        "id": "9wZLOEbKvjE1"
      },
      "source": [
        "matriz_t = matriz.T"
      ],
      "execution_count": null,
      "outputs": []
    },
    {
      "cell_type": "code",
      "metadata": {
        "id": "AURDDHczvjE1",
        "colab": {
          "base_uri": "https://localhost:8080/"
        },
        "outputId": "1386d5f9-abc7-48fb-81ba-2c0b8e1f700d"
      },
      "source": [
        "print(matriz_t)"
      ],
      "execution_count": null,
      "outputs": [
        {
          "output_type": "stream",
          "name": "stdout",
          "text": [
            "[[1 3 5]\n",
            " [2 4 6]]\n"
          ]
        }
      ]
    },
    {
      "cell_type": "code",
      "metadata": {
        "id": "cBMVvnZdvjE2",
        "colab": {
          "base_uri": "https://localhost:8080/"
        },
        "outputId": "701cffd6-6b1f-43d7-b8b1-59f2ac816ba4"
      },
      "source": [
        "print(matriz.shape)"
      ],
      "execution_count": null,
      "outputs": [
        {
          "output_type": "stream",
          "name": "stdout",
          "text": [
            "(3, 2)\n"
          ]
        }
      ]
    },
    {
      "cell_type": "code",
      "metadata": {
        "id": "_9_AymAmvjE3",
        "colab": {
          "base_uri": "https://localhost:8080/"
        },
        "outputId": "b173711c-895a-4ab6-d99e-e14777336ebc"
      },
      "source": [
        "print(matriz_t.shape)"
      ],
      "execution_count": null,
      "outputs": [
        {
          "output_type": "stream",
          "name": "stdout",
          "text": [
            "(2, 3)\n"
          ]
        }
      ]
    },
    {
      "cell_type": "code",
      "metadata": {
        "id": "umsdutW1vjE4",
        "colab": {
          "base_uri": "https://localhost:8080/"
        },
        "outputId": "019fb753-8b7c-4e80-a4ef-f0edebe93d4b"
      },
      "source": [
        "tensor_t = tensor.T\n",
        "print(tensor_t)"
      ],
      "execution_count": null,
      "outputs": [
        {
          "output_type": "stream",
          "name": "stdout",
          "text": [
            "[[[ 1 11 21]\n",
            "  [ 4 14 24]\n",
            "  [ 7 17 27]]\n",
            "\n",
            " [[ 2 12 22]\n",
            "  [ 5 15 25]\n",
            "  [ 8 18 28]]\n",
            "\n",
            " [[ 3 13 23]\n",
            "  [ 6 16 26]\n",
            "  [ 9 19 29]]\n",
            "\n",
            " [[30 33 36]\n",
            "  [31 34 37]\n",
            "  [32 35 38]]]\n"
          ]
        }
      ]
    },
    {
      "cell_type": "code",
      "metadata": {
        "id": "urNa6oC2vjE5",
        "colab": {
          "base_uri": "https://localhost:8080/"
        },
        "outputId": "2345af9a-b42a-4462-db0c-f3a53d7542a9"
      },
      "source": [
        "print(tensor)"
      ],
      "execution_count": null,
      "outputs": [
        {
          "output_type": "stream",
          "name": "stdout",
          "text": [
            "[[[ 1  2  3 30]\n",
            "  [ 4  5  6 31]\n",
            "  [ 7  8  9 32]]\n",
            "\n",
            " [[11 12 13 33]\n",
            "  [14 15 16 34]\n",
            "  [17 18 19 35]]\n",
            "\n",
            " [[21 22 23 36]\n",
            "  [24 25 26 37]\n",
            "  [27 28 29 38]]]\n"
          ]
        }
      ]
    },
    {
      "cell_type": "code",
      "metadata": {
        "colab": {
          "base_uri": "https://localhost:8080/"
        },
        "id": "gFEnYIWWrWqU",
        "outputId": "0b6d1dc5-20ee-446c-bb47-2502c84e7742"
      },
      "source": [
        "tensor.shape"
      ],
      "execution_count": null,
      "outputs": [
        {
          "output_type": "execute_result",
          "data": {
            "text/plain": [
              "(3, 3, 4)"
            ]
          },
          "metadata": {},
          "execution_count": 12
        }
      ]
    },
    {
      "cell_type": "code",
      "metadata": {
        "colab": {
          "base_uri": "https://localhost:8080/"
        },
        "id": "4wTjFwFXrZnR",
        "outputId": "8482ceef-2a08-44b2-b040-efa3416402b1"
      },
      "source": [
        "tensor_t.shape"
      ],
      "execution_count": null,
      "outputs": [
        {
          "output_type": "execute_result",
          "data": {
            "text/plain": [
              "(4, 3, 3)"
            ]
          },
          "metadata": {},
          "execution_count": 13
        }
      ]
    },
    {
      "cell_type": "code",
      "metadata": {
        "id": "j9xCzvihvjE5",
        "colab": {
          "base_uri": "https://localhost:8080/"
        },
        "outputId": "b52abfcf-9458-4883-973c-7908a6dfd442"
      },
      "source": [
        "matriz_t_t = matriz_t.T\n",
        "print(matriz_t_t)"
      ],
      "execution_count": null,
      "outputs": [
        {
          "output_type": "stream",
          "text": [
            "[[1 2]\n",
            " [3 4]\n",
            " [5 6]]\n"
          ],
          "name": "stdout"
        }
      ]
    },
    {
      "cell_type": "code",
      "metadata": {
        "id": "wkPxoAwfvjE6",
        "colab": {
          "base_uri": "https://localhost:8080/"
        },
        "outputId": "ff1c3df0-4f1d-493f-e0d2-dcab77b184d3"
      },
      "source": [
        "print(matriz)"
      ],
      "execution_count": null,
      "outputs": [
        {
          "output_type": "stream",
          "text": [
            "[[1 2]\n",
            " [3 4]\n",
            " [5 6]]\n"
          ],
          "name": "stdout"
        }
      ]
    },
    {
      "cell_type": "code",
      "metadata": {
        "id": "oD2hdb4ovjE7"
      },
      "source": [
        "A = matriz\n",
        "B = matriz_t"
      ],
      "execution_count": null,
      "outputs": []
    },
    {
      "cell_type": "code",
      "metadata": {
        "id": "XskZEk1ivjE8",
        "colab": {
          "base_uri": "https://localhost:8080/",
          "height": 166
        },
        "outputId": "8b26595a-d074-49f8-c4a9-1b0f8f08458a"
      },
      "source": [
        "C = A+B"
      ],
      "execution_count": null,
      "outputs": [
        {
          "output_type": "error",
          "ename": "ValueError",
          "evalue": "ignored",
          "traceback": [
            "\u001b[0;31m---------------------------------------------------------------------------\u001b[0m",
            "\u001b[0;31mValueError\u001b[0m                                Traceback (most recent call last)",
            "\u001b[0;32m<ipython-input-15-8845ff27cb45>\u001b[0m in \u001b[0;36m<module>\u001b[0;34m()\u001b[0m\n\u001b[0;32m----> 1\u001b[0;31m \u001b[0mC\u001b[0m \u001b[0;34m=\u001b[0m \u001b[0mA\u001b[0m\u001b[0;34m+\u001b[0m\u001b[0mB\u001b[0m\u001b[0;34m\u001b[0m\u001b[0;34m\u001b[0m\u001b[0m\n\u001b[0m",
            "\u001b[0;31mValueError\u001b[0m: operands could not be broadcast together with shapes (3,2) (2,3) "
          ]
        }
      ]
    },
    {
      "cell_type": "code",
      "metadata": {
        "id": "4dvznB85vjE8",
        "colab": {
          "base_uri": "https://localhost:8080/"
        },
        "outputId": "4f0f363f-30dc-4468-d2b8-29d6395f14b8"
      },
      "source": [
        "A = np.array([[1,0,1],[0,1,1],[0,1,0]])\n",
        "B = np.array([[3,1,1],[1,1,1],[2,1,0]])\n",
        "C = A+B\n",
        "print(A)\n",
        "print(B)\n",
        "print(\"suma de matrices A y B es \\n\",C)"
      ],
      "execution_count": null,
      "outputs": [
        {
          "output_type": "stream",
          "name": "stdout",
          "text": [
            "[[1 0 1]\n",
            " [0 1 1]\n",
            " [0 1 0]]\n",
            "[[3 1 1]\n",
            " [1 1 1]\n",
            " [2 1 0]]\n",
            "suma de matrices A y B es \n",
            " [[4 1 2]\n",
            " [1 2 2]\n",
            " [2 2 0]]\n"
          ]
        }
      ]
    },
    {
      "cell_type": "code",
      "metadata": {
        "id": "tmvQiznuvjE9",
        "colab": {
          "base_uri": "https://localhost:8080/"
        },
        "outputId": "cf8e56fe-042a-4ff8-9da3-d815106f5413"
      },
      "source": [
        "D = matriz + escalar\n",
        "print(D)"
      ],
      "execution_count": null,
      "outputs": [
        {
          "output_type": "stream",
          "name": "stdout",
          "text": [
            "[[ 6.679  7.679]\n",
            " [ 8.679  9.679]\n",
            " [10.679 11.679]]\n"
          ]
        }
      ]
    },
    {
      "cell_type": "markdown",
      "source": [
        "----"
      ],
      "metadata": {
        "id": "0lSwVofM1p1w"
      }
    },
    {
      "cell_type": "code",
      "source": [],
      "metadata": {
        "id": "QlgUXR141q-x"
      },
      "execution_count": null,
      "outputs": []
    },
    {
      "cell_type": "code",
      "metadata": {
        "id": "twQaknKLyQGC"
      },
      "source": [
        "escalar = 5.679\n",
        "vector = np.array([2,3])\n",
        "matriz = np.array([[1,2],[3,4],[5,6]])"
      ],
      "execution_count": null,
      "outputs": []
    },
    {
      "cell_type": "code",
      "metadata": {
        "id": "64NE7gTgyQGE"
      },
      "source": [
        "A = matriz*vector"
      ],
      "execution_count": null,
      "outputs": []
    },
    {
      "cell_type": "code",
      "metadata": {
        "id": "K_kQfj0WyQGF"
      },
      "source": [
        "B = matriz.dot(vector)"
      ],
      "execution_count": null,
      "outputs": []
    },
    {
      "cell_type": "code",
      "metadata": {
        "id": "QSm84NGzyQGF",
        "outputId": "0fdffc46-ba89-4043-a3f6-26c7c231adfe",
        "colab": {
          "base_uri": "https://localhost:8080/"
        }
      },
      "source": [
        "print(A)"
      ],
      "execution_count": null,
      "outputs": [
        {
          "output_type": "stream",
          "name": "stdout",
          "text": [
            "[[ 2  6]\n",
            " [ 6 12]\n",
            " [10 18]]\n"
          ]
        }
      ]
    },
    {
      "cell_type": "code",
      "metadata": {
        "id": "OmXkhbQhyQGJ",
        "outputId": "7e164631-666c-4361-869b-8af7398b3bff",
        "colab": {
          "base_uri": "https://localhost:8080/"
        }
      },
      "source": [
        "print(B)"
      ],
      "execution_count": null,
      "outputs": [
        {
          "output_type": "stream",
          "name": "stdout",
          "text": [
            "[ 8 18 28]\n"
          ]
        }
      ]
    },
    {
      "cell_type": "code",
      "metadata": {
        "id": "tvqo2_pqyQGK",
        "outputId": "a5b68c73-219d-4e81-e3b0-203daa6b8c3c",
        "colab": {
          "base_uri": "https://localhost:8080/"
        }
      },
      "source": [
        "B = matriz.dot(vector)\n",
        "C = np.dot(matriz, vector)\n",
        "print(B)\n",
        "print(C)"
      ],
      "execution_count": null,
      "outputs": [
        {
          "output_type": "stream",
          "name": "stdout",
          "text": [
            "[ 8 18 28]\n",
            "[ 8 18 28]\n"
          ]
        }
      ]
    },
    {
      "cell_type": "code",
      "metadata": {
        "id": "Q9r_kOQlyQGL"
      },
      "source": [
        "D = np.array([[2],[2],[2]])"
      ],
      "execution_count": null,
      "outputs": []
    },
    {
      "cell_type": "code",
      "metadata": {
        "id": "IVdFGjn6yQGL",
        "outputId": "eb086c3e-e7b0-4297-889b-bd300138ea9d"
      },
      "source": [
        "print(D)"
      ],
      "execution_count": null,
      "outputs": [
        {
          "output_type": "stream",
          "text": [
            "[[2]\n",
            " [2]\n",
            " [2]]\n"
          ],
          "name": "stdout"
        }
      ]
    },
    {
      "cell_type": "code",
      "metadata": {
        "id": "PUVpk0rLyQGM",
        "outputId": "6e68e7c6-e45e-4c80-a62e-f0da6169fd61",
        "colab": {
          "base_uri": "https://localhost:8080/"
        }
      },
      "source": [
        "#Ejercicio\n",
        "import numpy as np\n",
        "vector= np.array([2,3])\n",
        "matriz = np.array([[1,2],[3,4],[5,6]])\n",
        "A = matriz * vector\n",
        "B = vector * matriz\n",
        "C = matriz.dot(vector)\n",
        "D = np.dot(matriz, vector)\n",
        "\n",
        "print(\"\\n matriz * vector\")\n",
        "print(A)\n",
        "print(\"\\n vector * matriz\")\n",
        "print(B)\n",
        "print(\"\\n matriz.dot( vector )\")\n",
        "print(C)\n",
        "print(\"\\n np.dot(matriz, vector)\")\n",
        "print(D)"
      ],
      "execution_count": null,
      "outputs": [
        {
          "output_type": "stream",
          "name": "stdout",
          "text": [
            "\n",
            " matriz * vector\n",
            "[[ 2  6]\n",
            " [ 6 12]\n",
            " [10 18]]\n",
            "\n",
            " vector * matriz\n",
            "[[ 2  6]\n",
            " [ 6 12]\n",
            " [10 18]]\n",
            "\n",
            " matriz.dot( vector )\n",
            "[ 8 18 28]\n",
            "\n",
            " np.dot(matriz, vector)\n",
            "[ 8 18 28]\n"
          ]
        }
      ]
    },
    {
      "cell_type": "markdown",
      "source": [
        "----"
      ],
      "metadata": {
        "id": "jBKHZnKe10_x"
      }
    },
    {
      "cell_type": "code",
      "source": [],
      "metadata": {
        "id": "jwk-Rpg31130"
      },
      "execution_count": null,
      "outputs": []
    },
    {
      "cell_type": "code",
      "metadata": {
        "outputId": "3f5a8538-a89f-42b0-d09b-8def6b70c2e3",
        "colab": {
          "base_uri": "https://localhost:8080/",
          "height": 235
        },
        "id": "-JgSHKqs2laM"
      },
      "source": [
        "escalar = 5\n",
        "vector = np.array([1,2,3])\n",
        "matriz = np.array([[1,2],[3,4]])\n",
        "tensor = np.array([\n",
        "    [[1,2,3,4],[4,5,6,4],[6,7,8,4]],\n",
        "    [[11,12,13,4],[14,15,16,4],[17,18,19,4]],\n",
        "    [[21,22,23,4],[24,25,26,4],[27,28,29,4]],\n",
        "    [[21,22,23,4],[24,25,26,4],[27,28,29,4]]\n",
        "])\n",
        "# 3 matrices, 3 filas, 4 columnas(o entradas por matriz)"
      ],
      "execution_count": null,
      "outputs": [
        {
          "output_type": "error",
          "ename": "NameError",
          "evalue": "ignored",
          "traceback": [
            "\u001b[0;31m---------------------------------------------------------------------------\u001b[0m",
            "\u001b[0;31mNameError\u001b[0m                                 Traceback (most recent call last)",
            "\u001b[0;32m<ipython-input-1-594ea6f0d946>\u001b[0m in \u001b[0;36m<module>\u001b[0;34m\u001b[0m\n\u001b[1;32m      1\u001b[0m \u001b[0mescalar\u001b[0m \u001b[0;34m=\u001b[0m \u001b[0;36m5\u001b[0m\u001b[0;34m\u001b[0m\u001b[0;34m\u001b[0m\u001b[0m\n\u001b[0;32m----> 2\u001b[0;31m \u001b[0mvector\u001b[0m \u001b[0;34m=\u001b[0m \u001b[0mnp\u001b[0m\u001b[0;34m.\u001b[0m\u001b[0marray\u001b[0m\u001b[0;34m(\u001b[0m\u001b[0;34m[\u001b[0m\u001b[0;36m1\u001b[0m\u001b[0;34m,\u001b[0m\u001b[0;36m2\u001b[0m\u001b[0;34m,\u001b[0m\u001b[0;36m3\u001b[0m\u001b[0;34m]\u001b[0m\u001b[0;34m)\u001b[0m\u001b[0;34m\u001b[0m\u001b[0;34m\u001b[0m\u001b[0m\n\u001b[0m\u001b[1;32m      3\u001b[0m \u001b[0mmatriz\u001b[0m \u001b[0;34m=\u001b[0m \u001b[0mnp\u001b[0m\u001b[0;34m.\u001b[0m\u001b[0marray\u001b[0m\u001b[0;34m(\u001b[0m\u001b[0;34m[\u001b[0m\u001b[0;34m[\u001b[0m\u001b[0;36m1\u001b[0m\u001b[0;34m,\u001b[0m\u001b[0;36m2\u001b[0m\u001b[0;34m]\u001b[0m\u001b[0;34m,\u001b[0m\u001b[0;34m[\u001b[0m\u001b[0;36m3\u001b[0m\u001b[0;34m,\u001b[0m\u001b[0;36m4\u001b[0m\u001b[0;34m]\u001b[0m\u001b[0;34m]\u001b[0m\u001b[0;34m)\u001b[0m\u001b[0;34m\u001b[0m\u001b[0;34m\u001b[0m\u001b[0m\n\u001b[1;32m      4\u001b[0m tensor = np.array([\n\u001b[1;32m      5\u001b[0m     \u001b[0;34m[\u001b[0m\u001b[0;34m[\u001b[0m\u001b[0;36m1\u001b[0m\u001b[0;34m,\u001b[0m\u001b[0;36m2\u001b[0m\u001b[0;34m,\u001b[0m\u001b[0;36m3\u001b[0m\u001b[0;34m,\u001b[0m\u001b[0;36m4\u001b[0m\u001b[0;34m]\u001b[0m\u001b[0;34m,\u001b[0m\u001b[0;34m[\u001b[0m\u001b[0;36m4\u001b[0m\u001b[0;34m,\u001b[0m\u001b[0;36m5\u001b[0m\u001b[0;34m,\u001b[0m\u001b[0;36m6\u001b[0m\u001b[0;34m,\u001b[0m\u001b[0;36m4\u001b[0m\u001b[0;34m]\u001b[0m\u001b[0;34m,\u001b[0m\u001b[0;34m[\u001b[0m\u001b[0;36m6\u001b[0m\u001b[0;34m,\u001b[0m\u001b[0;36m7\u001b[0m\u001b[0;34m,\u001b[0m\u001b[0;36m8\u001b[0m\u001b[0;34m,\u001b[0m\u001b[0;36m4\u001b[0m\u001b[0;34m]\u001b[0m\u001b[0;34m]\u001b[0m\u001b[0;34m,\u001b[0m\u001b[0;34m\u001b[0m\u001b[0;34m\u001b[0m\u001b[0m\n",
            "\u001b[0;31mNameError\u001b[0m: name 'np' is not defined"
          ]
        }
      ]
    },
    {
      "cell_type": "code",
      "metadata": {
        "colab": {
          "base_uri": "https://localhost:8080/"
        },
        "outputId": "352b234a-ddb0-481b-872d-307046547df3",
        "id": "6xdXRXJv2laO"
      },
      "source": [
        "print(escalar)"
      ],
      "execution_count": null,
      "outputs": [
        {
          "output_type": "stream",
          "name": "stdout",
          "text": [
            "5\n"
          ]
        }
      ]
    },
    {
      "cell_type": "code",
      "metadata": {
        "colab": {
          "base_uri": "https://localhost:8080/",
          "height": 166
        },
        "outputId": "a2b8bc8d-8a11-46ab-ec5f-d7fa087a0475",
        "id": "kUgHDkYD2laO"
      },
      "source": [
        "print(escalar.shape)"
      ],
      "execution_count": null,
      "outputs": [
        {
          "output_type": "error",
          "ename": "AttributeError",
          "evalue": "ignored",
          "traceback": [
            "\u001b[0;31m---------------------------------------------------------------------------\u001b[0m",
            "\u001b[0;31mAttributeError\u001b[0m                            Traceback (most recent call last)",
            "\u001b[0;32m<ipython-input-19-01e7fc5579f6>\u001b[0m in \u001b[0;36m<module>\u001b[0;34m()\u001b[0m\n\u001b[0;32m----> 1\u001b[0;31m \u001b[0mprint\u001b[0m\u001b[0;34m(\u001b[0m\u001b[0mescalar\u001b[0m\u001b[0;34m.\u001b[0m\u001b[0mshape\u001b[0m\u001b[0;34m)\u001b[0m\u001b[0;34m\u001b[0m\u001b[0;34m\u001b[0m\u001b[0m\n\u001b[0m",
            "\u001b[0;31mAttributeError\u001b[0m: 'int' object has no attribute 'shape'"
          ]
        }
      ]
    },
    {
      "cell_type": "code",
      "metadata": {
        "colab": {
          "base_uri": "https://localhost:8080/"
        },
        "outputId": "253994d8-acd5-43dc-f1d8-27dbeefae27d",
        "id": "_KNs6CUY2laO"
      },
      "source": [
        "vector.shape"
      ],
      "execution_count": null,
      "outputs": [
        {
          "output_type": "execute_result",
          "data": {
            "text/plain": [
              "(3,)"
            ]
          },
          "metadata": {},
          "execution_count": 20
        }
      ]
    },
    {
      "cell_type": "code",
      "metadata": {
        "colab": {
          "base_uri": "https://localhost:8080/"
        },
        "outputId": "fe8e8c00-30e0-425b-f98d-d1fb958ff574",
        "id": "IGGaUtlZ2laO"
      },
      "source": [
        "print(vector)"
      ],
      "execution_count": null,
      "outputs": [
        {
          "output_type": "stream",
          "name": "stdout",
          "text": [
            "[1 2 3]\n"
          ]
        }
      ]
    },
    {
      "cell_type": "code",
      "metadata": {
        "colab": {
          "base_uri": "https://localhost:8080/"
        },
        "outputId": "357f9e13-c751-4bb3-ef62-e2bd93fa291c",
        "id": "tWzJ5Avl2laP"
      },
      "source": [
        "len(vector)"
      ],
      "execution_count": null,
      "outputs": [
        {
          "output_type": "execute_result",
          "data": {
            "text/plain": [
              "3"
            ]
          },
          "metadata": {},
          "execution_count": 22
        }
      ]
    },
    {
      "cell_type": "code",
      "metadata": {
        "colab": {
          "base_uri": "https://localhost:8080/"
        },
        "outputId": "830bacb6-9a3b-4240-bc4d-fe81eeab3de6",
        "id": "Ok6WY7wO2laP"
      },
      "source": [
        "matriz.shape"
      ],
      "execution_count": null,
      "outputs": [
        {
          "output_type": "execute_result",
          "data": {
            "text/plain": [
              "(2, 2)"
            ]
          },
          "metadata": {},
          "execution_count": 23
        }
      ]
    },
    {
      "cell_type": "code",
      "metadata": {
        "colab": {
          "base_uri": "https://localhost:8080/"
        },
        "outputId": "85528216-6f4f-4fc7-d0bd-747115ca39b4",
        "id": "wNmhiwxy2laP"
      },
      "source": [
        "print(matriz)"
      ],
      "execution_count": null,
      "outputs": [
        {
          "output_type": "stream",
          "name": "stdout",
          "text": [
            "[[1 2]\n",
            " [3 4]]\n"
          ]
        }
      ]
    },
    {
      "cell_type": "code",
      "metadata": {
        "colab": {
          "base_uri": "https://localhost:8080/"
        },
        "outputId": "81b9a1b1-966d-4dcf-f743-458f6ffecaf7",
        "id": "Swyv6rrv2laQ"
      },
      "source": [
        "len(matriz)"
      ],
      "execution_count": null,
      "outputs": [
        {
          "output_type": "execute_result",
          "data": {
            "text/plain": [
              "2"
            ]
          },
          "metadata": {},
          "execution_count": 25
        }
      ]
    },
    {
      "cell_type": "code",
      "metadata": {
        "colab": {
          "base_uri": "https://localhost:8080/"
        },
        "outputId": "87208990-a9d5-433c-e5f2-01f92f905a7b",
        "id": "CNtA7UfV2laQ"
      },
      "source": [
        "print(matriz.size)"
      ],
      "execution_count": null,
      "outputs": [
        {
          "output_type": "stream",
          "name": "stdout",
          "text": [
            "4\n"
          ]
        }
      ]
    },
    {
      "cell_type": "code",
      "metadata": {
        "colab": {
          "base_uri": "https://localhost:8080/"
        },
        "outputId": "194880c4-2022-40de-eea6-cfeca97d6d06",
        "id": "xJZbwHsz2laQ"
      },
      "source": [
        "print(matriz.shape)"
      ],
      "execution_count": null,
      "outputs": [
        {
          "output_type": "stream",
          "name": "stdout",
          "text": [
            "(2, 2)\n"
          ]
        }
      ]
    },
    {
      "cell_type": "code",
      "metadata": {
        "colab": {
          "base_uri": "https://localhost:8080/"
        },
        "outputId": "99a4e807-b6bf-477b-a2cb-270cfb98ac7e",
        "id": "Pl2m4qKJ2laR"
      },
      "source": [
        "print(tensor.shape)"
      ],
      "execution_count": null,
      "outputs": [
        {
          "output_type": "stream",
          "name": "stdout",
          "text": [
            "(4, 3, 4)\n"
          ]
        }
      ]
    },
    {
      "cell_type": "code",
      "metadata": {
        "colab": {
          "base_uri": "https://localhost:8080/"
        },
        "outputId": "6cd61b01-75f3-447b-9077-493c9bc901e2",
        "id": "iakNfXcd2laR"
      },
      "source": [
        "print(tensor.size)"
      ],
      "execution_count": null,
      "outputs": [
        {
          "output_type": "stream",
          "name": "stdout",
          "text": [
            "48\n"
          ]
        }
      ]
    },
    {
      "cell_type": "code",
      "source": [
        "tensor"
      ],
      "metadata": {
        "colab": {
          "base_uri": "https://localhost:8080/"
        },
        "outputId": "d2ca4c38-0d54-49e4-f4b3-77e778cde960",
        "id": "HEEgC5p-2laR"
      },
      "execution_count": null,
      "outputs": [
        {
          "output_type": "execute_result",
          "data": {
            "text/plain": [
              "array([[[ 1,  2,  3,  4],\n",
              "        [ 4,  5,  6,  4],\n",
              "        [ 6,  7,  8,  4]],\n",
              "\n",
              "       [[11, 12, 13,  4],\n",
              "        [14, 15, 16,  4],\n",
              "        [17, 18, 19,  4]],\n",
              "\n",
              "       [[21, 22, 23,  4],\n",
              "        [24, 25, 26,  4],\n",
              "        [27, 28, 29,  4]],\n",
              "\n",
              "       [[21, 22, 23,  4],\n",
              "        [24, 25, 26,  4],\n",
              "        [27, 28, 29,  4]]])"
            ]
          },
          "metadata": {},
          "execution_count": 37
        }
      ]
    },
    {
      "cell_type": "markdown",
      "source": [
        "----"
      ],
      "metadata": {
        "id": "-Mw7VI8C2mQj"
      }
    },
    {
      "cell_type": "code",
      "source": [],
      "metadata": {
        "id": "XZVrYQak2ncV"
      },
      "execution_count": null,
      "outputs": []
    },
    {
      "cell_type": "code",
      "metadata": {
        "id": "AzzcVTCrjzxw"
      },
      "source": [
        "import numpy as np"
      ],
      "execution_count": null,
      "outputs": []
    },
    {
      "cell_type": "code",
      "metadata": {
        "id": "NboVoRB3jzzP"
      },
      "source": [
        "A = np.array([[2,3],[5,7],[11,13]])\n",
        "B = np.array([[1,3],[2,1]])\n",
        "C = np.array([[3,1],[4,2]])"
      ],
      "execution_count": null,
      "outputs": []
    },
    {
      "cell_type": "code",
      "metadata": {
        "id": "rOwxy8rDjzzS",
        "outputId": "7efdc352-6faf-418f-b699-8e1a3d4336b6"
      },
      "source": [
        "# Asociativa\n",
        "ABC = A.dot(B.dot(C))\n",
        "print(ABC)"
      ],
      "execution_count": null,
      "outputs": [
        {
          "output_type": "stream",
          "text": [
            "[[ 60  26]\n",
            " [145  63]\n",
            " [295 129]]\n"
          ],
          "name": "stdout"
        }
      ]
    },
    {
      "cell_type": "code",
      "metadata": {
        "id": "ttYprW5PjzzW",
        "outputId": "560c5d76-7cf2-48a5-e8ec-3578a779587b"
      },
      "source": [
        "AB_C = A.dot(B).dot(C)\n",
        "print(AB_C)"
      ],
      "execution_count": null,
      "outputs": [
        {
          "output_type": "stream",
          "text": [
            "[[ 60  26]\n",
            " [145  63]\n",
            " [295 129]]\n"
          ],
          "name": "stdout"
        }
      ]
    },
    {
      "cell_type": "code",
      "metadata": {
        "id": "1488e3dpjzz5"
      },
      "source": [
        "#Distrbutiva\n",
        "D = A.dot(B+C)\n",
        "E = (A.dot(B))+(A.dot(C))"
      ],
      "execution_count": null,
      "outputs": []
    },
    {
      "cell_type": "code",
      "metadata": {
        "id": "8yGFWQ5Ojz0E",
        "outputId": "88a0a40e-ca8e-4a50-cb98-de14f7c6b09e"
      },
      "source": [
        "print(D)\n",
        "print(E)"
      ],
      "execution_count": null,
      "outputs": [
        {
          "output_type": "stream",
          "text": [
            "[[ 26  17]\n",
            " [ 62  41]\n",
            " [122  83]]\n",
            "[[ 26  17]\n",
            " [ 62  41]\n",
            " [122  83]]\n"
          ],
          "name": "stdout"
        }
      ]
    },
    {
      "cell_type": "code",
      "metadata": {
        "id": "BA7oKkVpjz0F",
        "outputId": "2f158dd8-ce1b-462d-94d8-cdeb8198f982"
      },
      "source": [
        "print(D==E)"
      ],
      "execution_count": null,
      "outputs": [
        {
          "output_type": "stream",
          "text": [
            "[[ True  True]\n",
            " [ True  True]\n",
            " [ True  True]]\n"
          ],
          "name": "stdout"
        }
      ]
    },
    {
      "cell_type": "code",
      "metadata": {
        "id": "nf8pPQV2jz08"
      },
      "source": [
        "F = B.dot(C)"
      ],
      "execution_count": null,
      "outputs": []
    },
    {
      "cell_type": "code",
      "metadata": {
        "id": "yd0gFx6_jz09"
      },
      "source": [
        "G = C.dot(B)"
      ],
      "execution_count": null,
      "outputs": []
    },
    {
      "cell_type": "code",
      "metadata": {
        "id": "_OyGiznrjz1Q",
        "outputId": "fa4cd199-b142-4e25-fddf-bd1ed1683ed8"
      },
      "source": [
        "print(F==G)"
      ],
      "execution_count": null,
      "outputs": [
        {
          "output_type": "stream",
          "text": [
            "[[False False]\n",
            " [False False]]\n"
          ],
          "name": "stdout"
        }
      ]
    },
    {
      "cell_type": "code",
      "metadata": {
        "id": "E4xJmra7jz1S",
        "outputId": "570f74d1-12bd-445f-baab-4ae11e6c6db7"
      },
      "source": [
        "print(F)"
      ],
      "execution_count": null,
      "outputs": [
        {
          "output_type": "stream",
          "text": [
            "[[15  7]\n",
            " [10  4]]\n"
          ],
          "name": "stdout"
        }
      ]
    },
    {
      "cell_type": "code",
      "metadata": {
        "id": "ENbOzzPGjz1T",
        "outputId": "d31d530c-21ef-415d-b097-ba6e1071a1a9"
      },
      "source": [
        "print(G)"
      ],
      "execution_count": null,
      "outputs": [
        {
          "output_type": "stream",
          "text": [
            "[[ 5 10]\n",
            " [ 8 14]]\n"
          ],
          "name": "stdout"
        }
      ]
    },
    {
      "cell_type": "code",
      "metadata": {
        "id": "C2ufFw5Wjz1V"
      },
      "source": [
        "v1 = np.array([[2],[7]])\n",
        "v2 = np.array([[3],[5]])"
      ],
      "execution_count": null,
      "outputs": []
    },
    {
      "cell_type": "code",
      "metadata": {
        "id": "TcI97pQOjz1W"
      },
      "source": [
        "v1_tv2 = v1.T.dot(v2)\n",
        "v2_tv1 = v2.T.dot(v1)"
      ],
      "execution_count": null,
      "outputs": []
    },
    {
      "cell_type": "code",
      "metadata": {
        "id": "IufCtqAIjz1h",
        "outputId": "03878ce7-3716-4fe8-f60b-7ff14e876a0c"
      },
      "source": [
        "print(v1_tv2)"
      ],
      "execution_count": null,
      "outputs": [
        {
          "output_type": "stream",
          "text": [
            "[[41]]\n"
          ],
          "name": "stdout"
        }
      ]
    },
    {
      "cell_type": "code",
      "source": [],
      "metadata": {
        "id": "uGYc5uEt38hD"
      },
      "execution_count": null,
      "outputs": []
    },
    {
      "cell_type": "code",
      "metadata": {
        "id": "zh5mQCTfjz1p",
        "outputId": "a89695f0-a20e-4625-ab6a-d2e1fdbf6385"
      },
      "source": [
        "print(v2_tv1)"
      ],
      "execution_count": null,
      "outputs": [
        {
          "output_type": "stream",
          "text": [
            "[[41]]\n"
          ],
          "name": "stdout"
        }
      ]
    },
    {
      "cell_type": "markdown",
      "source": [
        "----"
      ],
      "metadata": {
        "id": "8rev_JJH4AUM"
      }
    },
    {
      "cell_type": "code",
      "source": [],
      "metadata": {
        "id": "UTfitiKf3-qK"
      },
      "execution_count": null,
      "outputs": []
    },
    {
      "cell_type": "code",
      "metadata": {
        "id": "pzmL-WPc3Waf"
      },
      "source": [
        "A = np.array([[2,3],[5,7],[11,13]])\n",
        "B = np.array([[1,3],[2,1]])"
      ],
      "execution_count": null,
      "outputs": []
    },
    {
      "cell_type": "code",
      "metadata": {
        "id": "rKVYLZtd3Waj",
        "colab": {
          "base_uri": "https://localhost:8080/"
        },
        "outputId": "573ab96f-185d-4d65-b147-053cdad1e6b6"
      },
      "source": [
        "print(A)"
      ],
      "execution_count": null,
      "outputs": [
        {
          "output_type": "stream",
          "text": [
            "[[ 2  3]\n",
            " [ 5  7]\n",
            " [11 13]]\n"
          ],
          "name": "stdout"
        }
      ]
    },
    {
      "cell_type": "code",
      "metadata": {
        "id": "6twk5Qh53Wbe",
        "colab": {
          "base_uri": "https://localhost:8080/"
        },
        "outputId": "98dafd9d-7786-42f1-d200-798249e56467"
      },
      "source": [
        "print(B)"
      ],
      "execution_count": null,
      "outputs": [
        {
          "output_type": "stream",
          "text": [
            "[[1 3]\n",
            " [2 1]]\n"
          ],
          "name": "stdout"
        }
      ]
    },
    {
      "cell_type": "code",
      "metadata": {
        "id": "aA_pwWTC3Wbg",
        "colab": {
          "base_uri": "https://localhost:8080/"
        },
        "outputId": "3918f3e5-6c38-4c8e-8451-a3e9b18e6bd5"
      },
      "source": [
        "AB_t = A.dot(B).T\n",
        "print(AB_t)"
      ],
      "execution_count": null,
      "outputs": [
        {
          "output_type": "stream",
          "text": [
            "[[ 8 19 37]\n",
            " [ 9 22 46]]\n"
          ],
          "name": "stdout"
        }
      ]
    },
    {
      "cell_type": "code",
      "metadata": {
        "id": "Ud0PbDzt3Wbu"
      },
      "source": [
        "B_tA_t = B.T.dot(A.T)"
      ],
      "execution_count": null,
      "outputs": []
    },
    {
      "cell_type": "code",
      "metadata": {
        "id": "27X0ErDS3Wbw",
        "outputId": "ff643227-51f2-4e38-932a-04d6f26e830e"
      },
      "source": [
        "print(AB_t == B_tA_t)"
      ],
      "execution_count": null,
      "outputs": [
        {
          "output_type": "stream",
          "text": [
            "[[ True  True  True]\n",
            " [ True  True  True]]\n"
          ],
          "name": "stdout"
        }
      ]
    },
    {
      "cell_type": "code",
      "metadata": {
        "id": "CaxWY_R93Wbz",
        "outputId": "9411aded-d9d9-41e1-da3e-d72f131e76ea"
      },
      "source": [
        "print(AB_t)"
      ],
      "execution_count": null,
      "outputs": [
        {
          "output_type": "stream",
          "text": [
            "[[ 8 19 37]\n",
            " [ 9 22 46]]\n"
          ],
          "name": "stdout"
        }
      ]
    },
    {
      "cell_type": "markdown",
      "source": [
        "----"
      ],
      "metadata": {
        "id": "wfFvEMWy4X6u"
      }
    },
    {
      "cell_type": "code",
      "metadata": {
        "id": "GUTsDr-A3WcE"
      },
      "source": [],
      "execution_count": null,
      "outputs": []
    },
    {
      "cell_type": "code",
      "metadata": {
        "id": "ybqb1yYGGRXl"
      },
      "source": [
        "%matplotlib inline"
      ],
      "execution_count": null,
      "outputs": []
    },
    {
      "cell_type": "code",
      "metadata": {
        "id": "47e5OMY_GRXv"
      },
      "source": [
        "import numpy as np\n",
        "import matplotlib.pyplot as plt"
      ],
      "execution_count": null,
      "outputs": []
    },
    {
      "cell_type": "code",
      "metadata": {
        "id": "HgY1GaxmGRXx"
      },
      "source": [
        "x = np.arange(-5,5)"
      ],
      "execution_count": null,
      "outputs": []
    },
    {
      "cell_type": "code",
      "source": [
        "x"
      ],
      "metadata": {
        "id": "fnmceLFNjcjz",
        "outputId": "ffe1f24d-69f9-4723-8c2a-d3bdcd942128",
        "colab": {
          "base_uri": "https://localhost:8080/"
        }
      },
      "execution_count": null,
      "outputs": [
        {
          "output_type": "execute_result",
          "data": {
            "text/plain": [
              "array([-5, -4, -3, -2, -1,  0,  1,  2,  3,  4])"
            ]
          },
          "metadata": {},
          "execution_count": 5
        }
      ]
    },
    {
      "cell_type": "code",
      "metadata": {
        "id": "1mUnm8H3GRXx"
      },
      "source": [
        "y_1 = 3*x + 5\n",
        "y_2 = 2*x + 3"
      ],
      "execution_count": null,
      "outputs": []
    },
    {
      "cell_type": "code",
      "metadata": {
        "id": "XE1fWqI1GRXz",
        "colab": {
          "base_uri": "https://localhost:8080/",
          "height": 265
        },
        "outputId": "1235b2ef-d74f-480f-d872-985ff0e178f9"
      },
      "source": [
        "plt.figure()\n",
        "\n",
        "plt.plot(x, y_1,'bo-')\n",
        "plt.plot(x, y_2,'yellow')\n",
        "\n",
        "plt.xlim(-5,5)\n",
        "plt.ylim(-5,5)\n",
        "\n",
        "plt.axvline(x=0, color='grey')\n",
        "plt.axhline(y=0, color='grey')\n",
        "plt.show()"
      ],
      "execution_count": null,
      "outputs": [
        {
          "output_type": "display_data",
          "data": {
            "text/plain": [
              "<Figure size 432x288 with 1 Axes>"
            ],
            "image/png": "[encoded data removed]"
          },
          "metadata": {
            "needs_background": "light"
          }
        }
      ]
    },
    {
      "cell_type": "code",
      "metadata": {
        "id": "oSd-fgd3GRX2",
        "colab": {
          "base_uri": "https://localhost:8080/"
        },
        "outputId": "9a5ca5b8-5257-43e3-fd9e-33617e2c01df"
      },
      "source": [
        "A = np.array([[-3, 1], [-2,1]])\n",
        "print(A)\n"
      ],
      "execution_count": null,
      "outputs": [
        {
          "output_type": "stream",
          "name": "stdout",
          "text": [
            "[[-3  1]\n",
            " [-2  1]]\n"
          ]
        }
      ]
    },
    {
      "cell_type": "code",
      "metadata": {
        "id": "cw50HEw8GRX3",
        "colab": {
          "base_uri": "https://localhost:8080/"
        },
        "outputId": "ff8eb62f-f909-401b-b0d2-805b3b74ca2f"
      },
      "source": [
        "b = np.array([[5],[3]])\n",
        "print(b)"
      ],
      "execution_count": null,
      "outputs": [
        {
          "output_type": "stream",
          "name": "stdout",
          "text": [
            "[[5]\n",
            " [3]]\n"
          ]
        }
      ]
    },
    {
      "cell_type": "code",
      "metadata": {
        "id": "JByytZYLGRX4",
        "colab": {
          "base_uri": "https://localhost:8080/"
        },
        "outputId": "b85316f4-7343-4730-9465-7679ca1b7702"
      },
      "source": [
        "sol_1 = np.array([-2,-1])\n",
        "print(sol_1)"
      ],
      "execution_count": null,
      "outputs": [
        {
          "output_type": "stream",
          "name": "stdout",
          "text": [
            "[-2 -1]\n"
          ]
        }
      ]
    },
    {
      "cell_type": "code",
      "metadata": {
        "id": "3N3Z_jSqGRX4",
        "colab": {
          "base_uri": "https://localhost:8080/"
        },
        "outputId": "79a1f38a-753a-4470-cbe1-487586b5bb6d"
      },
      "source": [
        "print(A.dot(sol_1))\n"
      ],
      "execution_count": null,
      "outputs": [
        {
          "output_type": "stream",
          "name": "stdout",
          "text": [
            "[5 3]\n"
          ]
        }
      ]
    },
    {
      "cell_type": "code",
      "metadata": {
        "colab": {
          "base_uri": "https://localhost:8080/"
        },
        "id": "2Zk-D4Bpq4xp",
        "outputId": "76f48fa3-868e-4391-82c4-b8040b5aa081"
      },
      "source": [
        "np.linalg.solve(A,b)"
      ],
      "execution_count": null,
      "outputs": [
        {
          "output_type": "execute_result",
          "data": {
            "text/plain": [
              "array([[-2.],\n",
              "       [-1.]])"
            ]
          },
          "metadata": {},
          "execution_count": 10
        }
      ]
    },
    {
      "cell_type": "code",
      "metadata": {
        "id": "VP5b0iuErwvF",
        "colab": {
          "base_uri": "https://localhost:8080/"
        },
        "outputId": "07ad421f-e0c2-423b-e5e2-0d30f15a9b8f"
      },
      "source": [
        "B=np.linalg.inv(A)\n",
        "B"
      ],
      "execution_count": null,
      "outputs": [
        {
          "output_type": "execute_result",
          "data": {
            "text/plain": [
              "array([[-1.,  1.],\n",
              "       [-2.,  3.]])"
            ]
          },
          "metadata": {},
          "execution_count": 15
        }
      ]
    },
    {
      "cell_type": "code",
      "metadata": {
        "colab": {
          "base_uri": "https://localhost:8080/"
        },
        "id": "PALwkpDGr5Fz",
        "outputId": "e376135e-3b6d-4ef8-89f4-789219a2dc19"
      },
      "source": [
        "sol_2=np.dot(B,b)\n",
        "print(sol_2)"
      ],
      "execution_count": null,
      "outputs": [
        {
          "output_type": "stream",
          "name": "stdout",
          "text": [
            "[[-2.]\n",
            " [-1.]]\n"
          ]
        }
      ]
    },
    {
      "cell_type": "code",
      "metadata": {
        "id": "NNo7RxuJsIv3"
      },
      "source": [],
      "execution_count": null,
      "outputs": []
    }
  ]
}